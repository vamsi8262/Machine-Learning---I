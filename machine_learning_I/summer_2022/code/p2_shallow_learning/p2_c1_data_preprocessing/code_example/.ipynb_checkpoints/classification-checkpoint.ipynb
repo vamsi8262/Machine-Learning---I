{
 "cells": [
  {
   "cell_type": "markdown",
   "metadata": {
    "colab_type": "text",
    "id": "M7-0S4xezlEf",
    "toc": true
   },
   "source": [
    "<h1>Table of Contents<span class=\"tocSkip\"></span></h1>\n",
    "<div class=\"toc\"><ul class=\"toc-item\"><li><span><a href=\"#Overview\" data-toc-modified-id=\"Overview-1\"><span class=\"toc-item-num\">1&nbsp;&nbsp;</span>Overview</a></span></li><li><span><a href=\"#Notebook-Configuration\" data-toc-modified-id=\"Notebook-Configuration-2\"><span class=\"toc-item-num\">2&nbsp;&nbsp;</span>Notebook Configuration</a></span><ul class=\"toc-item\"><li><span><a href=\"#Google-drive\" data-toc-modified-id=\"Google-drive-2.1\"><span class=\"toc-item-num\">2.1&nbsp;&nbsp;</span>Google drive</a></span></li><li><span><a href=\"#Warning\" data-toc-modified-id=\"Warning-2.2\"><span class=\"toc-item-num\">2.2&nbsp;&nbsp;</span>Warning</a></span></li><li><span><a href=\"#Matplotlib\" data-toc-modified-id=\"Matplotlib-2.3\"><span class=\"toc-item-num\">2.3&nbsp;&nbsp;</span>Matplotlib</a></span></li><li><span><a href=\"#TensorFlow\" data-toc-modified-id=\"TensorFlow-2.4\"><span class=\"toc-item-num\">2.4&nbsp;&nbsp;</span>TensorFlow</a></span></li><li><span><a href=\"#Random-seed\" data-toc-modified-id=\"Random-seed-2.5\"><span class=\"toc-item-num\">2.5&nbsp;&nbsp;</span>Random seed</a></span></li></ul></li><li><span><a href=\"#Data-Preprocessing\" data-toc-modified-id=\"Data-Preprocessing-3\"><span class=\"toc-item-num\">3&nbsp;&nbsp;</span>Data Preprocessing</a></span><ul class=\"toc-item\"><li><span><a href=\"#Loading-the-data\" data-toc-modified-id=\"Loading-the-data-3.1\"><span class=\"toc-item-num\">3.1&nbsp;&nbsp;</span>Loading the data</a></span></li><li><span><a href=\"#Splitting-the-data\" data-toc-modified-id=\"Splitting-the-data-3.2\"><span class=\"toc-item-num\">3.2&nbsp;&nbsp;</span>Splitting the data</a></span></li><li><span><a href=\"#Handling-uncommon-features\" data-toc-modified-id=\"Handling-uncommon-features-3.3\"><span class=\"toc-item-num\">3.3&nbsp;&nbsp;</span>Handling uncommon features</a></span><ul class=\"toc-item\"><li><span><a href=\"#Identifying-uncommon-features\" data-toc-modified-id=\"Identifying-uncommon-features-3.3.1\"><span class=\"toc-item-num\">3.3.1&nbsp;&nbsp;</span>Identifying uncommon features</a></span></li><li><span><a href=\"#Removing-uncommon-features\" data-toc-modified-id=\"Removing-uncommon-features-3.3.2\"><span class=\"toc-item-num\">3.3.2&nbsp;&nbsp;</span>Removing uncommon features</a></span></li></ul></li><li><span><a href=\"#Handling-identifiers\" data-toc-modified-id=\"Handling-identifiers-3.4\"><span class=\"toc-item-num\">3.4&nbsp;&nbsp;</span>Handling identifiers</a></span><ul class=\"toc-item\"><li><span><a href=\"#Combining-the-training,-validation-and-test-data\" data-toc-modified-id=\"Combining-the-training,-validation-and-test-data-3.4.1\"><span class=\"toc-item-num\">3.4.1&nbsp;&nbsp;</span>Combining the training, validation and test data</a></span></li><li><span><a href=\"#Identifying-identifiers\" data-toc-modified-id=\"Identifying-identifiers-3.4.2\"><span class=\"toc-item-num\">3.4.2&nbsp;&nbsp;</span>Identifying identifiers</a></span></li><li><span><a href=\"#Removing-identifiers\" data-toc-modified-id=\"Removing-identifiers-3.4.3\"><span class=\"toc-item-num\">3.4.3&nbsp;&nbsp;</span>Removing identifiers</a></span></li></ul></li><li><span><a href=\"#Handling-date-time-variables\" data-toc-modified-id=\"Handling-date-time-variables-3.5\"><span class=\"toc-item-num\">3.5&nbsp;&nbsp;</span>Handling date time variables</a></span><ul class=\"toc-item\"><li><span><a href=\"#Transforming-date-time-variables\" data-toc-modified-id=\"Transforming-date-time-variables-3.5.1\"><span class=\"toc-item-num\">3.5.1&nbsp;&nbsp;</span>Transforming date time variables</a></span></li></ul></li><li><span><a href=\"#Handling-missing-data\" data-toc-modified-id=\"Handling-missing-data-3.6\"><span class=\"toc-item-num\">3.6&nbsp;&nbsp;</span>Handling missing data</a></span><ul class=\"toc-item\"><li><span><a href=\"#Combining-the-training,-validation-and-test-data\" data-toc-modified-id=\"Combining-the-training,-validation-and-test-data-3.6.1\"><span class=\"toc-item-num\">3.6.1&nbsp;&nbsp;</span>Combining the training, validation and test data</a></span></li><li><span><a href=\"#Identifying-missing-values\" data-toc-modified-id=\"Identifying-missing-values-3.6.2\"><span class=\"toc-item-num\">3.6.2&nbsp;&nbsp;</span>Identifying missing values</a></span></li><li><span><a href=\"#Separating-the-training,-validation-and-test-data\" data-toc-modified-id=\"Separating-the-training,-validation-and-test-data-3.6.3\"><span class=\"toc-item-num\">3.6.3&nbsp;&nbsp;</span>Separating the training, validation and test data</a></span></li><li><span><a href=\"#Removing-missing-values\" data-toc-modified-id=\"Removing-missing-values-3.6.4\"><span class=\"toc-item-num\">3.6.4&nbsp;&nbsp;</span>Removing missing values</a></span></li><li><span><a href=\"#Imputing-missing-values\" data-toc-modified-id=\"Imputing-missing-values-3.6.5\"><span class=\"toc-item-num\">3.6.5&nbsp;&nbsp;</span>Imputing missing values</a></span></li></ul></li><li><span><a href=\"#Encoding-the-data\" data-toc-modified-id=\"Encoding-the-data-3.7\"><span class=\"toc-item-num\">3.7&nbsp;&nbsp;</span>Encoding the data</a></span><ul class=\"toc-item\"><li><span><a href=\"#Combining-the-training,-validation-and-test-data\" data-toc-modified-id=\"Combining-the-training,-validation-and-test-data-3.7.1\"><span class=\"toc-item-num\">3.7.1&nbsp;&nbsp;</span>Combining the training, validation and test data</a></span></li><li><span><a href=\"#Identifying-categorical-variables\" data-toc-modified-id=\"Identifying-categorical-variables-3.7.2\"><span class=\"toc-item-num\">3.7.2&nbsp;&nbsp;</span>Identifying categorical variables</a></span></li><li><span><a href=\"#Encoding-categorical-features\" data-toc-modified-id=\"Encoding-categorical-features-3.7.3\"><span class=\"toc-item-num\">3.7.3&nbsp;&nbsp;</span>Encoding categorical features</a></span></li><li><span><a href=\"#Encoding-categorical-target\" data-toc-modified-id=\"Encoding-categorical-target-3.7.4\"><span class=\"toc-item-num\">3.7.4&nbsp;&nbsp;</span>Encoding categorical target</a></span></li><li><span><a href=\"#Separating-the-training,-validation-and-test-data\" data-toc-modified-id=\"Separating-the-training,-validation-and-test-data-3.7.5\"><span class=\"toc-item-num\">3.7.5&nbsp;&nbsp;</span>Separating the training, validation and test data</a></span></li></ul></li><li><span><a href=\"#Splitting-the-feature-and-target\" data-toc-modified-id=\"Splitting-the-feature-and-target-3.8\"><span class=\"toc-item-num\">3.8&nbsp;&nbsp;</span>Splitting the feature and target</a></span></li><li><span><a href=\"#Scaling-the-data\" data-toc-modified-id=\"Scaling-the-data-3.9\"><span class=\"toc-item-num\">3.9&nbsp;&nbsp;</span>Scaling the data</a></span><ul class=\"toc-item\"><li><span><a href=\"#Min-Max-Normalization\" data-toc-modified-id=\"Min-Max-Normalization-3.9.1\"><span class=\"toc-item-num\">3.9.1&nbsp;&nbsp;</span>Min-Max Normalization</a></span><ul class=\"toc-item\"><li><span><a href=\"#Normalizing-the-features\" data-toc-modified-id=\"Normalizing-the-features-3.9.1.1\"><span class=\"toc-item-num\">3.9.1.1&nbsp;&nbsp;</span>Normalizing the features</a></span></li></ul></li><li><span><a href=\"#Standardization\" data-toc-modified-id=\"Standardization-3.9.2\"><span class=\"toc-item-num\">3.9.2&nbsp;&nbsp;</span>Standardization</a></span><ul class=\"toc-item\"><li><span><a href=\"#Standardizing-the-features\" data-toc-modified-id=\"Standardizing-the-features-3.9.2.1\"><span class=\"toc-item-num\">3.9.2.1&nbsp;&nbsp;</span>Standardizing the features</a></span></li></ul></li></ul></li><li><span><a href=\"#Handling-class-imbalance\" data-toc-modified-id=\"Handling-class-imbalance-3.10\"><span class=\"toc-item-num\">3.10&nbsp;&nbsp;</span>Handling class imbalance</a></span><ul class=\"toc-item\"><li><span><a href=\"#Get-the-class-distribution\" data-toc-modified-id=\"Get-the-class-distribution-3.10.1\"><span class=\"toc-item-num\">3.10.1&nbsp;&nbsp;</span>Get the class distribution</a></span></li><li><span><a href=\"#Plot-the-scatter-plot\" data-toc-modified-id=\"Plot-the-scatter-plot-3.10.2\"><span class=\"toc-item-num\">3.10.2&nbsp;&nbsp;</span>Plot the scatter plot</a></span></li><li><span><a href=\"#RandomOverSampler\" data-toc-modified-id=\"RandomOverSampler-3.10.3\"><span class=\"toc-item-num\">3.10.3&nbsp;&nbsp;</span>RandomOverSampler</a></span><ul class=\"toc-item\"><li><span><a href=\"#Get-the-class-distribution\" data-toc-modified-id=\"Get-the-class-distribution-3.10.3.1\"><span class=\"toc-item-num\">3.10.3.1&nbsp;&nbsp;</span>Get the class distribution</a></span></li><li><span><a href=\"#Separate-the-duplicated-class-from-the-original-class\" data-toc-modified-id=\"Separate-the-duplicated-class-from-the-original-class-3.10.3.2\"><span class=\"toc-item-num\">3.10.3.2&nbsp;&nbsp;</span>Separate the duplicated class from the original class</a></span></li><li><span><a href=\"#Plot-the-scatter-plot\" data-toc-modified-id=\"Plot-the-scatter-plot-3.10.3.3\"><span class=\"toc-item-num\">3.10.3.3&nbsp;&nbsp;</span>Plot the scatter plot</a></span></li></ul></li><li><span><a href=\"#SMOTE\" data-toc-modified-id=\"SMOTE-3.10.4\"><span class=\"toc-item-num\">3.10.4&nbsp;&nbsp;</span>SMOTE</a></span><ul class=\"toc-item\"><li><span><a href=\"#Get-the-class-distribution\" data-toc-modified-id=\"Get-the-class-distribution-3.10.4.1\"><span class=\"toc-item-num\">3.10.4.1&nbsp;&nbsp;</span>Get the class distribution</a></span></li><li><span><a href=\"#Separate-the-generated-class-from-the-original-class\" data-toc-modified-id=\"Separate-the-generated-class-from-the-original-class-3.10.4.2\"><span class=\"toc-item-num\">3.10.4.2&nbsp;&nbsp;</span>Separate the generated class from the original class</a></span></li><li><span><a href=\"#Plot-the-scatter-plot\" data-toc-modified-id=\"Plot-the-scatter-plot-3.10.4.3\"><span class=\"toc-item-num\">3.10.4.3&nbsp;&nbsp;</span>Plot the scatter plot</a></span></li></ul></li></ul></li></ul></li></ul></div>"
   ]
  },
  {
   "cell_type": "markdown",
   "metadata": {
    "colab_type": "text",
    "id": "42yc1zUrzlEh"
   },
   "source": [
    "<b>\n",
    "<p>\n",
    "<center>\n",
    "<font size=\"5\">\n",
    "Popular Machine Learning Methods: Idea, Practice and Math\n",
    "</font>\n",
    "</center>\n",
    "</p>\n",
    "\n",
    "<p>\n",
    "<center>\n",
    "<font size=\"4\">\n",
    "Part 2, Chapter 1: Data Preprocessing\n",
    "</font>\n",
    "</center>\n",
    "</p>\n",
    "    \n",
    "<p>\n",
    "<center>\n",
    "<font size=\"4\">\n",
    "Code Example: Classification\n",
    "</font>\n",
    "</center>\n",
    "</p>\n",
    "\n",
    "<p>\n",
    "<center>\n",
    "<font size=\"3\">\n",
    "Data Science, Columbian College of Arts & Sciences, George Washington University\n",
    "</font>\n",
    "</center>\n",
    "</p>\n",
    "\n",
    "<p>\n",
    "<center>\n",
    "<font size=\"3\">\n",
    "Yuxiao Huang\n",
    "</font>\n",
    "</center>\n",
    "</p>\n",
    "</b>"
   ]
  },
  {
   "cell_type": "markdown",
   "metadata": {
    "colab_type": "text",
    "id": "rT2SKHw2zlEi"
   },
   "source": [
    "# Overview"
   ]
  },
  {
   "cell_type": "markdown",
   "metadata": {
    "colab_type": "text",
    "id": "asZWLrJKzlEj"
   },
   "source": [
    "- This notebook includes the code example for Data Preprocessing (Part 2, Chapter 1).\n",
    "- See the accompanied slides in our [github repository](https://github.com/yuxiaohuang/teaching/tree/master/gwu/machine_learning_I/fall_2020/slides/p2_shallow_learning/p2_c2_supervised_learning/p2_c1_data_preprocessing)."
   ]
  },
  {
   "cell_type": "markdown",
   "metadata": {
    "colab_type": "text",
    "id": "WJ-IbZqAgILJ"
   },
   "source": [
    "# Notebook Configuration"
   ]
  },
  {
   "cell_type": "markdown",
   "metadata": {
    "colab_type": "text",
    "id": "H3yB94KtgMHu"
   },
   "source": [
    "## Google drive"
   ]
  },
  {
   "cell_type": "code",
   "execution_count": 1,
   "metadata": {
    "colab": {
     "base_uri": "https://localhost:8080/",
     "height": 122
    },
    "colab_type": "code",
    "executionInfo": {
     "elapsed": 18418,
     "status": "ok",
     "timestamp": 1598497339976,
     "user": {
      "displayName": "Huang Yuxiao",
      "photoUrl": "",
      "userId": "05167076769245149404"
     },
     "user_tz": 240
    },
    "id": "jWmYBTOwgNs-",
    "outputId": "981ee10c-04a6-477e-8087-efe6279308eb"
   },
   "outputs": [
    {
     "name": "stdout",
     "output_type": "stream",
     "text": [
      "Go to this URL in a browser: https://accounts.google.com/o/oauth2/auth?client_id=947318989803-6bn6qk8qdgf4n4g3pfee6491hc0brc4i.apps.googleusercontent.com&redirect_uri=urn%3aietf%3awg%3aoauth%3a2.0%3aoob&scope=email%20https%3a%2f%2fwww.googleapis.com%2fauth%2fdocs.test%20https%3a%2f%2fwww.googleapis.com%2fauth%2fdrive%20https%3a%2f%2fwww.googleapis.com%2fauth%2fdrive.photos.readonly%20https%3a%2f%2fwww.googleapis.com%2fauth%2fpeopleapi.readonly&response_type=code\n",
      "\n",
      "Enter your authorization code:\n",
      "··········\n",
      "Mounted at /content/drive\n"
     ]
    }
   ],
   "source": [
    "from google.colab import drive\n",
    "import sys\n",
    "\n",
    "# Mount Google Drive\n",
    "drive.mount('/content/drive')\n",
    "\n",
    "# Get the absolute path of the current folder\n",
    "abspath_curr = '/content/drive/My Drive/Colab Notebooks/teaching/gwu/machine_learning_I/code/p2_shallow_learning/p2_c1_data_preprocessing/code_example/'\n",
    "\n",
    "# Get the absolute path of the shallow utilities folder\n",
    "abspath_util_shallow = '/content/drive/My Drive/Colab Notebooks/teaching/gwu/machine_learning_I/code/utilities/p2_shallow_learning/'\n",
    "\n",
    "# Get the absolute path of the shallow models folder\n",
    "abspath_model_shallow = '/content/drive/My Drive/Colab Notebooks/teaching/gwu/machine_learning_I/code/models/p2_shallow_learning/'"
   ]
  },
  {
   "cell_type": "markdown",
   "metadata": {
    "colab_type": "text",
    "id": "bYZhU1Wqgmqx"
   },
   "source": [
    "## Warning"
   ]
  },
  {
   "cell_type": "code",
   "execution_count": 2,
   "metadata": {
    "colab": {},
    "colab_type": "code",
    "executionInfo": {
     "elapsed": 18403,
     "status": "ok",
     "timestamp": 1598497339977,
     "user": {
      "displayName": "Huang Yuxiao",
      "photoUrl": "",
      "userId": "05167076769245149404"
     },
     "user_tz": 240
    },
    "id": "MUl4k83e4ANR"
   },
   "outputs": [],
   "source": [
    "import warnings\n",
    "\n",
    "# Ignore warnings\n",
    "warnings.filterwarnings('ignore')"
   ]
  },
  {
   "cell_type": "markdown",
   "metadata": {
    "colab_type": "text",
    "id": "6WMODpPfgn2U"
   },
   "source": [
    "## Matplotlib"
   ]
  },
  {
   "cell_type": "code",
   "execution_count": 3,
   "metadata": {
    "colab": {},
    "colab_type": "code",
    "executionInfo": {
     "elapsed": 18400,
     "status": "ok",
     "timestamp": 1598497339978,
     "user": {
      "displayName": "Huang Yuxiao",
      "photoUrl": "",
      "userId": "05167076769245149404"
     },
     "user_tz": 240
    },
    "id": "DBRVH9SB4ANb"
   },
   "outputs": [],
   "source": [
    "import matplotlib.pyplot as plt\n",
    "%matplotlib inline \n",
    "\n",
    "# Set matplotlib sizes\n",
    "plt.rc('font', size=20)\n",
    "plt.rc('axes', titlesize=20)\n",
    "plt.rc('axes', labelsize=20)\n",
    "plt.rc('xtick', labelsize=20)\n",
    "plt.rc('ytick', labelsize=20)\n",
    "plt.rc('legend', fontsize=20)\n",
    "plt.rc('figure', titlesize=20)"
   ]
  },
  {
   "cell_type": "markdown",
   "metadata": {
    "colab_type": "text",
    "id": "n-wNDk5nZhhO"
   },
   "source": [
    "## TensorFlow"
   ]
  },
  {
   "cell_type": "code",
   "execution_count": 4,
   "metadata": {
    "colab": {},
    "colab_type": "code",
    "executionInfo": {
     "elapsed": 19641,
     "status": "ok",
     "timestamp": 1598497341222,
     "user": {
      "displayName": "Huang Yuxiao",
      "photoUrl": "",
      "userId": "05167076769245149404"
     },
     "user_tz": 240
    },
    "id": "LjG43tEnZkfE"
   },
   "outputs": [],
   "source": [
    "# The magic below allows us to use tensorflow version 2.x\n",
    "%tensorflow_version 2.x \n",
    "import tensorflow as tf\n",
    "from tensorflow import keras"
   ]
  },
  {
   "cell_type": "markdown",
   "metadata": {
    "colab_type": "text",
    "id": "40FN3UNfO2Z7"
   },
   "source": [
    "## Random seed"
   ]
  },
  {
   "cell_type": "code",
   "execution_count": 5,
   "metadata": {
    "colab": {},
    "colab_type": "code",
    "executionInfo": {
     "elapsed": 19637,
     "status": "ok",
     "timestamp": 1598497341222,
     "user": {
      "displayName": "Huang Yuxiao",
      "photoUrl": "",
      "userId": "05167076769245149404"
     },
     "user_tz": 240
    },
    "id": "uSADk0hJP71d"
   },
   "outputs": [],
   "source": [
    "# The random seed\n",
    "random_seed = 42\n",
    "\n",
    "# Set random seed in tensorflow\n",
    "tf.random.set_seed(random_seed)\n",
    "\n",
    "# Set random seed in numpy\n",
    "import numpy as np\n",
    "np.random.seed(random_seed)"
   ]
  },
  {
   "cell_type": "markdown",
   "metadata": {
    "colab_type": "text",
    "id": "yAwfz8iYzlFC"
   },
   "source": [
    "# Data Preprocessing"
   ]
  },
  {
   "cell_type": "code",
   "execution_count": 6,
   "metadata": {
    "colab": {
     "base_uri": "https://localhost:8080/",
     "height": 34
    },
    "colab_type": "code",
    "executionInfo": {
     "elapsed": 21623,
     "status": "ok",
     "timestamp": 1598497343212,
     "user": {
      "displayName": "Huang Yuxiao",
      "photoUrl": "",
      "userId": "05167076769245149404"
     },
     "user_tz": 240
    },
    "id": "D-Mwc6MczlFD",
    "outputId": "aa198ef3-1b6d-42dd-8cb5-ae31ab5d7a9b"
   },
   "outputs": [
    {
     "name": "stdout",
     "output_type": "stream",
     "text": [
      "/content/drive/My Drive/Colab Notebooks/teaching/gwu/machine_learning_I/code/utilities/p2_shallow_learning\n"
     ]
    }
   ],
   "source": [
    "# Change working directory to the absolute path of the shallow utilities folder\n",
    "%cd $abspath_util_shallow\n",
    "\n",
    "# Import the shallow utitilities\n",
    "%run pmlm_utilities_shallow.ipynb"
   ]
  },
  {
   "cell_type": "markdown",
   "metadata": {
    "colab_type": "text",
    "id": "oIJsDoJGzlFE"
   },
   "source": [
    "## Loading the data"
   ]
  },
  {
   "cell_type": "markdown",
   "metadata": {
    "colab_type": "text",
    "id": "Rk5KMdxqzlFE"
   },
   "source": [
    "In this code example, we will use the [Breast Cancer Wisconsin (Diagnostic) dataset](https://www.kaggle.com/uciml/breast-cancer-wisconsin-data)."
   ]
  },
  {
   "cell_type": "code",
   "execution_count": 7,
   "metadata": {
    "colab": {},
    "colab_type": "code",
    "executionInfo": {
     "elapsed": 22662,
     "status": "ok",
     "timestamp": 1598497344265,
     "user": {
      "displayName": "Huang Yuxiao",
      "photoUrl": "",
      "userId": "05167076769245149404"
     },
     "user_tz": 240
    },
    "id": "eC6G3GdAyJKi",
    "scrolled": true
   },
   "outputs": [],
   "source": [
    "import pandas as pd\n",
    "\n",
    "# Load the raw data\n",
    "df_raw = pd.read_csv(abspath_curr + '/data/breast_cancer_wisconsin/datasets-180-408-data.csv',\n",
    "                     header=0)\n",
    "\n",
    "# Remove the unnamed column\n",
    "df_raw = df_raw.drop(columns='Unnamed: 32')\n",
    "\n",
    "# Make a copy of df_raw\n",
    "df = df_raw.copy(deep=True)\n",
    "\n",
    "# Get the name of the target\n",
    "target = 'diagnosis'"
   ]
  },
  {
   "cell_type": "code",
   "execution_count": 8,
   "metadata": {
    "colab": {
     "base_uri": "https://localhost:8080/",
     "height": 80
    },
    "colab_type": "code",
    "executionInfo": {
     "elapsed": 22659,
     "status": "ok",
     "timestamp": 1598497344265,
     "user": {
      "displayName": "Huang Yuxiao",
      "photoUrl": "",
      "userId": "05167076769245149404"
     },
     "user_tz": 240
    },
    "id": "zoA_w8-eyJKk",
    "outputId": "571db9ca-a4af-4c9d-b159-7e74601d7f25"
   },
   "outputs": [
    {
     "data": {
      "text/html": [
       "<div>\n",
       "<style scoped>\n",
       "    .dataframe tbody tr th:only-of-type {\n",
       "        vertical-align: middle;\n",
       "    }\n",
       "\n",
       "    .dataframe tbody tr th {\n",
       "        vertical-align: top;\n",
       "    }\n",
       "\n",
       "    .dataframe thead th {\n",
       "        text-align: right;\n",
       "    }\n",
       "</style>\n",
       "<table border=\"1\" class=\"dataframe\">\n",
       "  <thead>\n",
       "    <tr style=\"text-align: right;\">\n",
       "      <th></th>\n",
       "      <th># rows</th>\n",
       "      <th># columns</th>\n",
       "    </tr>\n",
       "  </thead>\n",
       "  <tbody>\n",
       "    <tr>\n",
       "      <th>0</th>\n",
       "      <td>569</td>\n",
       "      <td>32</td>\n",
       "    </tr>\n",
       "  </tbody>\n",
       "</table>\n",
       "</div>"
      ],
      "text/plain": [
       "   # rows  # columns\n",
       "0     569         32"
      ]
     },
     "execution_count": 8,
     "metadata": {
      "tags": []
     },
     "output_type": "execute_result"
    }
   ],
   "source": [
    "# Print the dimension of df\n",
    "pd.DataFrame([[df.shape[0], df.shape[1]]], columns=['# rows', '# columns'])"
   ]
  },
  {
   "cell_type": "code",
   "execution_count": 9,
   "metadata": {
    "colab": {
     "base_uri": "https://localhost:8080/",
     "height": 241
    },
    "colab_type": "code",
    "executionInfo": {
     "elapsed": 22871,
     "status": "ok",
     "timestamp": 1598497344491,
     "user": {
      "displayName": "Huang Yuxiao",
      "photoUrl": "",
      "userId": "05167076769245149404"
     },
     "user_tz": 240
    },
    "id": "srQBlGfRyJKo",
    "outputId": "210e7bcc-d203-446a-aab2-309a0ee71a99",
    "scrolled": false
   },
   "outputs": [
    {
     "data": {
      "text/html": [
       "<div>\n",
       "<style scoped>\n",
       "    .dataframe tbody tr th:only-of-type {\n",
       "        vertical-align: middle;\n",
       "    }\n",
       "\n",
       "    .dataframe tbody tr th {\n",
       "        vertical-align: top;\n",
       "    }\n",
       "\n",
       "    .dataframe thead th {\n",
       "        text-align: right;\n",
       "    }\n",
       "</style>\n",
       "<table border=\"1\" class=\"dataframe\">\n",
       "  <thead>\n",
       "    <tr style=\"text-align: right;\">\n",
       "      <th></th>\n",
       "      <th>id</th>\n",
       "      <th>diagnosis</th>\n",
       "      <th>radius_mean</th>\n",
       "      <th>texture_mean</th>\n",
       "      <th>perimeter_mean</th>\n",
       "      <th>area_mean</th>\n",
       "      <th>smoothness_mean</th>\n",
       "      <th>compactness_mean</th>\n",
       "      <th>concavity_mean</th>\n",
       "      <th>concave points_mean</th>\n",
       "      <th>symmetry_mean</th>\n",
       "      <th>fractal_dimension_mean</th>\n",
       "      <th>radius_se</th>\n",
       "      <th>texture_se</th>\n",
       "      <th>perimeter_se</th>\n",
       "      <th>area_se</th>\n",
       "      <th>smoothness_se</th>\n",
       "      <th>compactness_se</th>\n",
       "      <th>concavity_se</th>\n",
       "      <th>concave points_se</th>\n",
       "      <th>symmetry_se</th>\n",
       "      <th>fractal_dimension_se</th>\n",
       "      <th>radius_worst</th>\n",
       "      <th>texture_worst</th>\n",
       "      <th>perimeter_worst</th>\n",
       "      <th>area_worst</th>\n",
       "      <th>smoothness_worst</th>\n",
       "      <th>compactness_worst</th>\n",
       "      <th>concavity_worst</th>\n",
       "      <th>concave points_worst</th>\n",
       "      <th>symmetry_worst</th>\n",
       "      <th>fractal_dimension_worst</th>\n",
       "    </tr>\n",
       "  </thead>\n",
       "  <tbody>\n",
       "    <tr>\n",
       "      <th>0</th>\n",
       "      <td>842302</td>\n",
       "      <td>M</td>\n",
       "      <td>17.99</td>\n",
       "      <td>10.38</td>\n",
       "      <td>122.80</td>\n",
       "      <td>1001.0</td>\n",
       "      <td>0.11840</td>\n",
       "      <td>0.27760</td>\n",
       "      <td>0.3001</td>\n",
       "      <td>0.14710</td>\n",
       "      <td>0.2419</td>\n",
       "      <td>0.07871</td>\n",
       "      <td>1.0950</td>\n",
       "      <td>0.9053</td>\n",
       "      <td>8.589</td>\n",
       "      <td>153.40</td>\n",
       "      <td>0.006399</td>\n",
       "      <td>0.04904</td>\n",
       "      <td>0.05373</td>\n",
       "      <td>0.01587</td>\n",
       "      <td>0.03003</td>\n",
       "      <td>0.006193</td>\n",
       "      <td>25.38</td>\n",
       "      <td>17.33</td>\n",
       "      <td>184.60</td>\n",
       "      <td>2019.0</td>\n",
       "      <td>0.1622</td>\n",
       "      <td>0.6656</td>\n",
       "      <td>0.7119</td>\n",
       "      <td>0.2654</td>\n",
       "      <td>0.4601</td>\n",
       "      <td>0.11890</td>\n",
       "    </tr>\n",
       "    <tr>\n",
       "      <th>1</th>\n",
       "      <td>842517</td>\n",
       "      <td>M</td>\n",
       "      <td>20.57</td>\n",
       "      <td>17.77</td>\n",
       "      <td>132.90</td>\n",
       "      <td>1326.0</td>\n",
       "      <td>0.08474</td>\n",
       "      <td>0.07864</td>\n",
       "      <td>0.0869</td>\n",
       "      <td>0.07017</td>\n",
       "      <td>0.1812</td>\n",
       "      <td>0.05667</td>\n",
       "      <td>0.5435</td>\n",
       "      <td>0.7339</td>\n",
       "      <td>3.398</td>\n",
       "      <td>74.08</td>\n",
       "      <td>0.005225</td>\n",
       "      <td>0.01308</td>\n",
       "      <td>0.01860</td>\n",
       "      <td>0.01340</td>\n",
       "      <td>0.01389</td>\n",
       "      <td>0.003532</td>\n",
       "      <td>24.99</td>\n",
       "      <td>23.41</td>\n",
       "      <td>158.80</td>\n",
       "      <td>1956.0</td>\n",
       "      <td>0.1238</td>\n",
       "      <td>0.1866</td>\n",
       "      <td>0.2416</td>\n",
       "      <td>0.1860</td>\n",
       "      <td>0.2750</td>\n",
       "      <td>0.08902</td>\n",
       "    </tr>\n",
       "    <tr>\n",
       "      <th>2</th>\n",
       "      <td>84300903</td>\n",
       "      <td>M</td>\n",
       "      <td>19.69</td>\n",
       "      <td>21.25</td>\n",
       "      <td>130.00</td>\n",
       "      <td>1203.0</td>\n",
       "      <td>0.10960</td>\n",
       "      <td>0.15990</td>\n",
       "      <td>0.1974</td>\n",
       "      <td>0.12790</td>\n",
       "      <td>0.2069</td>\n",
       "      <td>0.05999</td>\n",
       "      <td>0.7456</td>\n",
       "      <td>0.7869</td>\n",
       "      <td>4.585</td>\n",
       "      <td>94.03</td>\n",
       "      <td>0.006150</td>\n",
       "      <td>0.04006</td>\n",
       "      <td>0.03832</td>\n",
       "      <td>0.02058</td>\n",
       "      <td>0.02250</td>\n",
       "      <td>0.004571</td>\n",
       "      <td>23.57</td>\n",
       "      <td>25.53</td>\n",
       "      <td>152.50</td>\n",
       "      <td>1709.0</td>\n",
       "      <td>0.1444</td>\n",
       "      <td>0.4245</td>\n",
       "      <td>0.4504</td>\n",
       "      <td>0.2430</td>\n",
       "      <td>0.3613</td>\n",
       "      <td>0.08758</td>\n",
       "    </tr>\n",
       "    <tr>\n",
       "      <th>3</th>\n",
       "      <td>84348301</td>\n",
       "      <td>M</td>\n",
       "      <td>11.42</td>\n",
       "      <td>20.38</td>\n",
       "      <td>77.58</td>\n",
       "      <td>386.1</td>\n",
       "      <td>0.14250</td>\n",
       "      <td>0.28390</td>\n",
       "      <td>0.2414</td>\n",
       "      <td>0.10520</td>\n",
       "      <td>0.2597</td>\n",
       "      <td>0.09744</td>\n",
       "      <td>0.4956</td>\n",
       "      <td>1.1560</td>\n",
       "      <td>3.445</td>\n",
       "      <td>27.23</td>\n",
       "      <td>0.009110</td>\n",
       "      <td>0.07458</td>\n",
       "      <td>0.05661</td>\n",
       "      <td>0.01867</td>\n",
       "      <td>0.05963</td>\n",
       "      <td>0.009208</td>\n",
       "      <td>14.91</td>\n",
       "      <td>26.50</td>\n",
       "      <td>98.87</td>\n",
       "      <td>567.7</td>\n",
       "      <td>0.2098</td>\n",
       "      <td>0.8663</td>\n",
       "      <td>0.6869</td>\n",
       "      <td>0.2575</td>\n",
       "      <td>0.6638</td>\n",
       "      <td>0.17300</td>\n",
       "    </tr>\n",
       "    <tr>\n",
       "      <th>4</th>\n",
       "      <td>84358402</td>\n",
       "      <td>M</td>\n",
       "      <td>20.29</td>\n",
       "      <td>14.34</td>\n",
       "      <td>135.10</td>\n",
       "      <td>1297.0</td>\n",
       "      <td>0.10030</td>\n",
       "      <td>0.13280</td>\n",
       "      <td>0.1980</td>\n",
       "      <td>0.10430</td>\n",
       "      <td>0.1809</td>\n",
       "      <td>0.05883</td>\n",
       "      <td>0.7572</td>\n",
       "      <td>0.7813</td>\n",
       "      <td>5.438</td>\n",
       "      <td>94.44</td>\n",
       "      <td>0.011490</td>\n",
       "      <td>0.02461</td>\n",
       "      <td>0.05688</td>\n",
       "      <td>0.01885</td>\n",
       "      <td>0.01756</td>\n",
       "      <td>0.005115</td>\n",
       "      <td>22.54</td>\n",
       "      <td>16.67</td>\n",
       "      <td>152.20</td>\n",
       "      <td>1575.0</td>\n",
       "      <td>0.1374</td>\n",
       "      <td>0.2050</td>\n",
       "      <td>0.4000</td>\n",
       "      <td>0.1625</td>\n",
       "      <td>0.2364</td>\n",
       "      <td>0.07678</td>\n",
       "    </tr>\n",
       "  </tbody>\n",
       "</table>\n",
       "</div>"
      ],
      "text/plain": [
       "         id diagnosis  ...  symmetry_worst  fractal_dimension_worst\n",
       "0    842302         M  ...          0.4601                  0.11890\n",
       "1    842517         M  ...          0.2750                  0.08902\n",
       "2  84300903         M  ...          0.3613                  0.08758\n",
       "3  84348301         M  ...          0.6638                  0.17300\n",
       "4  84358402         M  ...          0.2364                  0.07678\n",
       "\n",
       "[5 rows x 32 columns]"
      ]
     },
     "execution_count": 9,
     "metadata": {
      "tags": []
     },
     "output_type": "execute_result"
    }
   ],
   "source": [
    "# Print the first 5 rows of df\n",
    "df.head()"
   ]
  },
  {
   "cell_type": "markdown",
   "metadata": {
    "colab_type": "text",
    "id": "Sm04mTxDyJKs"
   },
   "source": [
    "## Splitting the data\n",
    "The code below shows how to divide the data into training (60%), validation (20%) and test (20%)."
   ]
  },
  {
   "cell_type": "code",
   "execution_count": 10,
   "metadata": {
    "colab": {},
    "colab_type": "code",
    "executionInfo": {
     "elapsed": 22857,
     "status": "ok",
     "timestamp": 1598497344491,
     "user": {
      "displayName": "Huang Yuxiao",
      "photoUrl": "",
      "userId": "05167076769245149404"
     },
     "user_tz": 240
    },
    "id": "10nSbPb5yJKt"
   },
   "outputs": [],
   "source": [
    "from sklearn.model_selection import train_test_split\n",
    "\n",
    "# Divide the data into training (60%) and test (40%)\n",
    "df_train, df_test = train_test_split(df, \n",
    "                                     train_size=0.6, \n",
    "                                     random_state=random_seed, \n",
    "                                     stratify=df[target])\n",
    "\n",
    "# Divide the test data into validation (50%) and test (50%)\n",
    "df_val, df_test = train_test_split(df_test, \n",
    "                                   train_size=0.5, \n",
    "                                   random_state=random_seed, \n",
    "                                   stratify=df_test[target])\n",
    "\n",
    "# Reset the index\n",
    "df_train, df_val, df_test = df_train.reset_index(drop=True), df_val.reset_index(drop=True), df_test.reset_index(drop=True)"
   ]
  },
  {
   "cell_type": "code",
   "execution_count": 11,
   "metadata": {
    "colab": {
     "base_uri": "https://localhost:8080/",
     "height": 80
    },
    "colab_type": "code",
    "executionInfo": {
     "elapsed": 22854,
     "status": "ok",
     "timestamp": 1598497344492,
     "user": {
      "displayName": "Huang Yuxiao",
      "photoUrl": "",
      "userId": "05167076769245149404"
     },
     "user_tz": 240
    },
    "id": "2cWsAS6CyJKu",
    "outputId": "585fc096-123e-4466-f618-45c92e8da22a"
   },
   "outputs": [
    {
     "data": {
      "text/html": [
       "<div>\n",
       "<style scoped>\n",
       "    .dataframe tbody tr th:only-of-type {\n",
       "        vertical-align: middle;\n",
       "    }\n",
       "\n",
       "    .dataframe tbody tr th {\n",
       "        vertical-align: top;\n",
       "    }\n",
       "\n",
       "    .dataframe thead th {\n",
       "        text-align: right;\n",
       "    }\n",
       "</style>\n",
       "<table border=\"1\" class=\"dataframe\">\n",
       "  <thead>\n",
       "    <tr style=\"text-align: right;\">\n",
       "      <th></th>\n",
       "      <th># rows</th>\n",
       "      <th># columns</th>\n",
       "    </tr>\n",
       "  </thead>\n",
       "  <tbody>\n",
       "    <tr>\n",
       "      <th>0</th>\n",
       "      <td>284</td>\n",
       "      <td>32</td>\n",
       "    </tr>\n",
       "  </tbody>\n",
       "</table>\n",
       "</div>"
      ],
      "text/plain": [
       "   # rows  # columns\n",
       "0     284         32"
      ]
     },
     "execution_count": 11,
     "metadata": {
      "tags": []
     },
     "output_type": "execute_result"
    }
   ],
   "source": [
    "# Print the dimension of df_train\n",
    "pd.DataFrame([[df_train.shape[0], df_train.shape[1]]], columns=['# rows', '# columns'])"
   ]
  },
  {
   "cell_type": "code",
   "execution_count": 12,
   "metadata": {
    "colab": {
     "base_uri": "https://localhost:8080/",
     "height": 80
    },
    "colab_type": "code",
    "executionInfo": {
     "elapsed": 22841,
     "status": "ok",
     "timestamp": 1598497344492,
     "user": {
      "displayName": "Huang Yuxiao",
      "photoUrl": "",
      "userId": "05167076769245149404"
     },
     "user_tz": 240
    },
    "id": "tGtqJbbhyJKw",
    "outputId": "7350e50d-5c29-43ad-da76-8a919a61bcd2",
    "scrolled": true
   },
   "outputs": [
    {
     "data": {
      "text/html": [
       "<div>\n",
       "<style scoped>\n",
       "    .dataframe tbody tr th:only-of-type {\n",
       "        vertical-align: middle;\n",
       "    }\n",
       "\n",
       "    .dataframe tbody tr th {\n",
       "        vertical-align: top;\n",
       "    }\n",
       "\n",
       "    .dataframe thead th {\n",
       "        text-align: right;\n",
       "    }\n",
       "</style>\n",
       "<table border=\"1\" class=\"dataframe\">\n",
       "  <thead>\n",
       "    <tr style=\"text-align: right;\">\n",
       "      <th></th>\n",
       "      <th># rows</th>\n",
       "      <th># columns</th>\n",
       "    </tr>\n",
       "  </thead>\n",
       "  <tbody>\n",
       "    <tr>\n",
       "      <th>0</th>\n",
       "      <td>114</td>\n",
       "      <td>32</td>\n",
       "    </tr>\n",
       "  </tbody>\n",
       "</table>\n",
       "</div>"
      ],
      "text/plain": [
       "   # rows  # columns\n",
       "0     114         32"
      ]
     },
     "execution_count": 12,
     "metadata": {
      "tags": []
     },
     "output_type": "execute_result"
    }
   ],
   "source": [
    "# Print the dimension of df_val\n",
    "pd.DataFrame([[df_val.shape[0], df_val.shape[1]]], columns=['# rows', '# columns'])"
   ]
  },
  {
   "cell_type": "code",
   "execution_count": 13,
   "metadata": {
    "colab": {
     "base_uri": "https://localhost:8080/",
     "height": 80
    },
    "colab_type": "code",
    "executionInfo": {
     "elapsed": 22827,
     "status": "ok",
     "timestamp": 1598497344492,
     "user": {
      "displayName": "Huang Yuxiao",
      "photoUrl": "",
      "userId": "05167076769245149404"
     },
     "user_tz": 240
    },
    "id": "J6HfL34uyJKy",
    "outputId": "6a3e8cf1-f8f9-4aea-ab02-e09215394a49",
    "scrolled": false
   },
   "outputs": [
    {
     "data": {
      "text/html": [
       "<div>\n",
       "<style scoped>\n",
       "    .dataframe tbody tr th:only-of-type {\n",
       "        vertical-align: middle;\n",
       "    }\n",
       "\n",
       "    .dataframe tbody tr th {\n",
       "        vertical-align: top;\n",
       "    }\n",
       "\n",
       "    .dataframe thead th {\n",
       "        text-align: right;\n",
       "    }\n",
       "</style>\n",
       "<table border=\"1\" class=\"dataframe\">\n",
       "  <thead>\n",
       "    <tr style=\"text-align: right;\">\n",
       "      <th></th>\n",
       "      <th># rows</th>\n",
       "      <th># columns</th>\n",
       "    </tr>\n",
       "  </thead>\n",
       "  <tbody>\n",
       "    <tr>\n",
       "      <th>0</th>\n",
       "      <td>171</td>\n",
       "      <td>32</td>\n",
       "    </tr>\n",
       "  </tbody>\n",
       "</table>\n",
       "</div>"
      ],
      "text/plain": [
       "   # rows  # columns\n",
       "0     171         32"
      ]
     },
     "execution_count": 13,
     "metadata": {
      "tags": []
     },
     "output_type": "execute_result"
    }
   ],
   "source": [
    "# Print the dimension of df_test\n",
    "pd.DataFrame([[df_test.shape[0], df_test.shape[1]]], columns=['# rows', '# columns'])"
   ]
  },
  {
   "cell_type": "markdown",
   "metadata": {
    "colab_type": "text",
    "id": "EU2tR9G7VEJt"
   },
   "source": [
    "## Handling uncommon features"
   ]
  },
  {
   "cell_type": "markdown",
   "metadata": {
    "colab_type": "text",
    "id": "gXFG7kb6VEJt"
   },
   "source": [
    "### Identifying uncommon features"
   ]
  },
  {
   "cell_type": "markdown",
   "metadata": {
    "colab_type": "text",
    "id": "OYu9QUjLVEJu"
   },
   "source": [
    "The code below shows how to find common variables between the training, validation and test data."
   ]
  },
  {
   "cell_type": "code",
   "execution_count": 14,
   "metadata": {
    "colab": {
     "base_uri": "https://localhost:8080/",
     "height": 1000
    },
    "colab_type": "code",
    "executionInfo": {
     "elapsed": 22813,
     "status": "ok",
     "timestamp": 1598497344492,
     "user": {
      "displayName": "Huang Yuxiao",
      "photoUrl": "",
      "userId": "05167076769245149404"
     },
     "user_tz": 240
    },
    "id": "Q9b0-5NzVEJv",
    "outputId": "26938f3e-8e81-42a5-9414-d0435629758d",
    "scrolled": false
   },
   "outputs": [
    {
     "data": {
      "text/html": [
       "<div>\n",
       "<style scoped>\n",
       "    .dataframe tbody tr th:only-of-type {\n",
       "        vertical-align: middle;\n",
       "    }\n",
       "\n",
       "    .dataframe tbody tr th {\n",
       "        vertical-align: top;\n",
       "    }\n",
       "\n",
       "    .dataframe thead th {\n",
       "        text-align: right;\n",
       "    }\n",
       "</style>\n",
       "<table border=\"1\" class=\"dataframe\">\n",
       "  <thead>\n",
       "    <tr style=\"text-align: right;\">\n",
       "      <th></th>\n",
       "      <th>common var</th>\n",
       "    </tr>\n",
       "  </thead>\n",
       "  <tbody>\n",
       "    <tr>\n",
       "      <th>0</th>\n",
       "      <td>area_mean</td>\n",
       "    </tr>\n",
       "    <tr>\n",
       "      <th>1</th>\n",
       "      <td>area_se</td>\n",
       "    </tr>\n",
       "    <tr>\n",
       "      <th>2</th>\n",
       "      <td>area_worst</td>\n",
       "    </tr>\n",
       "    <tr>\n",
       "      <th>3</th>\n",
       "      <td>compactness_mean</td>\n",
       "    </tr>\n",
       "    <tr>\n",
       "      <th>4</th>\n",
       "      <td>compactness_se</td>\n",
       "    </tr>\n",
       "    <tr>\n",
       "      <th>5</th>\n",
       "      <td>compactness_worst</td>\n",
       "    </tr>\n",
       "    <tr>\n",
       "      <th>6</th>\n",
       "      <td>concave points_mean</td>\n",
       "    </tr>\n",
       "    <tr>\n",
       "      <th>7</th>\n",
       "      <td>concave points_se</td>\n",
       "    </tr>\n",
       "    <tr>\n",
       "      <th>8</th>\n",
       "      <td>concave points_worst</td>\n",
       "    </tr>\n",
       "    <tr>\n",
       "      <th>9</th>\n",
       "      <td>concavity_mean</td>\n",
       "    </tr>\n",
       "    <tr>\n",
       "      <th>10</th>\n",
       "      <td>concavity_se</td>\n",
       "    </tr>\n",
       "    <tr>\n",
       "      <th>11</th>\n",
       "      <td>concavity_worst</td>\n",
       "    </tr>\n",
       "    <tr>\n",
       "      <th>12</th>\n",
       "      <td>diagnosis</td>\n",
       "    </tr>\n",
       "    <tr>\n",
       "      <th>13</th>\n",
       "      <td>fractal_dimension_mean</td>\n",
       "    </tr>\n",
       "    <tr>\n",
       "      <th>14</th>\n",
       "      <td>fractal_dimension_se</td>\n",
       "    </tr>\n",
       "    <tr>\n",
       "      <th>15</th>\n",
       "      <td>fractal_dimension_worst</td>\n",
       "    </tr>\n",
       "    <tr>\n",
       "      <th>16</th>\n",
       "      <td>id</td>\n",
       "    </tr>\n",
       "    <tr>\n",
       "      <th>17</th>\n",
       "      <td>perimeter_mean</td>\n",
       "    </tr>\n",
       "    <tr>\n",
       "      <th>18</th>\n",
       "      <td>perimeter_se</td>\n",
       "    </tr>\n",
       "    <tr>\n",
       "      <th>19</th>\n",
       "      <td>perimeter_worst</td>\n",
       "    </tr>\n",
       "    <tr>\n",
       "      <th>20</th>\n",
       "      <td>radius_mean</td>\n",
       "    </tr>\n",
       "    <tr>\n",
       "      <th>21</th>\n",
       "      <td>radius_se</td>\n",
       "    </tr>\n",
       "    <tr>\n",
       "      <th>22</th>\n",
       "      <td>radius_worst</td>\n",
       "    </tr>\n",
       "    <tr>\n",
       "      <th>23</th>\n",
       "      <td>smoothness_mean</td>\n",
       "    </tr>\n",
       "    <tr>\n",
       "      <th>24</th>\n",
       "      <td>smoothness_se</td>\n",
       "    </tr>\n",
       "    <tr>\n",
       "      <th>25</th>\n",
       "      <td>smoothness_worst</td>\n",
       "    </tr>\n",
       "    <tr>\n",
       "      <th>26</th>\n",
       "      <td>symmetry_mean</td>\n",
       "    </tr>\n",
       "    <tr>\n",
       "      <th>27</th>\n",
       "      <td>symmetry_se</td>\n",
       "    </tr>\n",
       "    <tr>\n",
       "      <th>28</th>\n",
       "      <td>symmetry_worst</td>\n",
       "    </tr>\n",
       "    <tr>\n",
       "      <th>29</th>\n",
       "      <td>texture_mean</td>\n",
       "    </tr>\n",
       "    <tr>\n",
       "      <th>30</th>\n",
       "      <td>texture_se</td>\n",
       "    </tr>\n",
       "    <tr>\n",
       "      <th>31</th>\n",
       "      <td>texture_worst</td>\n",
       "    </tr>\n",
       "  </tbody>\n",
       "</table>\n",
       "</div>"
      ],
      "text/plain": [
       "                 common var\n",
       "0                 area_mean\n",
       "1                   area_se\n",
       "2                area_worst\n",
       "3          compactness_mean\n",
       "4            compactness_se\n",
       "5         compactness_worst\n",
       "6       concave points_mean\n",
       "7         concave points_se\n",
       "8      concave points_worst\n",
       "9            concavity_mean\n",
       "10             concavity_se\n",
       "11          concavity_worst\n",
       "12                diagnosis\n",
       "13   fractal_dimension_mean\n",
       "14     fractal_dimension_se\n",
       "15  fractal_dimension_worst\n",
       "16                       id\n",
       "17           perimeter_mean\n",
       "18             perimeter_se\n",
       "19          perimeter_worst\n",
       "20              radius_mean\n",
       "21                radius_se\n",
       "22             radius_worst\n",
       "23          smoothness_mean\n",
       "24            smoothness_se\n",
       "25         smoothness_worst\n",
       "26            symmetry_mean\n",
       "27              symmetry_se\n",
       "28           symmetry_worst\n",
       "29             texture_mean\n",
       "30               texture_se\n",
       "31            texture_worst"
      ]
     },
     "execution_count": 14,
     "metadata": {
      "tags": []
     },
     "output_type": "execute_result"
    }
   ],
   "source": [
    "# Call common_var_checker\n",
    "df_common_var = common_var_checker(df_train, df_val, df_test, target)\n",
    "\n",
    "# Print df_common_var\n",
    "df_common_var"
   ]
  },
  {
   "cell_type": "markdown",
   "metadata": {
    "colab_type": "text",
    "id": "2RQRM74eVEJx"
   },
   "source": [
    "The code below shows how to find features in the training data but not in the validation or test data."
   ]
  },
  {
   "cell_type": "code",
   "execution_count": 15,
   "metadata": {
    "colab": {
     "base_uri": "https://localhost:8080/",
     "height": 49
    },
    "colab_type": "code",
    "executionInfo": {
     "elapsed": 22800,
     "status": "ok",
     "timestamp": 1598497344493,
     "user": {
      "displayName": "Huang Yuxiao",
      "photoUrl": "",
      "userId": "05167076769245149404"
     },
     "user_tz": 240
    },
    "id": "BYv2OUswVEJx",
    "outputId": "036edd2f-7f01-4448-d479-337735eae2a3",
    "scrolled": true
   },
   "outputs": [
    {
     "data": {
      "text/html": [
       "<div>\n",
       "<style scoped>\n",
       "    .dataframe tbody tr th:only-of-type {\n",
       "        vertical-align: middle;\n",
       "    }\n",
       "\n",
       "    .dataframe tbody tr th {\n",
       "        vertical-align: top;\n",
       "    }\n",
       "\n",
       "    .dataframe thead th {\n",
       "        text-align: right;\n",
       "    }\n",
       "</style>\n",
       "<table border=\"1\" class=\"dataframe\">\n",
       "  <thead>\n",
       "    <tr style=\"text-align: right;\">\n",
       "      <th></th>\n",
       "      <th>uncommon feature</th>\n",
       "    </tr>\n",
       "  </thead>\n",
       "  <tbody>\n",
       "  </tbody>\n",
       "</table>\n",
       "</div>"
      ],
      "text/plain": [
       "Empty DataFrame\n",
       "Columns: [uncommon feature]\n",
       "Index: []"
      ]
     },
     "execution_count": 15,
     "metadata": {
      "tags": []
     },
     "output_type": "execute_result"
    }
   ],
   "source": [
    "# Get the features in the training data but not in the validation or test data\n",
    "uncommon_feature_train_not_val_test = np.setdiff1d(df_train.columns, df_common_var['common var'])\n",
    "\n",
    "# Print the uncommon features\n",
    "pd.DataFrame(uncommon_feature_train_not_val_test, columns=['uncommon feature'])"
   ]
  },
  {
   "cell_type": "markdown",
   "metadata": {
    "colab_type": "text",
    "id": "7xTZbIvgMxNb"
   },
   "source": [
    "The code below shows how to find the features in the validation data but not in the training or test data."
   ]
  },
  {
   "cell_type": "code",
   "execution_count": 16,
   "metadata": {
    "colab": {
     "base_uri": "https://localhost:8080/",
     "height": 49
    },
    "colab_type": "code",
    "executionInfo": {
     "elapsed": 22786,
     "status": "ok",
     "timestamp": 1598497344493,
     "user": {
      "displayName": "Huang Yuxiao",
      "photoUrl": "",
      "userId": "05167076769245149404"
     },
     "user_tz": 240
    },
    "id": "bSqnr26PMxNb",
    "outputId": "033e54c4-0f90-4462-ad4a-55ceba0ea749",
    "scrolled": true
   },
   "outputs": [
    {
     "data": {
      "text/html": [
       "<div>\n",
       "<style scoped>\n",
       "    .dataframe tbody tr th:only-of-type {\n",
       "        vertical-align: middle;\n",
       "    }\n",
       "\n",
       "    .dataframe tbody tr th {\n",
       "        vertical-align: top;\n",
       "    }\n",
       "\n",
       "    .dataframe thead th {\n",
       "        text-align: right;\n",
       "    }\n",
       "</style>\n",
       "<table border=\"1\" class=\"dataframe\">\n",
       "  <thead>\n",
       "    <tr style=\"text-align: right;\">\n",
       "      <th></th>\n",
       "      <th>uncommon feature</th>\n",
       "    </tr>\n",
       "  </thead>\n",
       "  <tbody>\n",
       "  </tbody>\n",
       "</table>\n",
       "</div>"
      ],
      "text/plain": [
       "Empty DataFrame\n",
       "Columns: [uncommon feature]\n",
       "Index: []"
      ]
     },
     "execution_count": 16,
     "metadata": {
      "tags": []
     },
     "output_type": "execute_result"
    }
   ],
   "source": [
    "# Get the features in the validation data but not in the training or test data\n",
    "uncommon_feature_val_not_train_test = np.setdiff1d(df_val.columns, df_common_var['common var'])\n",
    "\n",
    "# Print the uncommon features\n",
    "pd.DataFrame(uncommon_feature_val_not_train_test, columns=['uncommon feature'])"
   ]
  },
  {
   "cell_type": "markdown",
   "metadata": {
    "colab_type": "text",
    "id": "uFQoJqwYVEJy"
   },
   "source": [
    "The code below shows how to find the features in the test data but not in the training or validation data."
   ]
  },
  {
   "cell_type": "code",
   "execution_count": 17,
   "metadata": {
    "colab": {
     "base_uri": "https://localhost:8080/",
     "height": 49
    },
    "colab_type": "code",
    "executionInfo": {
     "elapsed": 22772,
     "status": "ok",
     "timestamp": 1598497344493,
     "user": {
      "displayName": "Huang Yuxiao",
      "photoUrl": "",
      "userId": "05167076769245149404"
     },
     "user_tz": 240
    },
    "id": "aM_buccxVEJz",
    "outputId": "b3daff9f-4017-4e2f-c85e-34d9d7a7cc71",
    "scrolled": true
   },
   "outputs": [
    {
     "data": {
      "text/html": [
       "<div>\n",
       "<style scoped>\n",
       "    .dataframe tbody tr th:only-of-type {\n",
       "        vertical-align: middle;\n",
       "    }\n",
       "\n",
       "    .dataframe tbody tr th {\n",
       "        vertical-align: top;\n",
       "    }\n",
       "\n",
       "    .dataframe thead th {\n",
       "        text-align: right;\n",
       "    }\n",
       "</style>\n",
       "<table border=\"1\" class=\"dataframe\">\n",
       "  <thead>\n",
       "    <tr style=\"text-align: right;\">\n",
       "      <th></th>\n",
       "      <th>uncommon feature</th>\n",
       "    </tr>\n",
       "  </thead>\n",
       "  <tbody>\n",
       "  </tbody>\n",
       "</table>\n",
       "</div>"
      ],
      "text/plain": [
       "Empty DataFrame\n",
       "Columns: [uncommon feature]\n",
       "Index: []"
      ]
     },
     "execution_count": 17,
     "metadata": {
      "tags": []
     },
     "output_type": "execute_result"
    }
   ],
   "source": [
    "# Get the features in the test data but not in the training or validation data\n",
    "uncommon_feature_test_not_train_val = np.setdiff1d(df_test.columns, df_common_var['common var'])\n",
    "\n",
    "# Print the uncommon features\n",
    "pd.DataFrame(uncommon_feature_test_not_train_val, columns=['uncommon feature'])"
   ]
  },
  {
   "cell_type": "markdown",
   "metadata": {
    "colab_type": "text",
    "id": "LFFbL2cQVEJ0"
   },
   "source": [
    "### Removing uncommon features"
   ]
  },
  {
   "cell_type": "code",
   "execution_count": 18,
   "metadata": {
    "colab": {
     "base_uri": "https://localhost:8080/",
     "height": 241
    },
    "colab_type": "code",
    "executionInfo": {
     "elapsed": 22996,
     "status": "ok",
     "timestamp": 1598497344732,
     "user": {
      "displayName": "Huang Yuxiao",
      "photoUrl": "",
      "userId": "05167076769245149404"
     },
     "user_tz": 240
    },
    "id": "2bt-y-DqVEJ0",
    "outputId": "0b7165b5-dd8c-4c50-d09a-7fcc2042abf1",
    "scrolled": true
   },
   "outputs": [
    {
     "data": {
      "text/html": [
       "<div>\n",
       "<style scoped>\n",
       "    .dataframe tbody tr th:only-of-type {\n",
       "        vertical-align: middle;\n",
       "    }\n",
       "\n",
       "    .dataframe tbody tr th {\n",
       "        vertical-align: top;\n",
       "    }\n",
       "\n",
       "    .dataframe thead th {\n",
       "        text-align: right;\n",
       "    }\n",
       "</style>\n",
       "<table border=\"1\" class=\"dataframe\">\n",
       "  <thead>\n",
       "    <tr style=\"text-align: right;\">\n",
       "      <th></th>\n",
       "      <th>id</th>\n",
       "      <th>diagnosis</th>\n",
       "      <th>radius_mean</th>\n",
       "      <th>texture_mean</th>\n",
       "      <th>perimeter_mean</th>\n",
       "      <th>area_mean</th>\n",
       "      <th>smoothness_mean</th>\n",
       "      <th>compactness_mean</th>\n",
       "      <th>concavity_mean</th>\n",
       "      <th>concave points_mean</th>\n",
       "      <th>symmetry_mean</th>\n",
       "      <th>fractal_dimension_mean</th>\n",
       "      <th>radius_se</th>\n",
       "      <th>texture_se</th>\n",
       "      <th>perimeter_se</th>\n",
       "      <th>area_se</th>\n",
       "      <th>smoothness_se</th>\n",
       "      <th>compactness_se</th>\n",
       "      <th>concavity_se</th>\n",
       "      <th>concave points_se</th>\n",
       "      <th>symmetry_se</th>\n",
       "      <th>fractal_dimension_se</th>\n",
       "      <th>radius_worst</th>\n",
       "      <th>texture_worst</th>\n",
       "      <th>perimeter_worst</th>\n",
       "      <th>area_worst</th>\n",
       "      <th>smoothness_worst</th>\n",
       "      <th>compactness_worst</th>\n",
       "      <th>concavity_worst</th>\n",
       "      <th>concave points_worst</th>\n",
       "      <th>symmetry_worst</th>\n",
       "      <th>fractal_dimension_worst</th>\n",
       "    </tr>\n",
       "  </thead>\n",
       "  <tbody>\n",
       "    <tr>\n",
       "      <th>0</th>\n",
       "      <td>86208</td>\n",
       "      <td>M</td>\n",
       "      <td>20.260</td>\n",
       "      <td>23.03</td>\n",
       "      <td>132.40</td>\n",
       "      <td>1264.0</td>\n",
       "      <td>0.09078</td>\n",
       "      <td>0.13130</td>\n",
       "      <td>0.14650</td>\n",
       "      <td>0.086830</td>\n",
       "      <td>0.2095</td>\n",
       "      <td>0.05649</td>\n",
       "      <td>0.7576</td>\n",
       "      <td>1.5090</td>\n",
       "      <td>4.554</td>\n",
       "      <td>87.870</td>\n",
       "      <td>0.006016</td>\n",
       "      <td>0.034820</td>\n",
       "      <td>0.04232</td>\n",
       "      <td>0.012690</td>\n",
       "      <td>0.026570</td>\n",
       "      <td>0.004411</td>\n",
       "      <td>24.22</td>\n",
       "      <td>31.59</td>\n",
       "      <td>156.10</td>\n",
       "      <td>1750.0</td>\n",
       "      <td>0.11900</td>\n",
       "      <td>0.35390</td>\n",
       "      <td>0.40980</td>\n",
       "      <td>0.15730</td>\n",
       "      <td>0.3689</td>\n",
       "      <td>0.08368</td>\n",
       "    </tr>\n",
       "    <tr>\n",
       "      <th>1</th>\n",
       "      <td>855133</td>\n",
       "      <td>M</td>\n",
       "      <td>14.990</td>\n",
       "      <td>25.20</td>\n",
       "      <td>95.54</td>\n",
       "      <td>698.8</td>\n",
       "      <td>0.09387</td>\n",
       "      <td>0.05131</td>\n",
       "      <td>0.02398</td>\n",
       "      <td>0.028990</td>\n",
       "      <td>0.1565</td>\n",
       "      <td>0.05504</td>\n",
       "      <td>1.2140</td>\n",
       "      <td>2.1880</td>\n",
       "      <td>8.077</td>\n",
       "      <td>106.000</td>\n",
       "      <td>0.006883</td>\n",
       "      <td>0.010940</td>\n",
       "      <td>0.01818</td>\n",
       "      <td>0.019170</td>\n",
       "      <td>0.007882</td>\n",
       "      <td>0.001754</td>\n",
       "      <td>14.99</td>\n",
       "      <td>25.20</td>\n",
       "      <td>95.54</td>\n",
       "      <td>698.8</td>\n",
       "      <td>0.09387</td>\n",
       "      <td>0.05131</td>\n",
       "      <td>0.02398</td>\n",
       "      <td>0.02899</td>\n",
       "      <td>0.1565</td>\n",
       "      <td>0.05504</td>\n",
       "    </tr>\n",
       "    <tr>\n",
       "      <th>2</th>\n",
       "      <td>893988</td>\n",
       "      <td>B</td>\n",
       "      <td>11.540</td>\n",
       "      <td>10.72</td>\n",
       "      <td>73.73</td>\n",
       "      <td>409.1</td>\n",
       "      <td>0.08597</td>\n",
       "      <td>0.05969</td>\n",
       "      <td>0.01367</td>\n",
       "      <td>0.008907</td>\n",
       "      <td>0.1833</td>\n",
       "      <td>0.06100</td>\n",
       "      <td>0.1312</td>\n",
       "      <td>0.3602</td>\n",
       "      <td>1.107</td>\n",
       "      <td>9.438</td>\n",
       "      <td>0.004124</td>\n",
       "      <td>0.013400</td>\n",
       "      <td>0.01003</td>\n",
       "      <td>0.004667</td>\n",
       "      <td>0.020320</td>\n",
       "      <td>0.001952</td>\n",
       "      <td>12.34</td>\n",
       "      <td>12.87</td>\n",
       "      <td>81.23</td>\n",
       "      <td>467.8</td>\n",
       "      <td>0.10920</td>\n",
       "      <td>0.16260</td>\n",
       "      <td>0.08324</td>\n",
       "      <td>0.04715</td>\n",
       "      <td>0.3390</td>\n",
       "      <td>0.07434</td>\n",
       "    </tr>\n",
       "    <tr>\n",
       "      <th>3</th>\n",
       "      <td>903483</td>\n",
       "      <td>B</td>\n",
       "      <td>8.734</td>\n",
       "      <td>16.84</td>\n",
       "      <td>55.27</td>\n",
       "      <td>234.3</td>\n",
       "      <td>0.10390</td>\n",
       "      <td>0.07428</td>\n",
       "      <td>0.00000</td>\n",
       "      <td>0.000000</td>\n",
       "      <td>0.1985</td>\n",
       "      <td>0.07098</td>\n",
       "      <td>0.5169</td>\n",
       "      <td>2.0790</td>\n",
       "      <td>3.167</td>\n",
       "      <td>28.850</td>\n",
       "      <td>0.015820</td>\n",
       "      <td>0.019660</td>\n",
       "      <td>0.00000</td>\n",
       "      <td>0.000000</td>\n",
       "      <td>0.018650</td>\n",
       "      <td>0.006736</td>\n",
       "      <td>10.17</td>\n",
       "      <td>22.80</td>\n",
       "      <td>64.01</td>\n",
       "      <td>317.0</td>\n",
       "      <td>0.14600</td>\n",
       "      <td>0.13100</td>\n",
       "      <td>0.00000</td>\n",
       "      <td>0.00000</td>\n",
       "      <td>0.2445</td>\n",
       "      <td>0.08865</td>\n",
       "    </tr>\n",
       "    <tr>\n",
       "      <th>4</th>\n",
       "      <td>874373</td>\n",
       "      <td>B</td>\n",
       "      <td>11.710</td>\n",
       "      <td>17.19</td>\n",
       "      <td>74.68</td>\n",
       "      <td>420.3</td>\n",
       "      <td>0.09774</td>\n",
       "      <td>0.06141</td>\n",
       "      <td>0.03809</td>\n",
       "      <td>0.032390</td>\n",
       "      <td>0.1516</td>\n",
       "      <td>0.06095</td>\n",
       "      <td>0.2451</td>\n",
       "      <td>0.7655</td>\n",
       "      <td>1.742</td>\n",
       "      <td>17.860</td>\n",
       "      <td>0.006905</td>\n",
       "      <td>0.008704</td>\n",
       "      <td>0.01978</td>\n",
       "      <td>0.011850</td>\n",
       "      <td>0.018970</td>\n",
       "      <td>0.001671</td>\n",
       "      <td>13.01</td>\n",
       "      <td>21.39</td>\n",
       "      <td>84.42</td>\n",
       "      <td>521.5</td>\n",
       "      <td>0.13230</td>\n",
       "      <td>0.10400</td>\n",
       "      <td>0.15210</td>\n",
       "      <td>0.10990</td>\n",
       "      <td>0.2572</td>\n",
       "      <td>0.07097</td>\n",
       "    </tr>\n",
       "  </tbody>\n",
       "</table>\n",
       "</div>"
      ],
      "text/plain": [
       "       id diagnosis  ...  symmetry_worst  fractal_dimension_worst\n",
       "0   86208         M  ...          0.3689                  0.08368\n",
       "1  855133         M  ...          0.1565                  0.05504\n",
       "2  893988         B  ...          0.3390                  0.07434\n",
       "3  903483         B  ...          0.2445                  0.08865\n",
       "4  874373         B  ...          0.2572                  0.07097\n",
       "\n",
       "[5 rows x 32 columns]"
      ]
     },
     "execution_count": 18,
     "metadata": {
      "tags": []
     },
     "output_type": "execute_result"
    }
   ],
   "source": [
    "# Remove the uncommon features from the training data\n",
    "df_train = df_train.drop(columns=uncommon_feature_train_not_val_test)\n",
    "\n",
    "# Print the first 5 rows of df_train\n",
    "df_train.head()"
   ]
  },
  {
   "cell_type": "code",
   "execution_count": 19,
   "metadata": {
    "colab": {
     "base_uri": "https://localhost:8080/",
     "height": 241
    },
    "colab_type": "code",
    "executionInfo": {
     "elapsed": 22981,
     "status": "ok",
     "timestamp": 1598497344733,
     "user": {
      "displayName": "Huang Yuxiao",
      "photoUrl": "",
      "userId": "05167076769245149404"
     },
     "user_tz": 240
    },
    "id": "8NXla4PmMxNg",
    "outputId": "d3c00707-ed70-4b31-a2df-2bc0fa8b6c8d"
   },
   "outputs": [
    {
     "data": {
      "text/html": [
       "<div>\n",
       "<style scoped>\n",
       "    .dataframe tbody tr th:only-of-type {\n",
       "        vertical-align: middle;\n",
       "    }\n",
       "\n",
       "    .dataframe tbody tr th {\n",
       "        vertical-align: top;\n",
       "    }\n",
       "\n",
       "    .dataframe thead th {\n",
       "        text-align: right;\n",
       "    }\n",
       "</style>\n",
       "<table border=\"1\" class=\"dataframe\">\n",
       "  <thead>\n",
       "    <tr style=\"text-align: right;\">\n",
       "      <th></th>\n",
       "      <th>id</th>\n",
       "      <th>diagnosis</th>\n",
       "      <th>radius_mean</th>\n",
       "      <th>texture_mean</th>\n",
       "      <th>perimeter_mean</th>\n",
       "      <th>area_mean</th>\n",
       "      <th>smoothness_mean</th>\n",
       "      <th>compactness_mean</th>\n",
       "      <th>concavity_mean</th>\n",
       "      <th>concave points_mean</th>\n",
       "      <th>symmetry_mean</th>\n",
       "      <th>fractal_dimension_mean</th>\n",
       "      <th>radius_se</th>\n",
       "      <th>texture_se</th>\n",
       "      <th>perimeter_se</th>\n",
       "      <th>area_se</th>\n",
       "      <th>smoothness_se</th>\n",
       "      <th>compactness_se</th>\n",
       "      <th>concavity_se</th>\n",
       "      <th>concave points_se</th>\n",
       "      <th>symmetry_se</th>\n",
       "      <th>fractal_dimension_se</th>\n",
       "      <th>radius_worst</th>\n",
       "      <th>texture_worst</th>\n",
       "      <th>perimeter_worst</th>\n",
       "      <th>area_worst</th>\n",
       "      <th>smoothness_worst</th>\n",
       "      <th>compactness_worst</th>\n",
       "      <th>concavity_worst</th>\n",
       "      <th>concave points_worst</th>\n",
       "      <th>symmetry_worst</th>\n",
       "      <th>fractal_dimension_worst</th>\n",
       "    </tr>\n",
       "  </thead>\n",
       "  <tbody>\n",
       "    <tr>\n",
       "      <th>0</th>\n",
       "      <td>91903901</td>\n",
       "      <td>B</td>\n",
       "      <td>11.67</td>\n",
       "      <td>20.02</td>\n",
       "      <td>75.21</td>\n",
       "      <td>416.2</td>\n",
       "      <td>0.10160</td>\n",
       "      <td>0.09453</td>\n",
       "      <td>0.04200</td>\n",
       "      <td>0.02157</td>\n",
       "      <td>0.1859</td>\n",
       "      <td>0.06461</td>\n",
       "      <td>0.2067</td>\n",
       "      <td>0.8745</td>\n",
       "      <td>1.393</td>\n",
       "      <td>15.34</td>\n",
       "      <td>0.005251</td>\n",
       "      <td>0.01727</td>\n",
       "      <td>0.01840</td>\n",
       "      <td>0.005298</td>\n",
       "      <td>0.01449</td>\n",
       "      <td>0.002671</td>\n",
       "      <td>13.35</td>\n",
       "      <td>28.81</td>\n",
       "      <td>87.00</td>\n",
       "      <td>550.6</td>\n",
       "      <td>0.15500</td>\n",
       "      <td>0.2964</td>\n",
       "      <td>0.2758</td>\n",
       "      <td>0.08120</td>\n",
       "      <td>0.3206</td>\n",
       "      <td>0.08950</td>\n",
       "    </tr>\n",
       "    <tr>\n",
       "      <th>1</th>\n",
       "      <td>909411</td>\n",
       "      <td>B</td>\n",
       "      <td>10.97</td>\n",
       "      <td>17.20</td>\n",
       "      <td>71.73</td>\n",
       "      <td>371.5</td>\n",
       "      <td>0.08915</td>\n",
       "      <td>0.11130</td>\n",
       "      <td>0.09457</td>\n",
       "      <td>0.03613</td>\n",
       "      <td>0.1489</td>\n",
       "      <td>0.06640</td>\n",
       "      <td>0.2574</td>\n",
       "      <td>1.3760</td>\n",
       "      <td>2.806</td>\n",
       "      <td>18.15</td>\n",
       "      <td>0.008565</td>\n",
       "      <td>0.04638</td>\n",
       "      <td>0.06430</td>\n",
       "      <td>0.017680</td>\n",
       "      <td>0.01516</td>\n",
       "      <td>0.004976</td>\n",
       "      <td>12.36</td>\n",
       "      <td>26.87</td>\n",
       "      <td>90.14</td>\n",
       "      <td>476.4</td>\n",
       "      <td>0.13910</td>\n",
       "      <td>0.4082</td>\n",
       "      <td>0.4779</td>\n",
       "      <td>0.15550</td>\n",
       "      <td>0.2540</td>\n",
       "      <td>0.09532</td>\n",
       "    </tr>\n",
       "    <tr>\n",
       "      <th>2</th>\n",
       "      <td>864685</td>\n",
       "      <td>B</td>\n",
       "      <td>11.93</td>\n",
       "      <td>21.53</td>\n",
       "      <td>76.53</td>\n",
       "      <td>438.6</td>\n",
       "      <td>0.09768</td>\n",
       "      <td>0.07849</td>\n",
       "      <td>0.03328</td>\n",
       "      <td>0.02008</td>\n",
       "      <td>0.1688</td>\n",
       "      <td>0.06194</td>\n",
       "      <td>0.3118</td>\n",
       "      <td>0.9227</td>\n",
       "      <td>2.000</td>\n",
       "      <td>24.79</td>\n",
       "      <td>0.007803</td>\n",
       "      <td>0.02507</td>\n",
       "      <td>0.01835</td>\n",
       "      <td>0.007711</td>\n",
       "      <td>0.01278</td>\n",
       "      <td>0.003856</td>\n",
       "      <td>13.67</td>\n",
       "      <td>26.15</td>\n",
       "      <td>87.54</td>\n",
       "      <td>583.0</td>\n",
       "      <td>0.15000</td>\n",
       "      <td>0.2399</td>\n",
       "      <td>0.1503</td>\n",
       "      <td>0.07247</td>\n",
       "      <td>0.2438</td>\n",
       "      <td>0.08541</td>\n",
       "    </tr>\n",
       "    <tr>\n",
       "      <th>3</th>\n",
       "      <td>91858</td>\n",
       "      <td>B</td>\n",
       "      <td>11.75</td>\n",
       "      <td>17.56</td>\n",
       "      <td>75.89</td>\n",
       "      <td>422.9</td>\n",
       "      <td>0.10730</td>\n",
       "      <td>0.09713</td>\n",
       "      <td>0.05282</td>\n",
       "      <td>0.04440</td>\n",
       "      <td>0.1598</td>\n",
       "      <td>0.06677</td>\n",
       "      <td>0.4384</td>\n",
       "      <td>1.9070</td>\n",
       "      <td>3.149</td>\n",
       "      <td>30.66</td>\n",
       "      <td>0.006587</td>\n",
       "      <td>0.01815</td>\n",
       "      <td>0.01737</td>\n",
       "      <td>0.013160</td>\n",
       "      <td>0.01835</td>\n",
       "      <td>0.002318</td>\n",
       "      <td>13.50</td>\n",
       "      <td>27.98</td>\n",
       "      <td>88.52</td>\n",
       "      <td>552.3</td>\n",
       "      <td>0.13490</td>\n",
       "      <td>0.1854</td>\n",
       "      <td>0.1366</td>\n",
       "      <td>0.10100</td>\n",
       "      <td>0.2478</td>\n",
       "      <td>0.07757</td>\n",
       "    </tr>\n",
       "    <tr>\n",
       "      <th>4</th>\n",
       "      <td>905190</td>\n",
       "      <td>B</td>\n",
       "      <td>12.85</td>\n",
       "      <td>21.37</td>\n",
       "      <td>82.63</td>\n",
       "      <td>514.5</td>\n",
       "      <td>0.07551</td>\n",
       "      <td>0.08316</td>\n",
       "      <td>0.06126</td>\n",
       "      <td>0.01867</td>\n",
       "      <td>0.1580</td>\n",
       "      <td>0.06114</td>\n",
       "      <td>0.4993</td>\n",
       "      <td>1.7980</td>\n",
       "      <td>2.552</td>\n",
       "      <td>41.24</td>\n",
       "      <td>0.006011</td>\n",
       "      <td>0.04480</td>\n",
       "      <td>0.05175</td>\n",
       "      <td>0.013410</td>\n",
       "      <td>0.02669</td>\n",
       "      <td>0.007731</td>\n",
       "      <td>14.40</td>\n",
       "      <td>27.01</td>\n",
       "      <td>91.63</td>\n",
       "      <td>645.8</td>\n",
       "      <td>0.09402</td>\n",
       "      <td>0.1936</td>\n",
       "      <td>0.1838</td>\n",
       "      <td>0.05601</td>\n",
       "      <td>0.2488</td>\n",
       "      <td>0.08151</td>\n",
       "    </tr>\n",
       "  </tbody>\n",
       "</table>\n",
       "</div>"
      ],
      "text/plain": [
       "         id diagnosis  ...  symmetry_worst  fractal_dimension_worst\n",
       "0  91903901         B  ...          0.3206                  0.08950\n",
       "1    909411         B  ...          0.2540                  0.09532\n",
       "2    864685         B  ...          0.2438                  0.08541\n",
       "3     91858         B  ...          0.2478                  0.07757\n",
       "4    905190         B  ...          0.2488                  0.08151\n",
       "\n",
       "[5 rows x 32 columns]"
      ]
     },
     "execution_count": 19,
     "metadata": {
      "tags": []
     },
     "output_type": "execute_result"
    }
   ],
   "source": [
    "# Remove the uncommon features from the validation data\n",
    "df_val = df_val.drop(columns=uncommon_feature_val_not_train_test)\n",
    "\n",
    "# Print the first 5 rows of df_val\n",
    "df_val.head()"
   ]
  },
  {
   "cell_type": "code",
   "execution_count": 20,
   "metadata": {
    "colab": {
     "base_uri": "https://localhost:8080/",
     "height": 241
    },
    "colab_type": "code",
    "executionInfo": {
     "elapsed": 22967,
     "status": "ok",
     "timestamp": 1598497344733,
     "user": {
      "displayName": "Huang Yuxiao",
      "photoUrl": "",
      "userId": "05167076769245149404"
     },
     "user_tz": 240
    },
    "id": "EBSL2rn9VEJ2",
    "outputId": "b6343060-e80f-47ea-e1d8-91ad3305f3d9",
    "scrolled": true
   },
   "outputs": [
    {
     "data": {
      "text/html": [
       "<div>\n",
       "<style scoped>\n",
       "    .dataframe tbody tr th:only-of-type {\n",
       "        vertical-align: middle;\n",
       "    }\n",
       "\n",
       "    .dataframe tbody tr th {\n",
       "        vertical-align: top;\n",
       "    }\n",
       "\n",
       "    .dataframe thead th {\n",
       "        text-align: right;\n",
       "    }\n",
       "</style>\n",
       "<table border=\"1\" class=\"dataframe\">\n",
       "  <thead>\n",
       "    <tr style=\"text-align: right;\">\n",
       "      <th></th>\n",
       "      <th>id</th>\n",
       "      <th>diagnosis</th>\n",
       "      <th>radius_mean</th>\n",
       "      <th>texture_mean</th>\n",
       "      <th>perimeter_mean</th>\n",
       "      <th>area_mean</th>\n",
       "      <th>smoothness_mean</th>\n",
       "      <th>compactness_mean</th>\n",
       "      <th>concavity_mean</th>\n",
       "      <th>concave points_mean</th>\n",
       "      <th>symmetry_mean</th>\n",
       "      <th>fractal_dimension_mean</th>\n",
       "      <th>radius_se</th>\n",
       "      <th>texture_se</th>\n",
       "      <th>perimeter_se</th>\n",
       "      <th>area_se</th>\n",
       "      <th>smoothness_se</th>\n",
       "      <th>compactness_se</th>\n",
       "      <th>concavity_se</th>\n",
       "      <th>concave points_se</th>\n",
       "      <th>symmetry_se</th>\n",
       "      <th>fractal_dimension_se</th>\n",
       "      <th>radius_worst</th>\n",
       "      <th>texture_worst</th>\n",
       "      <th>perimeter_worst</th>\n",
       "      <th>area_worst</th>\n",
       "      <th>smoothness_worst</th>\n",
       "      <th>compactness_worst</th>\n",
       "      <th>concavity_worst</th>\n",
       "      <th>concave points_worst</th>\n",
       "      <th>symmetry_worst</th>\n",
       "      <th>fractal_dimension_worst</th>\n",
       "    </tr>\n",
       "  </thead>\n",
       "  <tbody>\n",
       "    <tr>\n",
       "      <th>0</th>\n",
       "      <td>913512</td>\n",
       "      <td>B</td>\n",
       "      <td>11.68</td>\n",
       "      <td>16.17</td>\n",
       "      <td>75.49</td>\n",
       "      <td>420.5</td>\n",
       "      <td>0.11280</td>\n",
       "      <td>0.09263</td>\n",
       "      <td>0.042790</td>\n",
       "      <td>0.031320</td>\n",
       "      <td>0.1853</td>\n",
       "      <td>0.06401</td>\n",
       "      <td>0.3713</td>\n",
       "      <td>1.1540</td>\n",
       "      <td>2.554</td>\n",
       "      <td>27.57</td>\n",
       "      <td>0.008998</td>\n",
       "      <td>0.012920</td>\n",
       "      <td>0.01851</td>\n",
       "      <td>0.011670</td>\n",
       "      <td>0.02152</td>\n",
       "      <td>0.003213</td>\n",
       "      <td>13.32</td>\n",
       "      <td>21.59</td>\n",
       "      <td>86.57</td>\n",
       "      <td>549.8</td>\n",
       "      <td>0.15260</td>\n",
       "      <td>0.14770</td>\n",
       "      <td>0.14900</td>\n",
       "      <td>0.09815</td>\n",
       "      <td>0.2804</td>\n",
       "      <td>0.08024</td>\n",
       "    </tr>\n",
       "    <tr>\n",
       "      <th>1</th>\n",
       "      <td>893526</td>\n",
       "      <td>B</td>\n",
       "      <td>13.50</td>\n",
       "      <td>12.71</td>\n",
       "      <td>85.69</td>\n",
       "      <td>566.2</td>\n",
       "      <td>0.07376</td>\n",
       "      <td>0.03614</td>\n",
       "      <td>0.002758</td>\n",
       "      <td>0.004419</td>\n",
       "      <td>0.1365</td>\n",
       "      <td>0.05335</td>\n",
       "      <td>0.2244</td>\n",
       "      <td>0.6864</td>\n",
       "      <td>1.509</td>\n",
       "      <td>20.39</td>\n",
       "      <td>0.003338</td>\n",
       "      <td>0.003746</td>\n",
       "      <td>0.00203</td>\n",
       "      <td>0.003242</td>\n",
       "      <td>0.01480</td>\n",
       "      <td>0.001566</td>\n",
       "      <td>14.97</td>\n",
       "      <td>16.94</td>\n",
       "      <td>95.48</td>\n",
       "      <td>698.7</td>\n",
       "      <td>0.09023</td>\n",
       "      <td>0.05836</td>\n",
       "      <td>0.01379</td>\n",
       "      <td>0.02210</td>\n",
       "      <td>0.2267</td>\n",
       "      <td>0.06192</td>\n",
       "    </tr>\n",
       "    <tr>\n",
       "      <th>2</th>\n",
       "      <td>917080</td>\n",
       "      <td>B</td>\n",
       "      <td>12.75</td>\n",
       "      <td>16.70</td>\n",
       "      <td>82.51</td>\n",
       "      <td>493.8</td>\n",
       "      <td>0.11250</td>\n",
       "      <td>0.11170</td>\n",
       "      <td>0.038800</td>\n",
       "      <td>0.029950</td>\n",
       "      <td>0.2120</td>\n",
       "      <td>0.06623</td>\n",
       "      <td>0.3834</td>\n",
       "      <td>1.0030</td>\n",
       "      <td>2.495</td>\n",
       "      <td>28.62</td>\n",
       "      <td>0.007509</td>\n",
       "      <td>0.015610</td>\n",
       "      <td>0.01977</td>\n",
       "      <td>0.009199</td>\n",
       "      <td>0.01805</td>\n",
       "      <td>0.003629</td>\n",
       "      <td>14.45</td>\n",
       "      <td>21.74</td>\n",
       "      <td>93.63</td>\n",
       "      <td>624.1</td>\n",
       "      <td>0.14750</td>\n",
       "      <td>0.19790</td>\n",
       "      <td>0.14230</td>\n",
       "      <td>0.08045</td>\n",
       "      <td>0.3071</td>\n",
       "      <td>0.08557</td>\n",
       "    </tr>\n",
       "    <tr>\n",
       "      <th>3</th>\n",
       "      <td>859575</td>\n",
       "      <td>M</td>\n",
       "      <td>18.94</td>\n",
       "      <td>21.31</td>\n",
       "      <td>123.60</td>\n",
       "      <td>1130.0</td>\n",
       "      <td>0.09009</td>\n",
       "      <td>0.10290</td>\n",
       "      <td>0.108000</td>\n",
       "      <td>0.079510</td>\n",
       "      <td>0.1582</td>\n",
       "      <td>0.05461</td>\n",
       "      <td>0.7888</td>\n",
       "      <td>0.7975</td>\n",
       "      <td>5.486</td>\n",
       "      <td>96.05</td>\n",
       "      <td>0.004444</td>\n",
       "      <td>0.016520</td>\n",
       "      <td>0.02269</td>\n",
       "      <td>0.013700</td>\n",
       "      <td>0.01386</td>\n",
       "      <td>0.001698</td>\n",
       "      <td>24.86</td>\n",
       "      <td>26.58</td>\n",
       "      <td>165.90</td>\n",
       "      <td>1866.0</td>\n",
       "      <td>0.11930</td>\n",
       "      <td>0.23360</td>\n",
       "      <td>0.26870</td>\n",
       "      <td>0.17890</td>\n",
       "      <td>0.2551</td>\n",
       "      <td>0.06589</td>\n",
       "    </tr>\n",
       "    <tr>\n",
       "      <th>4</th>\n",
       "      <td>8860702</td>\n",
       "      <td>M</td>\n",
       "      <td>17.30</td>\n",
       "      <td>17.08</td>\n",
       "      <td>113.00</td>\n",
       "      <td>928.2</td>\n",
       "      <td>0.10080</td>\n",
       "      <td>0.10410</td>\n",
       "      <td>0.126600</td>\n",
       "      <td>0.083530</td>\n",
       "      <td>0.1813</td>\n",
       "      <td>0.05613</td>\n",
       "      <td>0.3093</td>\n",
       "      <td>0.8568</td>\n",
       "      <td>2.193</td>\n",
       "      <td>33.63</td>\n",
       "      <td>0.004757</td>\n",
       "      <td>0.015030</td>\n",
       "      <td>0.02332</td>\n",
       "      <td>0.012620</td>\n",
       "      <td>0.01394</td>\n",
       "      <td>0.002362</td>\n",
       "      <td>19.85</td>\n",
       "      <td>25.09</td>\n",
       "      <td>130.90</td>\n",
       "      <td>1222.0</td>\n",
       "      <td>0.14160</td>\n",
       "      <td>0.24050</td>\n",
       "      <td>0.33780</td>\n",
       "      <td>0.18570</td>\n",
       "      <td>0.3138</td>\n",
       "      <td>0.08113</td>\n",
       "    </tr>\n",
       "  </tbody>\n",
       "</table>\n",
       "</div>"
      ],
      "text/plain": [
       "        id diagnosis  ...  symmetry_worst  fractal_dimension_worst\n",
       "0   913512         B  ...          0.2804                  0.08024\n",
       "1   893526         B  ...          0.2267                  0.06192\n",
       "2   917080         B  ...          0.3071                  0.08557\n",
       "3   859575         M  ...          0.2551                  0.06589\n",
       "4  8860702         M  ...          0.3138                  0.08113\n",
       "\n",
       "[5 rows x 32 columns]"
      ]
     },
     "execution_count": 20,
     "metadata": {
      "tags": []
     },
     "output_type": "execute_result"
    }
   ],
   "source": [
    "# Remove the uncommon features from the test data\n",
    "df_test = df_test.drop(columns=uncommon_feature_test_not_train_val)\n",
    "\n",
    "# Print the first 5 rows of df_test\n",
    "df_test.head()"
   ]
  },
  {
   "cell_type": "markdown",
   "metadata": {
    "colab_type": "text",
    "id": "0i88uPaRzlFV"
   },
   "source": [
    "## Handling identifiers"
   ]
  },
  {
   "cell_type": "markdown",
   "metadata": {
    "colab_type": "text",
    "id": "W8-npdxxzlFV"
   },
   "source": [
    "### Combining the training, validation and test data\n",
    "The code below shows how to combine the training, validation and test data."
   ]
  },
  {
   "cell_type": "code",
   "execution_count": 21,
   "metadata": {
    "colab": {},
    "colab_type": "code",
    "executionInfo": {
     "elapsed": 22954,
     "status": "ok",
     "timestamp": 1598497344734,
     "user": {
      "displayName": "Huang Yuxiao",
      "photoUrl": "",
      "userId": "05167076769245149404"
     },
     "user_tz": 240
    },
    "id": "2djPwG2yzlFV"
   },
   "outputs": [],
   "source": [
    "# Combine df_train, df_val and df_test\n",
    "df = pd.concat([df_train, df_val, df_test], sort=False)"
   ]
  },
  {
   "cell_type": "markdown",
   "metadata": {
    "colab_type": "text",
    "id": "lkVXIUx_zlFX"
   },
   "source": [
    "### Identifying identifiers\n",
    "The code below shows how to find identifiers from data."
   ]
  },
  {
   "cell_type": "code",
   "execution_count": 22,
   "metadata": {
    "colab": {
     "base_uri": "https://localhost:8080/",
     "height": 204
    },
    "colab_type": "code",
    "executionInfo": {
     "elapsed": 23110,
     "status": "ok",
     "timestamp": 1598497344894,
     "user": {
      "displayName": "Huang Yuxiao",
      "photoUrl": "",
      "userId": "05167076769245149404"
     },
     "user_tz": 240
    },
    "id": "m-MkTouVzlFX",
    "outputId": "5531da1d-4db7-43bd-8e47-9aae80acf3aa",
    "scrolled": false
   },
   "outputs": [
    {
     "data": {
      "text/html": [
       "<div>\n",
       "<style scoped>\n",
       "    .dataframe tbody tr th:only-of-type {\n",
       "        vertical-align: middle;\n",
       "    }\n",
       "\n",
       "    .dataframe tbody tr th {\n",
       "        vertical-align: top;\n",
       "    }\n",
       "\n",
       "    .dataframe thead th {\n",
       "        text-align: right;\n",
       "    }\n",
       "</style>\n",
       "<table border=\"1\" class=\"dataframe\">\n",
       "  <thead>\n",
       "    <tr style=\"text-align: right;\">\n",
       "      <th></th>\n",
       "      <th>id</th>\n",
       "    </tr>\n",
       "  </thead>\n",
       "  <tbody>\n",
       "    <tr>\n",
       "      <th>0</th>\n",
       "      <td>86208</td>\n",
       "    </tr>\n",
       "    <tr>\n",
       "      <th>1</th>\n",
       "      <td>855133</td>\n",
       "    </tr>\n",
       "    <tr>\n",
       "      <th>2</th>\n",
       "      <td>893988</td>\n",
       "    </tr>\n",
       "    <tr>\n",
       "      <th>3</th>\n",
       "      <td>903483</td>\n",
       "    </tr>\n",
       "    <tr>\n",
       "      <th>4</th>\n",
       "      <td>874373</td>\n",
       "    </tr>\n",
       "  </tbody>\n",
       "</table>\n",
       "</div>"
      ],
      "text/plain": [
       "       id\n",
       "0   86208\n",
       "1  855133\n",
       "2  893988\n",
       "3  903483\n",
       "4  874373"
      ]
     },
     "execution_count": 22,
     "metadata": {
      "tags": []
     },
     "output_type": "execute_result"
    }
   ],
   "source": [
    "# Call id_checker on df\n",
    "# See the implementation in pmlm_utilities.ipynb\n",
    "df_id = id_checker(df)\n",
    "\n",
    "# Print the first 5 rows of df_id\n",
    "df_id.head()"
   ]
  },
  {
   "cell_type": "markdown",
   "metadata": {
    "colab_type": "text",
    "id": "OUqe6lsczlFZ"
   },
   "source": [
    "### Removing identifiers\n",
    "The code below shows how to remove identifiers from data."
   ]
  },
  {
   "cell_type": "code",
   "execution_count": 23,
   "metadata": {
    "colab": {},
    "colab_type": "code",
    "executionInfo": {
     "elapsed": 23097,
     "status": "ok",
     "timestamp": 1598497344895,
     "user": {
      "displayName": "Huang Yuxiao",
      "photoUrl": "",
      "userId": "05167076769245149404"
     },
     "user_tz": 240
    },
    "id": "mDli2hF0zlFZ",
    "scrolled": true
   },
   "outputs": [],
   "source": [
    "import numpy as np\n",
    "\n",
    "# Remove identifiers from df_train\n",
    "df_train.drop(columns=np.intersect1d(df_id.columns, df_train.columns), inplace=True)\n",
    "\n",
    "# Remove identifiers from df_val\n",
    "df_val.drop(columns=np.intersect1d(df_id.columns, df_val.columns), inplace=True)\n",
    "\n",
    "# Remove identifiers from df_test\n",
    "df_test.drop(columns=np.intersect1d(df_id.columns, df_test.columns), inplace=True)"
   ]
  },
  {
   "cell_type": "code",
   "execution_count": 24,
   "metadata": {
    "colab": {
     "base_uri": "https://localhost:8080/",
     "height": 241
    },
    "colab_type": "code",
    "executionInfo": {
     "elapsed": 23093,
     "status": "ok",
     "timestamp": 1598497344895,
     "user": {
      "displayName": "Huang Yuxiao",
      "photoUrl": "",
      "userId": "05167076769245149404"
     },
     "user_tz": 240
    },
    "id": "RMG8QKFezlFc",
    "outputId": "d01500d7-1a0c-4319-c097-99c7c8061443",
    "scrolled": false
   },
   "outputs": [
    {
     "data": {
      "text/html": [
       "<div>\n",
       "<style scoped>\n",
       "    .dataframe tbody tr th:only-of-type {\n",
       "        vertical-align: middle;\n",
       "    }\n",
       "\n",
       "    .dataframe tbody tr th {\n",
       "        vertical-align: top;\n",
       "    }\n",
       "\n",
       "    .dataframe thead th {\n",
       "        text-align: right;\n",
       "    }\n",
       "</style>\n",
       "<table border=\"1\" class=\"dataframe\">\n",
       "  <thead>\n",
       "    <tr style=\"text-align: right;\">\n",
       "      <th></th>\n",
       "      <th>diagnosis</th>\n",
       "      <th>radius_mean</th>\n",
       "      <th>texture_mean</th>\n",
       "      <th>perimeter_mean</th>\n",
       "      <th>area_mean</th>\n",
       "      <th>smoothness_mean</th>\n",
       "      <th>compactness_mean</th>\n",
       "      <th>concavity_mean</th>\n",
       "      <th>concave points_mean</th>\n",
       "      <th>symmetry_mean</th>\n",
       "      <th>fractal_dimension_mean</th>\n",
       "      <th>radius_se</th>\n",
       "      <th>texture_se</th>\n",
       "      <th>perimeter_se</th>\n",
       "      <th>area_se</th>\n",
       "      <th>smoothness_se</th>\n",
       "      <th>compactness_se</th>\n",
       "      <th>concavity_se</th>\n",
       "      <th>concave points_se</th>\n",
       "      <th>symmetry_se</th>\n",
       "      <th>fractal_dimension_se</th>\n",
       "      <th>radius_worst</th>\n",
       "      <th>texture_worst</th>\n",
       "      <th>perimeter_worst</th>\n",
       "      <th>area_worst</th>\n",
       "      <th>smoothness_worst</th>\n",
       "      <th>compactness_worst</th>\n",
       "      <th>concavity_worst</th>\n",
       "      <th>concave points_worst</th>\n",
       "      <th>symmetry_worst</th>\n",
       "      <th>fractal_dimension_worst</th>\n",
       "    </tr>\n",
       "  </thead>\n",
       "  <tbody>\n",
       "    <tr>\n",
       "      <th>0</th>\n",
       "      <td>M</td>\n",
       "      <td>20.260</td>\n",
       "      <td>23.03</td>\n",
       "      <td>132.40</td>\n",
       "      <td>1264.0</td>\n",
       "      <td>0.09078</td>\n",
       "      <td>0.13130</td>\n",
       "      <td>0.14650</td>\n",
       "      <td>0.086830</td>\n",
       "      <td>0.2095</td>\n",
       "      <td>0.05649</td>\n",
       "      <td>0.7576</td>\n",
       "      <td>1.5090</td>\n",
       "      <td>4.554</td>\n",
       "      <td>87.870</td>\n",
       "      <td>0.006016</td>\n",
       "      <td>0.034820</td>\n",
       "      <td>0.04232</td>\n",
       "      <td>0.012690</td>\n",
       "      <td>0.026570</td>\n",
       "      <td>0.004411</td>\n",
       "      <td>24.22</td>\n",
       "      <td>31.59</td>\n",
       "      <td>156.10</td>\n",
       "      <td>1750.0</td>\n",
       "      <td>0.11900</td>\n",
       "      <td>0.35390</td>\n",
       "      <td>0.40980</td>\n",
       "      <td>0.15730</td>\n",
       "      <td>0.3689</td>\n",
       "      <td>0.08368</td>\n",
       "    </tr>\n",
       "    <tr>\n",
       "      <th>1</th>\n",
       "      <td>M</td>\n",
       "      <td>14.990</td>\n",
       "      <td>25.20</td>\n",
       "      <td>95.54</td>\n",
       "      <td>698.8</td>\n",
       "      <td>0.09387</td>\n",
       "      <td>0.05131</td>\n",
       "      <td>0.02398</td>\n",
       "      <td>0.028990</td>\n",
       "      <td>0.1565</td>\n",
       "      <td>0.05504</td>\n",
       "      <td>1.2140</td>\n",
       "      <td>2.1880</td>\n",
       "      <td>8.077</td>\n",
       "      <td>106.000</td>\n",
       "      <td>0.006883</td>\n",
       "      <td>0.010940</td>\n",
       "      <td>0.01818</td>\n",
       "      <td>0.019170</td>\n",
       "      <td>0.007882</td>\n",
       "      <td>0.001754</td>\n",
       "      <td>14.99</td>\n",
       "      <td>25.20</td>\n",
       "      <td>95.54</td>\n",
       "      <td>698.8</td>\n",
       "      <td>0.09387</td>\n",
       "      <td>0.05131</td>\n",
       "      <td>0.02398</td>\n",
       "      <td>0.02899</td>\n",
       "      <td>0.1565</td>\n",
       "      <td>0.05504</td>\n",
       "    </tr>\n",
       "    <tr>\n",
       "      <th>2</th>\n",
       "      <td>B</td>\n",
       "      <td>11.540</td>\n",
       "      <td>10.72</td>\n",
       "      <td>73.73</td>\n",
       "      <td>409.1</td>\n",
       "      <td>0.08597</td>\n",
       "      <td>0.05969</td>\n",
       "      <td>0.01367</td>\n",
       "      <td>0.008907</td>\n",
       "      <td>0.1833</td>\n",
       "      <td>0.06100</td>\n",
       "      <td>0.1312</td>\n",
       "      <td>0.3602</td>\n",
       "      <td>1.107</td>\n",
       "      <td>9.438</td>\n",
       "      <td>0.004124</td>\n",
       "      <td>0.013400</td>\n",
       "      <td>0.01003</td>\n",
       "      <td>0.004667</td>\n",
       "      <td>0.020320</td>\n",
       "      <td>0.001952</td>\n",
       "      <td>12.34</td>\n",
       "      <td>12.87</td>\n",
       "      <td>81.23</td>\n",
       "      <td>467.8</td>\n",
       "      <td>0.10920</td>\n",
       "      <td>0.16260</td>\n",
       "      <td>0.08324</td>\n",
       "      <td>0.04715</td>\n",
       "      <td>0.3390</td>\n",
       "      <td>0.07434</td>\n",
       "    </tr>\n",
       "    <tr>\n",
       "      <th>3</th>\n",
       "      <td>B</td>\n",
       "      <td>8.734</td>\n",
       "      <td>16.84</td>\n",
       "      <td>55.27</td>\n",
       "      <td>234.3</td>\n",
       "      <td>0.10390</td>\n",
       "      <td>0.07428</td>\n",
       "      <td>0.00000</td>\n",
       "      <td>0.000000</td>\n",
       "      <td>0.1985</td>\n",
       "      <td>0.07098</td>\n",
       "      <td>0.5169</td>\n",
       "      <td>2.0790</td>\n",
       "      <td>3.167</td>\n",
       "      <td>28.850</td>\n",
       "      <td>0.015820</td>\n",
       "      <td>0.019660</td>\n",
       "      <td>0.00000</td>\n",
       "      <td>0.000000</td>\n",
       "      <td>0.018650</td>\n",
       "      <td>0.006736</td>\n",
       "      <td>10.17</td>\n",
       "      <td>22.80</td>\n",
       "      <td>64.01</td>\n",
       "      <td>317.0</td>\n",
       "      <td>0.14600</td>\n",
       "      <td>0.13100</td>\n",
       "      <td>0.00000</td>\n",
       "      <td>0.00000</td>\n",
       "      <td>0.2445</td>\n",
       "      <td>0.08865</td>\n",
       "    </tr>\n",
       "    <tr>\n",
       "      <th>4</th>\n",
       "      <td>B</td>\n",
       "      <td>11.710</td>\n",
       "      <td>17.19</td>\n",
       "      <td>74.68</td>\n",
       "      <td>420.3</td>\n",
       "      <td>0.09774</td>\n",
       "      <td>0.06141</td>\n",
       "      <td>0.03809</td>\n",
       "      <td>0.032390</td>\n",
       "      <td>0.1516</td>\n",
       "      <td>0.06095</td>\n",
       "      <td>0.2451</td>\n",
       "      <td>0.7655</td>\n",
       "      <td>1.742</td>\n",
       "      <td>17.860</td>\n",
       "      <td>0.006905</td>\n",
       "      <td>0.008704</td>\n",
       "      <td>0.01978</td>\n",
       "      <td>0.011850</td>\n",
       "      <td>0.018970</td>\n",
       "      <td>0.001671</td>\n",
       "      <td>13.01</td>\n",
       "      <td>21.39</td>\n",
       "      <td>84.42</td>\n",
       "      <td>521.5</td>\n",
       "      <td>0.13230</td>\n",
       "      <td>0.10400</td>\n",
       "      <td>0.15210</td>\n",
       "      <td>0.10990</td>\n",
       "      <td>0.2572</td>\n",
       "      <td>0.07097</td>\n",
       "    </tr>\n",
       "  </tbody>\n",
       "</table>\n",
       "</div>"
      ],
      "text/plain": [
       "  diagnosis  radius_mean  ...  symmetry_worst  fractal_dimension_worst\n",
       "0         M       20.260  ...          0.3689                  0.08368\n",
       "1         M       14.990  ...          0.1565                  0.05504\n",
       "2         B       11.540  ...          0.3390                  0.07434\n",
       "3         B        8.734  ...          0.2445                  0.08865\n",
       "4         B       11.710  ...          0.2572                  0.07097\n",
       "\n",
       "[5 rows x 31 columns]"
      ]
     },
     "execution_count": 24,
     "metadata": {
      "tags": []
     },
     "output_type": "execute_result"
    }
   ],
   "source": [
    "# Print the first 5 rows of df_train\n",
    "df_train.head()"
   ]
  },
  {
   "cell_type": "code",
   "execution_count": 25,
   "metadata": {
    "colab": {
     "base_uri": "https://localhost:8080/",
     "height": 241
    },
    "colab_type": "code",
    "executionInfo": {
     "elapsed": 23079,
     "status": "ok",
     "timestamp": 1598497344895,
     "user": {
      "displayName": "Huang Yuxiao",
      "photoUrl": "",
      "userId": "05167076769245149404"
     },
     "user_tz": 240
    },
    "id": "Xk_c0vh8zlFe",
    "outputId": "1dada268-605d-4693-a983-38a936fc47e7",
    "scrolled": false
   },
   "outputs": [
    {
     "data": {
      "text/html": [
       "<div>\n",
       "<style scoped>\n",
       "    .dataframe tbody tr th:only-of-type {\n",
       "        vertical-align: middle;\n",
       "    }\n",
       "\n",
       "    .dataframe tbody tr th {\n",
       "        vertical-align: top;\n",
       "    }\n",
       "\n",
       "    .dataframe thead th {\n",
       "        text-align: right;\n",
       "    }\n",
       "</style>\n",
       "<table border=\"1\" class=\"dataframe\">\n",
       "  <thead>\n",
       "    <tr style=\"text-align: right;\">\n",
       "      <th></th>\n",
       "      <th>diagnosis</th>\n",
       "      <th>radius_mean</th>\n",
       "      <th>texture_mean</th>\n",
       "      <th>perimeter_mean</th>\n",
       "      <th>area_mean</th>\n",
       "      <th>smoothness_mean</th>\n",
       "      <th>compactness_mean</th>\n",
       "      <th>concavity_mean</th>\n",
       "      <th>concave points_mean</th>\n",
       "      <th>symmetry_mean</th>\n",
       "      <th>fractal_dimension_mean</th>\n",
       "      <th>radius_se</th>\n",
       "      <th>texture_se</th>\n",
       "      <th>perimeter_se</th>\n",
       "      <th>area_se</th>\n",
       "      <th>smoothness_se</th>\n",
       "      <th>compactness_se</th>\n",
       "      <th>concavity_se</th>\n",
       "      <th>concave points_se</th>\n",
       "      <th>symmetry_se</th>\n",
       "      <th>fractal_dimension_se</th>\n",
       "      <th>radius_worst</th>\n",
       "      <th>texture_worst</th>\n",
       "      <th>perimeter_worst</th>\n",
       "      <th>area_worst</th>\n",
       "      <th>smoothness_worst</th>\n",
       "      <th>compactness_worst</th>\n",
       "      <th>concavity_worst</th>\n",
       "      <th>concave points_worst</th>\n",
       "      <th>symmetry_worst</th>\n",
       "      <th>fractal_dimension_worst</th>\n",
       "    </tr>\n",
       "  </thead>\n",
       "  <tbody>\n",
       "    <tr>\n",
       "      <th>0</th>\n",
       "      <td>B</td>\n",
       "      <td>11.67</td>\n",
       "      <td>20.02</td>\n",
       "      <td>75.21</td>\n",
       "      <td>416.2</td>\n",
       "      <td>0.10160</td>\n",
       "      <td>0.09453</td>\n",
       "      <td>0.04200</td>\n",
       "      <td>0.02157</td>\n",
       "      <td>0.1859</td>\n",
       "      <td>0.06461</td>\n",
       "      <td>0.2067</td>\n",
       "      <td>0.8745</td>\n",
       "      <td>1.393</td>\n",
       "      <td>15.34</td>\n",
       "      <td>0.005251</td>\n",
       "      <td>0.01727</td>\n",
       "      <td>0.01840</td>\n",
       "      <td>0.005298</td>\n",
       "      <td>0.01449</td>\n",
       "      <td>0.002671</td>\n",
       "      <td>13.35</td>\n",
       "      <td>28.81</td>\n",
       "      <td>87.00</td>\n",
       "      <td>550.6</td>\n",
       "      <td>0.15500</td>\n",
       "      <td>0.2964</td>\n",
       "      <td>0.2758</td>\n",
       "      <td>0.08120</td>\n",
       "      <td>0.3206</td>\n",
       "      <td>0.08950</td>\n",
       "    </tr>\n",
       "    <tr>\n",
       "      <th>1</th>\n",
       "      <td>B</td>\n",
       "      <td>10.97</td>\n",
       "      <td>17.20</td>\n",
       "      <td>71.73</td>\n",
       "      <td>371.5</td>\n",
       "      <td>0.08915</td>\n",
       "      <td>0.11130</td>\n",
       "      <td>0.09457</td>\n",
       "      <td>0.03613</td>\n",
       "      <td>0.1489</td>\n",
       "      <td>0.06640</td>\n",
       "      <td>0.2574</td>\n",
       "      <td>1.3760</td>\n",
       "      <td>2.806</td>\n",
       "      <td>18.15</td>\n",
       "      <td>0.008565</td>\n",
       "      <td>0.04638</td>\n",
       "      <td>0.06430</td>\n",
       "      <td>0.017680</td>\n",
       "      <td>0.01516</td>\n",
       "      <td>0.004976</td>\n",
       "      <td>12.36</td>\n",
       "      <td>26.87</td>\n",
       "      <td>90.14</td>\n",
       "      <td>476.4</td>\n",
       "      <td>0.13910</td>\n",
       "      <td>0.4082</td>\n",
       "      <td>0.4779</td>\n",
       "      <td>0.15550</td>\n",
       "      <td>0.2540</td>\n",
       "      <td>0.09532</td>\n",
       "    </tr>\n",
       "    <tr>\n",
       "      <th>2</th>\n",
       "      <td>B</td>\n",
       "      <td>11.93</td>\n",
       "      <td>21.53</td>\n",
       "      <td>76.53</td>\n",
       "      <td>438.6</td>\n",
       "      <td>0.09768</td>\n",
       "      <td>0.07849</td>\n",
       "      <td>0.03328</td>\n",
       "      <td>0.02008</td>\n",
       "      <td>0.1688</td>\n",
       "      <td>0.06194</td>\n",
       "      <td>0.3118</td>\n",
       "      <td>0.9227</td>\n",
       "      <td>2.000</td>\n",
       "      <td>24.79</td>\n",
       "      <td>0.007803</td>\n",
       "      <td>0.02507</td>\n",
       "      <td>0.01835</td>\n",
       "      <td>0.007711</td>\n",
       "      <td>0.01278</td>\n",
       "      <td>0.003856</td>\n",
       "      <td>13.67</td>\n",
       "      <td>26.15</td>\n",
       "      <td>87.54</td>\n",
       "      <td>583.0</td>\n",
       "      <td>0.15000</td>\n",
       "      <td>0.2399</td>\n",
       "      <td>0.1503</td>\n",
       "      <td>0.07247</td>\n",
       "      <td>0.2438</td>\n",
       "      <td>0.08541</td>\n",
       "    </tr>\n",
       "    <tr>\n",
       "      <th>3</th>\n",
       "      <td>B</td>\n",
       "      <td>11.75</td>\n",
       "      <td>17.56</td>\n",
       "      <td>75.89</td>\n",
       "      <td>422.9</td>\n",
       "      <td>0.10730</td>\n",
       "      <td>0.09713</td>\n",
       "      <td>0.05282</td>\n",
       "      <td>0.04440</td>\n",
       "      <td>0.1598</td>\n",
       "      <td>0.06677</td>\n",
       "      <td>0.4384</td>\n",
       "      <td>1.9070</td>\n",
       "      <td>3.149</td>\n",
       "      <td>30.66</td>\n",
       "      <td>0.006587</td>\n",
       "      <td>0.01815</td>\n",
       "      <td>0.01737</td>\n",
       "      <td>0.013160</td>\n",
       "      <td>0.01835</td>\n",
       "      <td>0.002318</td>\n",
       "      <td>13.50</td>\n",
       "      <td>27.98</td>\n",
       "      <td>88.52</td>\n",
       "      <td>552.3</td>\n",
       "      <td>0.13490</td>\n",
       "      <td>0.1854</td>\n",
       "      <td>0.1366</td>\n",
       "      <td>0.10100</td>\n",
       "      <td>0.2478</td>\n",
       "      <td>0.07757</td>\n",
       "    </tr>\n",
       "    <tr>\n",
       "      <th>4</th>\n",
       "      <td>B</td>\n",
       "      <td>12.85</td>\n",
       "      <td>21.37</td>\n",
       "      <td>82.63</td>\n",
       "      <td>514.5</td>\n",
       "      <td>0.07551</td>\n",
       "      <td>0.08316</td>\n",
       "      <td>0.06126</td>\n",
       "      <td>0.01867</td>\n",
       "      <td>0.1580</td>\n",
       "      <td>0.06114</td>\n",
       "      <td>0.4993</td>\n",
       "      <td>1.7980</td>\n",
       "      <td>2.552</td>\n",
       "      <td>41.24</td>\n",
       "      <td>0.006011</td>\n",
       "      <td>0.04480</td>\n",
       "      <td>0.05175</td>\n",
       "      <td>0.013410</td>\n",
       "      <td>0.02669</td>\n",
       "      <td>0.007731</td>\n",
       "      <td>14.40</td>\n",
       "      <td>27.01</td>\n",
       "      <td>91.63</td>\n",
       "      <td>645.8</td>\n",
       "      <td>0.09402</td>\n",
       "      <td>0.1936</td>\n",
       "      <td>0.1838</td>\n",
       "      <td>0.05601</td>\n",
       "      <td>0.2488</td>\n",
       "      <td>0.08151</td>\n",
       "    </tr>\n",
       "  </tbody>\n",
       "</table>\n",
       "</div>"
      ],
      "text/plain": [
       "  diagnosis  radius_mean  ...  symmetry_worst  fractal_dimension_worst\n",
       "0         B        11.67  ...          0.3206                  0.08950\n",
       "1         B        10.97  ...          0.2540                  0.09532\n",
       "2         B        11.93  ...          0.2438                  0.08541\n",
       "3         B        11.75  ...          0.2478                  0.07757\n",
       "4         B        12.85  ...          0.2488                  0.08151\n",
       "\n",
       "[5 rows x 31 columns]"
      ]
     },
     "execution_count": 25,
     "metadata": {
      "tags": []
     },
     "output_type": "execute_result"
    }
   ],
   "source": [
    "# Print the first 5 rows of df_val\n",
    "df_val.head()"
   ]
  },
  {
   "cell_type": "code",
   "execution_count": 26,
   "metadata": {
    "colab": {
     "base_uri": "https://localhost:8080/",
     "height": 241
    },
    "colab_type": "code",
    "executionInfo": {
     "elapsed": 23253,
     "status": "ok",
     "timestamp": 1598497345084,
     "user": {
      "displayName": "Huang Yuxiao",
      "photoUrl": "",
      "userId": "05167076769245149404"
     },
     "user_tz": 240
    },
    "id": "ib3DKH0DzlFg",
    "outputId": "cdc415c2-444c-4692-ffe7-7c75fff82043",
    "scrolled": false
   },
   "outputs": [
    {
     "data": {
      "text/html": [
       "<div>\n",
       "<style scoped>\n",
       "    .dataframe tbody tr th:only-of-type {\n",
       "        vertical-align: middle;\n",
       "    }\n",
       "\n",
       "    .dataframe tbody tr th {\n",
       "        vertical-align: top;\n",
       "    }\n",
       "\n",
       "    .dataframe thead th {\n",
       "        text-align: right;\n",
       "    }\n",
       "</style>\n",
       "<table border=\"1\" class=\"dataframe\">\n",
       "  <thead>\n",
       "    <tr style=\"text-align: right;\">\n",
       "      <th></th>\n",
       "      <th>diagnosis</th>\n",
       "      <th>radius_mean</th>\n",
       "      <th>texture_mean</th>\n",
       "      <th>perimeter_mean</th>\n",
       "      <th>area_mean</th>\n",
       "      <th>smoothness_mean</th>\n",
       "      <th>compactness_mean</th>\n",
       "      <th>concavity_mean</th>\n",
       "      <th>concave points_mean</th>\n",
       "      <th>symmetry_mean</th>\n",
       "      <th>fractal_dimension_mean</th>\n",
       "      <th>radius_se</th>\n",
       "      <th>texture_se</th>\n",
       "      <th>perimeter_se</th>\n",
       "      <th>area_se</th>\n",
       "      <th>smoothness_se</th>\n",
       "      <th>compactness_se</th>\n",
       "      <th>concavity_se</th>\n",
       "      <th>concave points_se</th>\n",
       "      <th>symmetry_se</th>\n",
       "      <th>fractal_dimension_se</th>\n",
       "      <th>radius_worst</th>\n",
       "      <th>texture_worst</th>\n",
       "      <th>perimeter_worst</th>\n",
       "      <th>area_worst</th>\n",
       "      <th>smoothness_worst</th>\n",
       "      <th>compactness_worst</th>\n",
       "      <th>concavity_worst</th>\n",
       "      <th>concave points_worst</th>\n",
       "      <th>symmetry_worst</th>\n",
       "      <th>fractal_dimension_worst</th>\n",
       "    </tr>\n",
       "  </thead>\n",
       "  <tbody>\n",
       "    <tr>\n",
       "      <th>0</th>\n",
       "      <td>B</td>\n",
       "      <td>11.68</td>\n",
       "      <td>16.17</td>\n",
       "      <td>75.49</td>\n",
       "      <td>420.5</td>\n",
       "      <td>0.11280</td>\n",
       "      <td>0.09263</td>\n",
       "      <td>0.042790</td>\n",
       "      <td>0.031320</td>\n",
       "      <td>0.1853</td>\n",
       "      <td>0.06401</td>\n",
       "      <td>0.3713</td>\n",
       "      <td>1.1540</td>\n",
       "      <td>2.554</td>\n",
       "      <td>27.57</td>\n",
       "      <td>0.008998</td>\n",
       "      <td>0.012920</td>\n",
       "      <td>0.01851</td>\n",
       "      <td>0.011670</td>\n",
       "      <td>0.02152</td>\n",
       "      <td>0.003213</td>\n",
       "      <td>13.32</td>\n",
       "      <td>21.59</td>\n",
       "      <td>86.57</td>\n",
       "      <td>549.8</td>\n",
       "      <td>0.15260</td>\n",
       "      <td>0.14770</td>\n",
       "      <td>0.14900</td>\n",
       "      <td>0.09815</td>\n",
       "      <td>0.2804</td>\n",
       "      <td>0.08024</td>\n",
       "    </tr>\n",
       "    <tr>\n",
       "      <th>1</th>\n",
       "      <td>B</td>\n",
       "      <td>13.50</td>\n",
       "      <td>12.71</td>\n",
       "      <td>85.69</td>\n",
       "      <td>566.2</td>\n",
       "      <td>0.07376</td>\n",
       "      <td>0.03614</td>\n",
       "      <td>0.002758</td>\n",
       "      <td>0.004419</td>\n",
       "      <td>0.1365</td>\n",
       "      <td>0.05335</td>\n",
       "      <td>0.2244</td>\n",
       "      <td>0.6864</td>\n",
       "      <td>1.509</td>\n",
       "      <td>20.39</td>\n",
       "      <td>0.003338</td>\n",
       "      <td>0.003746</td>\n",
       "      <td>0.00203</td>\n",
       "      <td>0.003242</td>\n",
       "      <td>0.01480</td>\n",
       "      <td>0.001566</td>\n",
       "      <td>14.97</td>\n",
       "      <td>16.94</td>\n",
       "      <td>95.48</td>\n",
       "      <td>698.7</td>\n",
       "      <td>0.09023</td>\n",
       "      <td>0.05836</td>\n",
       "      <td>0.01379</td>\n",
       "      <td>0.02210</td>\n",
       "      <td>0.2267</td>\n",
       "      <td>0.06192</td>\n",
       "    </tr>\n",
       "    <tr>\n",
       "      <th>2</th>\n",
       "      <td>B</td>\n",
       "      <td>12.75</td>\n",
       "      <td>16.70</td>\n",
       "      <td>82.51</td>\n",
       "      <td>493.8</td>\n",
       "      <td>0.11250</td>\n",
       "      <td>0.11170</td>\n",
       "      <td>0.038800</td>\n",
       "      <td>0.029950</td>\n",
       "      <td>0.2120</td>\n",
       "      <td>0.06623</td>\n",
       "      <td>0.3834</td>\n",
       "      <td>1.0030</td>\n",
       "      <td>2.495</td>\n",
       "      <td>28.62</td>\n",
       "      <td>0.007509</td>\n",
       "      <td>0.015610</td>\n",
       "      <td>0.01977</td>\n",
       "      <td>0.009199</td>\n",
       "      <td>0.01805</td>\n",
       "      <td>0.003629</td>\n",
       "      <td>14.45</td>\n",
       "      <td>21.74</td>\n",
       "      <td>93.63</td>\n",
       "      <td>624.1</td>\n",
       "      <td>0.14750</td>\n",
       "      <td>0.19790</td>\n",
       "      <td>0.14230</td>\n",
       "      <td>0.08045</td>\n",
       "      <td>0.3071</td>\n",
       "      <td>0.08557</td>\n",
       "    </tr>\n",
       "    <tr>\n",
       "      <th>3</th>\n",
       "      <td>M</td>\n",
       "      <td>18.94</td>\n",
       "      <td>21.31</td>\n",
       "      <td>123.60</td>\n",
       "      <td>1130.0</td>\n",
       "      <td>0.09009</td>\n",
       "      <td>0.10290</td>\n",
       "      <td>0.108000</td>\n",
       "      <td>0.079510</td>\n",
       "      <td>0.1582</td>\n",
       "      <td>0.05461</td>\n",
       "      <td>0.7888</td>\n",
       "      <td>0.7975</td>\n",
       "      <td>5.486</td>\n",
       "      <td>96.05</td>\n",
       "      <td>0.004444</td>\n",
       "      <td>0.016520</td>\n",
       "      <td>0.02269</td>\n",
       "      <td>0.013700</td>\n",
       "      <td>0.01386</td>\n",
       "      <td>0.001698</td>\n",
       "      <td>24.86</td>\n",
       "      <td>26.58</td>\n",
       "      <td>165.90</td>\n",
       "      <td>1866.0</td>\n",
       "      <td>0.11930</td>\n",
       "      <td>0.23360</td>\n",
       "      <td>0.26870</td>\n",
       "      <td>0.17890</td>\n",
       "      <td>0.2551</td>\n",
       "      <td>0.06589</td>\n",
       "    </tr>\n",
       "    <tr>\n",
       "      <th>4</th>\n",
       "      <td>M</td>\n",
       "      <td>17.30</td>\n",
       "      <td>17.08</td>\n",
       "      <td>113.00</td>\n",
       "      <td>928.2</td>\n",
       "      <td>0.10080</td>\n",
       "      <td>0.10410</td>\n",
       "      <td>0.126600</td>\n",
       "      <td>0.083530</td>\n",
       "      <td>0.1813</td>\n",
       "      <td>0.05613</td>\n",
       "      <td>0.3093</td>\n",
       "      <td>0.8568</td>\n",
       "      <td>2.193</td>\n",
       "      <td>33.63</td>\n",
       "      <td>0.004757</td>\n",
       "      <td>0.015030</td>\n",
       "      <td>0.02332</td>\n",
       "      <td>0.012620</td>\n",
       "      <td>0.01394</td>\n",
       "      <td>0.002362</td>\n",
       "      <td>19.85</td>\n",
       "      <td>25.09</td>\n",
       "      <td>130.90</td>\n",
       "      <td>1222.0</td>\n",
       "      <td>0.14160</td>\n",
       "      <td>0.24050</td>\n",
       "      <td>0.33780</td>\n",
       "      <td>0.18570</td>\n",
       "      <td>0.3138</td>\n",
       "      <td>0.08113</td>\n",
       "    </tr>\n",
       "  </tbody>\n",
       "</table>\n",
       "</div>"
      ],
      "text/plain": [
       "  diagnosis  radius_mean  ...  symmetry_worst  fractal_dimension_worst\n",
       "0         B        11.68  ...          0.2804                  0.08024\n",
       "1         B        13.50  ...          0.2267                  0.06192\n",
       "2         B        12.75  ...          0.3071                  0.08557\n",
       "3         M        18.94  ...          0.2551                  0.06589\n",
       "4         M        17.30  ...          0.3138                  0.08113\n",
       "\n",
       "[5 rows x 31 columns]"
      ]
     },
     "execution_count": 26,
     "metadata": {
      "tags": []
     },
     "output_type": "execute_result"
    }
   ],
   "source": [
    "# Print the first 5 rows of df_test\n",
    "df_test.head()"
   ]
  },
  {
   "cell_type": "markdown",
   "metadata": {
    "colab_type": "text",
    "id": "FEWSa3FlVEJ4"
   },
   "source": [
    "## Handling date time variables\n",
    "\n"
   ]
  },
  {
   "cell_type": "markdown",
   "metadata": {
    "colab_type": "text",
    "id": "YkvArMXuVEJ4"
   },
   "source": [
    "### Transforming date time variables\n",
    "The code below shows how to transform date time variables into the following 6 datetime types:\n",
    "- year\n",
    "- month\n",
    "- day\n",
    "- hour\n",
    "- minute\n",
    "- second"
   ]
  },
  {
   "cell_type": "code",
   "execution_count": 27,
   "metadata": {
    "colab": {},
    "colab_type": "code",
    "executionInfo": {
     "elapsed": 23240,
     "status": "ok",
     "timestamp": 1598497345085,
     "user": {
      "displayName": "Huang Yuxiao",
      "photoUrl": "",
      "userId": "05167076769245149404"
     },
     "user_tz": 240
    },
    "id": "TkLsPcCnOdGi"
   },
   "outputs": [],
   "source": [
    "# Get the date time variables\n",
    "datetime_vars = []"
   ]
  },
  {
   "cell_type": "code",
   "execution_count": 28,
   "metadata": {
    "colab": {
     "base_uri": "https://localhost:8080/",
     "height": 241
    },
    "colab_type": "code",
    "executionInfo": {
     "elapsed": 23236,
     "status": "ok",
     "timestamp": 1598497345085,
     "user": {
      "displayName": "Huang Yuxiao",
      "photoUrl": "",
      "userId": "05167076769245149404"
     },
     "user_tz": 240
    },
    "id": "fVh2HAksVEJ6",
    "outputId": "46d26f7d-5b86-49a3-f8dd-0ecf453fed15"
   },
   "outputs": [
    {
     "data": {
      "text/html": [
       "<div>\n",
       "<style scoped>\n",
       "    .dataframe tbody tr th:only-of-type {\n",
       "        vertical-align: middle;\n",
       "    }\n",
       "\n",
       "    .dataframe tbody tr th {\n",
       "        vertical-align: top;\n",
       "    }\n",
       "\n",
       "    .dataframe thead th {\n",
       "        text-align: right;\n",
       "    }\n",
       "</style>\n",
       "<table border=\"1\" class=\"dataframe\">\n",
       "  <thead>\n",
       "    <tr style=\"text-align: right;\">\n",
       "      <th></th>\n",
       "      <th>diagnosis</th>\n",
       "      <th>radius_mean</th>\n",
       "      <th>texture_mean</th>\n",
       "      <th>perimeter_mean</th>\n",
       "      <th>area_mean</th>\n",
       "      <th>smoothness_mean</th>\n",
       "      <th>compactness_mean</th>\n",
       "      <th>concavity_mean</th>\n",
       "      <th>concave points_mean</th>\n",
       "      <th>symmetry_mean</th>\n",
       "      <th>fractal_dimension_mean</th>\n",
       "      <th>radius_se</th>\n",
       "      <th>texture_se</th>\n",
       "      <th>perimeter_se</th>\n",
       "      <th>area_se</th>\n",
       "      <th>smoothness_se</th>\n",
       "      <th>compactness_se</th>\n",
       "      <th>concavity_se</th>\n",
       "      <th>concave points_se</th>\n",
       "      <th>symmetry_se</th>\n",
       "      <th>fractal_dimension_se</th>\n",
       "      <th>radius_worst</th>\n",
       "      <th>texture_worst</th>\n",
       "      <th>perimeter_worst</th>\n",
       "      <th>area_worst</th>\n",
       "      <th>smoothness_worst</th>\n",
       "      <th>compactness_worst</th>\n",
       "      <th>concavity_worst</th>\n",
       "      <th>concave points_worst</th>\n",
       "      <th>symmetry_worst</th>\n",
       "      <th>fractal_dimension_worst</th>\n",
       "    </tr>\n",
       "  </thead>\n",
       "  <tbody>\n",
       "    <tr>\n",
       "      <th>0</th>\n",
       "      <td>M</td>\n",
       "      <td>20.260</td>\n",
       "      <td>23.03</td>\n",
       "      <td>132.40</td>\n",
       "      <td>1264.0</td>\n",
       "      <td>0.09078</td>\n",
       "      <td>0.13130</td>\n",
       "      <td>0.14650</td>\n",
       "      <td>0.086830</td>\n",
       "      <td>0.2095</td>\n",
       "      <td>0.05649</td>\n",
       "      <td>0.7576</td>\n",
       "      <td>1.5090</td>\n",
       "      <td>4.554</td>\n",
       "      <td>87.870</td>\n",
       "      <td>0.006016</td>\n",
       "      <td>0.034820</td>\n",
       "      <td>0.04232</td>\n",
       "      <td>0.012690</td>\n",
       "      <td>0.026570</td>\n",
       "      <td>0.004411</td>\n",
       "      <td>24.22</td>\n",
       "      <td>31.59</td>\n",
       "      <td>156.10</td>\n",
       "      <td>1750.0</td>\n",
       "      <td>0.11900</td>\n",
       "      <td>0.35390</td>\n",
       "      <td>0.40980</td>\n",
       "      <td>0.15730</td>\n",
       "      <td>0.3689</td>\n",
       "      <td>0.08368</td>\n",
       "    </tr>\n",
       "    <tr>\n",
       "      <th>1</th>\n",
       "      <td>M</td>\n",
       "      <td>14.990</td>\n",
       "      <td>25.20</td>\n",
       "      <td>95.54</td>\n",
       "      <td>698.8</td>\n",
       "      <td>0.09387</td>\n",
       "      <td>0.05131</td>\n",
       "      <td>0.02398</td>\n",
       "      <td>0.028990</td>\n",
       "      <td>0.1565</td>\n",
       "      <td>0.05504</td>\n",
       "      <td>1.2140</td>\n",
       "      <td>2.1880</td>\n",
       "      <td>8.077</td>\n",
       "      <td>106.000</td>\n",
       "      <td>0.006883</td>\n",
       "      <td>0.010940</td>\n",
       "      <td>0.01818</td>\n",
       "      <td>0.019170</td>\n",
       "      <td>0.007882</td>\n",
       "      <td>0.001754</td>\n",
       "      <td>14.99</td>\n",
       "      <td>25.20</td>\n",
       "      <td>95.54</td>\n",
       "      <td>698.8</td>\n",
       "      <td>0.09387</td>\n",
       "      <td>0.05131</td>\n",
       "      <td>0.02398</td>\n",
       "      <td>0.02899</td>\n",
       "      <td>0.1565</td>\n",
       "      <td>0.05504</td>\n",
       "    </tr>\n",
       "    <tr>\n",
       "      <th>2</th>\n",
       "      <td>B</td>\n",
       "      <td>11.540</td>\n",
       "      <td>10.72</td>\n",
       "      <td>73.73</td>\n",
       "      <td>409.1</td>\n",
       "      <td>0.08597</td>\n",
       "      <td>0.05969</td>\n",
       "      <td>0.01367</td>\n",
       "      <td>0.008907</td>\n",
       "      <td>0.1833</td>\n",
       "      <td>0.06100</td>\n",
       "      <td>0.1312</td>\n",
       "      <td>0.3602</td>\n",
       "      <td>1.107</td>\n",
       "      <td>9.438</td>\n",
       "      <td>0.004124</td>\n",
       "      <td>0.013400</td>\n",
       "      <td>0.01003</td>\n",
       "      <td>0.004667</td>\n",
       "      <td>0.020320</td>\n",
       "      <td>0.001952</td>\n",
       "      <td>12.34</td>\n",
       "      <td>12.87</td>\n",
       "      <td>81.23</td>\n",
       "      <td>467.8</td>\n",
       "      <td>0.10920</td>\n",
       "      <td>0.16260</td>\n",
       "      <td>0.08324</td>\n",
       "      <td>0.04715</td>\n",
       "      <td>0.3390</td>\n",
       "      <td>0.07434</td>\n",
       "    </tr>\n",
       "    <tr>\n",
       "      <th>3</th>\n",
       "      <td>B</td>\n",
       "      <td>8.734</td>\n",
       "      <td>16.84</td>\n",
       "      <td>55.27</td>\n",
       "      <td>234.3</td>\n",
       "      <td>0.10390</td>\n",
       "      <td>0.07428</td>\n",
       "      <td>0.00000</td>\n",
       "      <td>0.000000</td>\n",
       "      <td>0.1985</td>\n",
       "      <td>0.07098</td>\n",
       "      <td>0.5169</td>\n",
       "      <td>2.0790</td>\n",
       "      <td>3.167</td>\n",
       "      <td>28.850</td>\n",
       "      <td>0.015820</td>\n",
       "      <td>0.019660</td>\n",
       "      <td>0.00000</td>\n",
       "      <td>0.000000</td>\n",
       "      <td>0.018650</td>\n",
       "      <td>0.006736</td>\n",
       "      <td>10.17</td>\n",
       "      <td>22.80</td>\n",
       "      <td>64.01</td>\n",
       "      <td>317.0</td>\n",
       "      <td>0.14600</td>\n",
       "      <td>0.13100</td>\n",
       "      <td>0.00000</td>\n",
       "      <td>0.00000</td>\n",
       "      <td>0.2445</td>\n",
       "      <td>0.08865</td>\n",
       "    </tr>\n",
       "    <tr>\n",
       "      <th>4</th>\n",
       "      <td>B</td>\n",
       "      <td>11.710</td>\n",
       "      <td>17.19</td>\n",
       "      <td>74.68</td>\n",
       "      <td>420.3</td>\n",
       "      <td>0.09774</td>\n",
       "      <td>0.06141</td>\n",
       "      <td>0.03809</td>\n",
       "      <td>0.032390</td>\n",
       "      <td>0.1516</td>\n",
       "      <td>0.06095</td>\n",
       "      <td>0.2451</td>\n",
       "      <td>0.7655</td>\n",
       "      <td>1.742</td>\n",
       "      <td>17.860</td>\n",
       "      <td>0.006905</td>\n",
       "      <td>0.008704</td>\n",
       "      <td>0.01978</td>\n",
       "      <td>0.011850</td>\n",
       "      <td>0.018970</td>\n",
       "      <td>0.001671</td>\n",
       "      <td>13.01</td>\n",
       "      <td>21.39</td>\n",
       "      <td>84.42</td>\n",
       "      <td>521.5</td>\n",
       "      <td>0.13230</td>\n",
       "      <td>0.10400</td>\n",
       "      <td>0.15210</td>\n",
       "      <td>0.10990</td>\n",
       "      <td>0.2572</td>\n",
       "      <td>0.07097</td>\n",
       "    </tr>\n",
       "  </tbody>\n",
       "</table>\n",
       "</div>"
      ],
      "text/plain": [
       "  diagnosis  radius_mean  ...  symmetry_worst  fractal_dimension_worst\n",
       "0         M       20.260  ...          0.3689                  0.08368\n",
       "1         M       14.990  ...          0.1565                  0.05504\n",
       "2         B       11.540  ...          0.3390                  0.07434\n",
       "3         B        8.734  ...          0.2445                  0.08865\n",
       "4         B       11.710  ...          0.2572                  0.07097\n",
       "\n",
       "[5 rows x 31 columns]"
      ]
     },
     "execution_count": 28,
     "metadata": {
      "tags": []
     },
     "output_type": "execute_result"
    }
   ],
   "source": [
    "# Call datetime_transformer on df_train\n",
    "df_train = datetime_transformer(df_train, datetime_vars)\n",
    "\n",
    "# Print the first 5 rows of df_train\n",
    "df_train.head()"
   ]
  },
  {
   "cell_type": "code",
   "execution_count": 29,
   "metadata": {
    "colab": {
     "base_uri": "https://localhost:8080/",
     "height": 241
    },
    "colab_type": "code",
    "executionInfo": {
     "elapsed": 23389,
     "status": "ok",
     "timestamp": 1598497345253,
     "user": {
      "displayName": "Huang Yuxiao",
      "photoUrl": "",
      "userId": "05167076769245149404"
     },
     "user_tz": 240
    },
    "id": "yE-XP-z8MxNk",
    "outputId": "9b8ede11-39d4-406a-82ad-5a6d035594cd"
   },
   "outputs": [
    {
     "data": {
      "text/html": [
       "<div>\n",
       "<style scoped>\n",
       "    .dataframe tbody tr th:only-of-type {\n",
       "        vertical-align: middle;\n",
       "    }\n",
       "\n",
       "    .dataframe tbody tr th {\n",
       "        vertical-align: top;\n",
       "    }\n",
       "\n",
       "    .dataframe thead th {\n",
       "        text-align: right;\n",
       "    }\n",
       "</style>\n",
       "<table border=\"1\" class=\"dataframe\">\n",
       "  <thead>\n",
       "    <tr style=\"text-align: right;\">\n",
       "      <th></th>\n",
       "      <th>diagnosis</th>\n",
       "      <th>radius_mean</th>\n",
       "      <th>texture_mean</th>\n",
       "      <th>perimeter_mean</th>\n",
       "      <th>area_mean</th>\n",
       "      <th>smoothness_mean</th>\n",
       "      <th>compactness_mean</th>\n",
       "      <th>concavity_mean</th>\n",
       "      <th>concave points_mean</th>\n",
       "      <th>symmetry_mean</th>\n",
       "      <th>fractal_dimension_mean</th>\n",
       "      <th>radius_se</th>\n",
       "      <th>texture_se</th>\n",
       "      <th>perimeter_se</th>\n",
       "      <th>area_se</th>\n",
       "      <th>smoothness_se</th>\n",
       "      <th>compactness_se</th>\n",
       "      <th>concavity_se</th>\n",
       "      <th>concave points_se</th>\n",
       "      <th>symmetry_se</th>\n",
       "      <th>fractal_dimension_se</th>\n",
       "      <th>radius_worst</th>\n",
       "      <th>texture_worst</th>\n",
       "      <th>perimeter_worst</th>\n",
       "      <th>area_worst</th>\n",
       "      <th>smoothness_worst</th>\n",
       "      <th>compactness_worst</th>\n",
       "      <th>concavity_worst</th>\n",
       "      <th>concave points_worst</th>\n",
       "      <th>symmetry_worst</th>\n",
       "      <th>fractal_dimension_worst</th>\n",
       "    </tr>\n",
       "  </thead>\n",
       "  <tbody>\n",
       "    <tr>\n",
       "      <th>0</th>\n",
       "      <td>B</td>\n",
       "      <td>11.67</td>\n",
       "      <td>20.02</td>\n",
       "      <td>75.21</td>\n",
       "      <td>416.2</td>\n",
       "      <td>0.10160</td>\n",
       "      <td>0.09453</td>\n",
       "      <td>0.04200</td>\n",
       "      <td>0.02157</td>\n",
       "      <td>0.1859</td>\n",
       "      <td>0.06461</td>\n",
       "      <td>0.2067</td>\n",
       "      <td>0.8745</td>\n",
       "      <td>1.393</td>\n",
       "      <td>15.34</td>\n",
       "      <td>0.005251</td>\n",
       "      <td>0.01727</td>\n",
       "      <td>0.01840</td>\n",
       "      <td>0.005298</td>\n",
       "      <td>0.01449</td>\n",
       "      <td>0.002671</td>\n",
       "      <td>13.35</td>\n",
       "      <td>28.81</td>\n",
       "      <td>87.00</td>\n",
       "      <td>550.6</td>\n",
       "      <td>0.15500</td>\n",
       "      <td>0.2964</td>\n",
       "      <td>0.2758</td>\n",
       "      <td>0.08120</td>\n",
       "      <td>0.3206</td>\n",
       "      <td>0.08950</td>\n",
       "    </tr>\n",
       "    <tr>\n",
       "      <th>1</th>\n",
       "      <td>B</td>\n",
       "      <td>10.97</td>\n",
       "      <td>17.20</td>\n",
       "      <td>71.73</td>\n",
       "      <td>371.5</td>\n",
       "      <td>0.08915</td>\n",
       "      <td>0.11130</td>\n",
       "      <td>0.09457</td>\n",
       "      <td>0.03613</td>\n",
       "      <td>0.1489</td>\n",
       "      <td>0.06640</td>\n",
       "      <td>0.2574</td>\n",
       "      <td>1.3760</td>\n",
       "      <td>2.806</td>\n",
       "      <td>18.15</td>\n",
       "      <td>0.008565</td>\n",
       "      <td>0.04638</td>\n",
       "      <td>0.06430</td>\n",
       "      <td>0.017680</td>\n",
       "      <td>0.01516</td>\n",
       "      <td>0.004976</td>\n",
       "      <td>12.36</td>\n",
       "      <td>26.87</td>\n",
       "      <td>90.14</td>\n",
       "      <td>476.4</td>\n",
       "      <td>0.13910</td>\n",
       "      <td>0.4082</td>\n",
       "      <td>0.4779</td>\n",
       "      <td>0.15550</td>\n",
       "      <td>0.2540</td>\n",
       "      <td>0.09532</td>\n",
       "    </tr>\n",
       "    <tr>\n",
       "      <th>2</th>\n",
       "      <td>B</td>\n",
       "      <td>11.93</td>\n",
       "      <td>21.53</td>\n",
       "      <td>76.53</td>\n",
       "      <td>438.6</td>\n",
       "      <td>0.09768</td>\n",
       "      <td>0.07849</td>\n",
       "      <td>0.03328</td>\n",
       "      <td>0.02008</td>\n",
       "      <td>0.1688</td>\n",
       "      <td>0.06194</td>\n",
       "      <td>0.3118</td>\n",
       "      <td>0.9227</td>\n",
       "      <td>2.000</td>\n",
       "      <td>24.79</td>\n",
       "      <td>0.007803</td>\n",
       "      <td>0.02507</td>\n",
       "      <td>0.01835</td>\n",
       "      <td>0.007711</td>\n",
       "      <td>0.01278</td>\n",
       "      <td>0.003856</td>\n",
       "      <td>13.67</td>\n",
       "      <td>26.15</td>\n",
       "      <td>87.54</td>\n",
       "      <td>583.0</td>\n",
       "      <td>0.15000</td>\n",
       "      <td>0.2399</td>\n",
       "      <td>0.1503</td>\n",
       "      <td>0.07247</td>\n",
       "      <td>0.2438</td>\n",
       "      <td>0.08541</td>\n",
       "    </tr>\n",
       "    <tr>\n",
       "      <th>3</th>\n",
       "      <td>B</td>\n",
       "      <td>11.75</td>\n",
       "      <td>17.56</td>\n",
       "      <td>75.89</td>\n",
       "      <td>422.9</td>\n",
       "      <td>0.10730</td>\n",
       "      <td>0.09713</td>\n",
       "      <td>0.05282</td>\n",
       "      <td>0.04440</td>\n",
       "      <td>0.1598</td>\n",
       "      <td>0.06677</td>\n",
       "      <td>0.4384</td>\n",
       "      <td>1.9070</td>\n",
       "      <td>3.149</td>\n",
       "      <td>30.66</td>\n",
       "      <td>0.006587</td>\n",
       "      <td>0.01815</td>\n",
       "      <td>0.01737</td>\n",
       "      <td>0.013160</td>\n",
       "      <td>0.01835</td>\n",
       "      <td>0.002318</td>\n",
       "      <td>13.50</td>\n",
       "      <td>27.98</td>\n",
       "      <td>88.52</td>\n",
       "      <td>552.3</td>\n",
       "      <td>0.13490</td>\n",
       "      <td>0.1854</td>\n",
       "      <td>0.1366</td>\n",
       "      <td>0.10100</td>\n",
       "      <td>0.2478</td>\n",
       "      <td>0.07757</td>\n",
       "    </tr>\n",
       "    <tr>\n",
       "      <th>4</th>\n",
       "      <td>B</td>\n",
       "      <td>12.85</td>\n",
       "      <td>21.37</td>\n",
       "      <td>82.63</td>\n",
       "      <td>514.5</td>\n",
       "      <td>0.07551</td>\n",
       "      <td>0.08316</td>\n",
       "      <td>0.06126</td>\n",
       "      <td>0.01867</td>\n",
       "      <td>0.1580</td>\n",
       "      <td>0.06114</td>\n",
       "      <td>0.4993</td>\n",
       "      <td>1.7980</td>\n",
       "      <td>2.552</td>\n",
       "      <td>41.24</td>\n",
       "      <td>0.006011</td>\n",
       "      <td>0.04480</td>\n",
       "      <td>0.05175</td>\n",
       "      <td>0.013410</td>\n",
       "      <td>0.02669</td>\n",
       "      <td>0.007731</td>\n",
       "      <td>14.40</td>\n",
       "      <td>27.01</td>\n",
       "      <td>91.63</td>\n",
       "      <td>645.8</td>\n",
       "      <td>0.09402</td>\n",
       "      <td>0.1936</td>\n",
       "      <td>0.1838</td>\n",
       "      <td>0.05601</td>\n",
       "      <td>0.2488</td>\n",
       "      <td>0.08151</td>\n",
       "    </tr>\n",
       "  </tbody>\n",
       "</table>\n",
       "</div>"
      ],
      "text/plain": [
       "  diagnosis  radius_mean  ...  symmetry_worst  fractal_dimension_worst\n",
       "0         B        11.67  ...          0.3206                  0.08950\n",
       "1         B        10.97  ...          0.2540                  0.09532\n",
       "2         B        11.93  ...          0.2438                  0.08541\n",
       "3         B        11.75  ...          0.2478                  0.07757\n",
       "4         B        12.85  ...          0.2488                  0.08151\n",
       "\n",
       "[5 rows x 31 columns]"
      ]
     },
     "execution_count": 29,
     "metadata": {
      "tags": []
     },
     "output_type": "execute_result"
    }
   ],
   "source": [
    "# Call datetime_transformer on df_val\n",
    "df_val = datetime_transformer(df_val, datetime_vars)\n",
    "\n",
    "# Print the first 5 rows of df_val\n",
    "df_val.head()"
   ]
  },
  {
   "cell_type": "code",
   "execution_count": 30,
   "metadata": {
    "colab": {
     "base_uri": "https://localhost:8080/",
     "height": 241
    },
    "colab_type": "code",
    "executionInfo": {
     "elapsed": 23375,
     "status": "ok",
     "timestamp": 1598497345253,
     "user": {
      "displayName": "Huang Yuxiao",
      "photoUrl": "",
      "userId": "05167076769245149404"
     },
     "user_tz": 240
    },
    "id": "TraRqZFbVEJ8",
    "outputId": "a8f2f562-7a96-4749-f422-a3e45449dd1a",
    "scrolled": false
   },
   "outputs": [
    {
     "data": {
      "text/html": [
       "<div>\n",
       "<style scoped>\n",
       "    .dataframe tbody tr th:only-of-type {\n",
       "        vertical-align: middle;\n",
       "    }\n",
       "\n",
       "    .dataframe tbody tr th {\n",
       "        vertical-align: top;\n",
       "    }\n",
       "\n",
       "    .dataframe thead th {\n",
       "        text-align: right;\n",
       "    }\n",
       "</style>\n",
       "<table border=\"1\" class=\"dataframe\">\n",
       "  <thead>\n",
       "    <tr style=\"text-align: right;\">\n",
       "      <th></th>\n",
       "      <th>diagnosis</th>\n",
       "      <th>radius_mean</th>\n",
       "      <th>texture_mean</th>\n",
       "      <th>perimeter_mean</th>\n",
       "      <th>area_mean</th>\n",
       "      <th>smoothness_mean</th>\n",
       "      <th>compactness_mean</th>\n",
       "      <th>concavity_mean</th>\n",
       "      <th>concave points_mean</th>\n",
       "      <th>symmetry_mean</th>\n",
       "      <th>fractal_dimension_mean</th>\n",
       "      <th>radius_se</th>\n",
       "      <th>texture_se</th>\n",
       "      <th>perimeter_se</th>\n",
       "      <th>area_se</th>\n",
       "      <th>smoothness_se</th>\n",
       "      <th>compactness_se</th>\n",
       "      <th>concavity_se</th>\n",
       "      <th>concave points_se</th>\n",
       "      <th>symmetry_se</th>\n",
       "      <th>fractal_dimension_se</th>\n",
       "      <th>radius_worst</th>\n",
       "      <th>texture_worst</th>\n",
       "      <th>perimeter_worst</th>\n",
       "      <th>area_worst</th>\n",
       "      <th>smoothness_worst</th>\n",
       "      <th>compactness_worst</th>\n",
       "      <th>concavity_worst</th>\n",
       "      <th>concave points_worst</th>\n",
       "      <th>symmetry_worst</th>\n",
       "      <th>fractal_dimension_worst</th>\n",
       "    </tr>\n",
       "  </thead>\n",
       "  <tbody>\n",
       "    <tr>\n",
       "      <th>0</th>\n",
       "      <td>B</td>\n",
       "      <td>11.68</td>\n",
       "      <td>16.17</td>\n",
       "      <td>75.49</td>\n",
       "      <td>420.5</td>\n",
       "      <td>0.11280</td>\n",
       "      <td>0.09263</td>\n",
       "      <td>0.042790</td>\n",
       "      <td>0.031320</td>\n",
       "      <td>0.1853</td>\n",
       "      <td>0.06401</td>\n",
       "      <td>0.3713</td>\n",
       "      <td>1.1540</td>\n",
       "      <td>2.554</td>\n",
       "      <td>27.57</td>\n",
       "      <td>0.008998</td>\n",
       "      <td>0.012920</td>\n",
       "      <td>0.01851</td>\n",
       "      <td>0.011670</td>\n",
       "      <td>0.02152</td>\n",
       "      <td>0.003213</td>\n",
       "      <td>13.32</td>\n",
       "      <td>21.59</td>\n",
       "      <td>86.57</td>\n",
       "      <td>549.8</td>\n",
       "      <td>0.15260</td>\n",
       "      <td>0.14770</td>\n",
       "      <td>0.14900</td>\n",
       "      <td>0.09815</td>\n",
       "      <td>0.2804</td>\n",
       "      <td>0.08024</td>\n",
       "    </tr>\n",
       "    <tr>\n",
       "      <th>1</th>\n",
       "      <td>B</td>\n",
       "      <td>13.50</td>\n",
       "      <td>12.71</td>\n",
       "      <td>85.69</td>\n",
       "      <td>566.2</td>\n",
       "      <td>0.07376</td>\n",
       "      <td>0.03614</td>\n",
       "      <td>0.002758</td>\n",
       "      <td>0.004419</td>\n",
       "      <td>0.1365</td>\n",
       "      <td>0.05335</td>\n",
       "      <td>0.2244</td>\n",
       "      <td>0.6864</td>\n",
       "      <td>1.509</td>\n",
       "      <td>20.39</td>\n",
       "      <td>0.003338</td>\n",
       "      <td>0.003746</td>\n",
       "      <td>0.00203</td>\n",
       "      <td>0.003242</td>\n",
       "      <td>0.01480</td>\n",
       "      <td>0.001566</td>\n",
       "      <td>14.97</td>\n",
       "      <td>16.94</td>\n",
       "      <td>95.48</td>\n",
       "      <td>698.7</td>\n",
       "      <td>0.09023</td>\n",
       "      <td>0.05836</td>\n",
       "      <td>0.01379</td>\n",
       "      <td>0.02210</td>\n",
       "      <td>0.2267</td>\n",
       "      <td>0.06192</td>\n",
       "    </tr>\n",
       "    <tr>\n",
       "      <th>2</th>\n",
       "      <td>B</td>\n",
       "      <td>12.75</td>\n",
       "      <td>16.70</td>\n",
       "      <td>82.51</td>\n",
       "      <td>493.8</td>\n",
       "      <td>0.11250</td>\n",
       "      <td>0.11170</td>\n",
       "      <td>0.038800</td>\n",
       "      <td>0.029950</td>\n",
       "      <td>0.2120</td>\n",
       "      <td>0.06623</td>\n",
       "      <td>0.3834</td>\n",
       "      <td>1.0030</td>\n",
       "      <td>2.495</td>\n",
       "      <td>28.62</td>\n",
       "      <td>0.007509</td>\n",
       "      <td>0.015610</td>\n",
       "      <td>0.01977</td>\n",
       "      <td>0.009199</td>\n",
       "      <td>0.01805</td>\n",
       "      <td>0.003629</td>\n",
       "      <td>14.45</td>\n",
       "      <td>21.74</td>\n",
       "      <td>93.63</td>\n",
       "      <td>624.1</td>\n",
       "      <td>0.14750</td>\n",
       "      <td>0.19790</td>\n",
       "      <td>0.14230</td>\n",
       "      <td>0.08045</td>\n",
       "      <td>0.3071</td>\n",
       "      <td>0.08557</td>\n",
       "    </tr>\n",
       "    <tr>\n",
       "      <th>3</th>\n",
       "      <td>M</td>\n",
       "      <td>18.94</td>\n",
       "      <td>21.31</td>\n",
       "      <td>123.60</td>\n",
       "      <td>1130.0</td>\n",
       "      <td>0.09009</td>\n",
       "      <td>0.10290</td>\n",
       "      <td>0.108000</td>\n",
       "      <td>0.079510</td>\n",
       "      <td>0.1582</td>\n",
       "      <td>0.05461</td>\n",
       "      <td>0.7888</td>\n",
       "      <td>0.7975</td>\n",
       "      <td>5.486</td>\n",
       "      <td>96.05</td>\n",
       "      <td>0.004444</td>\n",
       "      <td>0.016520</td>\n",
       "      <td>0.02269</td>\n",
       "      <td>0.013700</td>\n",
       "      <td>0.01386</td>\n",
       "      <td>0.001698</td>\n",
       "      <td>24.86</td>\n",
       "      <td>26.58</td>\n",
       "      <td>165.90</td>\n",
       "      <td>1866.0</td>\n",
       "      <td>0.11930</td>\n",
       "      <td>0.23360</td>\n",
       "      <td>0.26870</td>\n",
       "      <td>0.17890</td>\n",
       "      <td>0.2551</td>\n",
       "      <td>0.06589</td>\n",
       "    </tr>\n",
       "    <tr>\n",
       "      <th>4</th>\n",
       "      <td>M</td>\n",
       "      <td>17.30</td>\n",
       "      <td>17.08</td>\n",
       "      <td>113.00</td>\n",
       "      <td>928.2</td>\n",
       "      <td>0.10080</td>\n",
       "      <td>0.10410</td>\n",
       "      <td>0.126600</td>\n",
       "      <td>0.083530</td>\n",
       "      <td>0.1813</td>\n",
       "      <td>0.05613</td>\n",
       "      <td>0.3093</td>\n",
       "      <td>0.8568</td>\n",
       "      <td>2.193</td>\n",
       "      <td>33.63</td>\n",
       "      <td>0.004757</td>\n",
       "      <td>0.015030</td>\n",
       "      <td>0.02332</td>\n",
       "      <td>0.012620</td>\n",
       "      <td>0.01394</td>\n",
       "      <td>0.002362</td>\n",
       "      <td>19.85</td>\n",
       "      <td>25.09</td>\n",
       "      <td>130.90</td>\n",
       "      <td>1222.0</td>\n",
       "      <td>0.14160</td>\n",
       "      <td>0.24050</td>\n",
       "      <td>0.33780</td>\n",
       "      <td>0.18570</td>\n",
       "      <td>0.3138</td>\n",
       "      <td>0.08113</td>\n",
       "    </tr>\n",
       "  </tbody>\n",
       "</table>\n",
       "</div>"
      ],
      "text/plain": [
       "  diagnosis  radius_mean  ...  symmetry_worst  fractal_dimension_worst\n",
       "0         B        11.68  ...          0.2804                  0.08024\n",
       "1         B        13.50  ...          0.2267                  0.06192\n",
       "2         B        12.75  ...          0.3071                  0.08557\n",
       "3         M        18.94  ...          0.2551                  0.06589\n",
       "4         M        17.30  ...          0.3138                  0.08113\n",
       "\n",
       "[5 rows x 31 columns]"
      ]
     },
     "execution_count": 30,
     "metadata": {
      "tags": []
     },
     "output_type": "execute_result"
    }
   ],
   "source": [
    "# Call datetime_transformer on df_test\n",
    "df_test = datetime_transformer(df_test, datetime_vars)\n",
    "\n",
    "# Print the first 5 rows of df_test\n",
    "df_test.head()"
   ]
  },
  {
   "cell_type": "markdown",
   "metadata": {
    "colab_type": "text",
    "id": "sreXrgK9zlFi"
   },
   "source": [
    "## Handling missing data"
   ]
  },
  {
   "cell_type": "markdown",
   "metadata": {
    "colab_type": "text",
    "id": "2SNvFfHozlFi"
   },
   "source": [
    "### Combining the training, validation and test data\n",
    "The code below shows how to combine the training, validation and test data."
   ]
  },
  {
   "cell_type": "code",
   "execution_count": 31,
   "metadata": {
    "colab": {},
    "colab_type": "code",
    "executionInfo": {
     "elapsed": 23361,
     "status": "ok",
     "timestamp": 1598497345253,
     "user": {
      "displayName": "Huang Yuxiao",
      "photoUrl": "",
      "userId": "05167076769245149404"
     },
     "user_tz": 240
    },
    "id": "RRsmSwZRzlFi"
   },
   "outputs": [],
   "source": [
    "# Combine df_train, df_val and df_test\n",
    "df = pd.concat([df_train, df_val, df_test], sort=False)"
   ]
  },
  {
   "cell_type": "markdown",
   "metadata": {
    "colab_type": "text",
    "id": "wlqQtCbXzlFj"
   },
   "source": [
    "### Identifying missing values"
   ]
  },
  {
   "cell_type": "markdown",
   "metadata": {
    "colab_type": "text",
    "id": "CXu1rrCPzlFk"
   },
   "source": [
    "The code below shows how to find variables with NaN, their proportion of NaN and data type."
   ]
  },
  {
   "cell_type": "code",
   "execution_count": 32,
   "metadata": {
    "colab": {
     "base_uri": "https://localhost:8080/",
     "height": 49
    },
    "colab_type": "code",
    "executionInfo": {
     "elapsed": 23575,
     "status": "ok",
     "timestamp": 1598497345471,
     "user": {
      "displayName": "Huang Yuxiao",
      "photoUrl": "",
      "userId": "05167076769245149404"
     },
     "user_tz": 240
    },
    "id": "XlbjyhKxzlFk",
    "outputId": "fe0cc820-42cb-4e9a-b138-259458a5e7c0"
   },
   "outputs": [
    {
     "data": {
      "text/html": [
       "<div>\n",
       "<style scoped>\n",
       "    .dataframe tbody tr th:only-of-type {\n",
       "        vertical-align: middle;\n",
       "    }\n",
       "\n",
       "    .dataframe tbody tr th {\n",
       "        vertical-align: top;\n",
       "    }\n",
       "\n",
       "    .dataframe thead th {\n",
       "        text-align: right;\n",
       "    }\n",
       "</style>\n",
       "<table border=\"1\" class=\"dataframe\">\n",
       "  <thead>\n",
       "    <tr style=\"text-align: right;\">\n",
       "      <th></th>\n",
       "      <th>var</th>\n",
       "      <th>proportion</th>\n",
       "      <th>dtype</th>\n",
       "    </tr>\n",
       "  </thead>\n",
       "  <tbody>\n",
       "  </tbody>\n",
       "</table>\n",
       "</div>"
      ],
      "text/plain": [
       "Empty DataFrame\n",
       "Columns: [var, proportion, dtype]\n",
       "Index: []"
      ]
     },
     "execution_count": 32,
     "metadata": {
      "tags": []
     },
     "output_type": "execute_result"
    }
   ],
   "source": [
    "# Call nan_checker on df\n",
    "# See the implementation in pmlm_utilities.ipynb\n",
    "df_nan = nan_checker(df)\n",
    "\n",
    "# Print df_nan\n",
    "df_nan"
   ]
  },
  {
   "cell_type": "code",
   "execution_count": 33,
   "metadata": {
    "colab": {
     "base_uri": "https://localhost:8080/",
     "height": 49
    },
    "colab_type": "code",
    "executionInfo": {
     "elapsed": 23561,
     "status": "ok",
     "timestamp": 1598497345471,
     "user": {
      "displayName": "Huang Yuxiao",
      "photoUrl": "",
      "userId": "05167076769245149404"
     },
     "user_tz": 240
    },
    "id": "kp8QvrGozlFl",
    "outputId": "7a54fd4c-df98-42f9-9920-ce90d60e1e9b",
    "scrolled": true
   },
   "outputs": [
    {
     "data": {
      "text/html": [
       "<div>\n",
       "<style scoped>\n",
       "    .dataframe tbody tr th:only-of-type {\n",
       "        vertical-align: middle;\n",
       "    }\n",
       "\n",
       "    .dataframe tbody tr th {\n",
       "        vertical-align: top;\n",
       "    }\n",
       "\n",
       "    .dataframe thead th {\n",
       "        text-align: right;\n",
       "    }\n",
       "</style>\n",
       "<table border=\"1\" class=\"dataframe\">\n",
       "  <thead>\n",
       "    <tr style=\"text-align: right;\">\n",
       "      <th></th>\n",
       "      <th>dtype</th>\n",
       "    </tr>\n",
       "  </thead>\n",
       "  <tbody>\n",
       "  </tbody>\n",
       "</table>\n",
       "</div>"
      ],
      "text/plain": [
       "Empty DataFrame\n",
       "Columns: [dtype]\n",
       "Index: []"
      ]
     },
     "execution_count": 33,
     "metadata": {
      "tags": []
     },
     "output_type": "execute_result"
    }
   ],
   "source": [
    "# Print the unique data type of variables with NaN\n",
    "pd.DataFrame(df_nan['dtype'].unique(), columns=['dtype'])"
   ]
  },
  {
   "cell_type": "markdown",
   "metadata": {
    "colab_type": "text",
    "id": "IN-sgksazlFn"
   },
   "source": [
    "The code below shows how to use data type to select variables with missing values in the combined data."
   ]
  },
  {
   "cell_type": "code",
   "execution_count": 34,
   "metadata": {
    "colab": {
     "base_uri": "https://localhost:8080/",
     "height": 49
    },
    "colab_type": "code",
    "executionInfo": {
     "elapsed": 23548,
     "status": "ok",
     "timestamp": 1598497345472,
     "user": {
      "displayName": "Huang Yuxiao",
      "photoUrl": "",
      "userId": "05167076769245149404"
     },
     "user_tz": 240
    },
    "id": "Q-0AhaPlzlFn",
    "outputId": "321e1e5d-a1ad-4b21-92b0-926b9424f36a",
    "scrolled": true
   },
   "outputs": [
    {
     "data": {
      "text/html": [
       "<div>\n",
       "<style scoped>\n",
       "    .dataframe tbody tr th:only-of-type {\n",
       "        vertical-align: middle;\n",
       "    }\n",
       "\n",
       "    .dataframe tbody tr th {\n",
       "        vertical-align: top;\n",
       "    }\n",
       "\n",
       "    .dataframe thead th {\n",
       "        text-align: right;\n",
       "    }\n",
       "</style>\n",
       "<table border=\"1\" class=\"dataframe\">\n",
       "  <thead>\n",
       "    <tr style=\"text-align: right;\">\n",
       "      <th></th>\n",
       "      <th>var</th>\n",
       "      <th>proportion</th>\n",
       "      <th>dtype</th>\n",
       "    </tr>\n",
       "  </thead>\n",
       "  <tbody>\n",
       "  </tbody>\n",
       "</table>\n",
       "</div>"
      ],
      "text/plain": [
       "Empty DataFrame\n",
       "Columns: [var, proportion, dtype]\n",
       "Index: []"
      ]
     },
     "execution_count": 34,
     "metadata": {
      "tags": []
     },
     "output_type": "execute_result"
    }
   ],
   "source": [
    "# Get the variables with missing values, their proportion of missing values and data type\n",
    "df_miss = df_nan[df_nan['dtype'] == 'float64'].reset_index(drop=True)\n",
    "\n",
    "# Print df_miss\n",
    "df_miss"
   ]
  },
  {
   "cell_type": "markdown",
   "metadata": {
    "colab_type": "text",
    "id": "3sNqs5znzlFo"
   },
   "source": [
    "### Separating the training, validation and test data\n",
    "The code below shows how to separate the training, validation and test data."
   ]
  },
  {
   "cell_type": "code",
   "execution_count": 35,
   "metadata": {
    "colab": {},
    "colab_type": "code",
    "executionInfo": {
     "elapsed": 23535,
     "status": "ok",
     "timestamp": 1598497345472,
     "user": {
      "displayName": "Huang Yuxiao",
      "photoUrl": "",
      "userId": "05167076769245149404"
     },
     "user_tz": 240
    },
    "id": "jcK3O9i-zlFo"
   },
   "outputs": [],
   "source": [
    "# Separating the training data\n",
    "df_train = df.iloc[:df_train.shape[0], :]\n",
    "\n",
    "# Separating the validation data\n",
    "df_val = df.iloc[df_train.shape[0]:df_train.shape[0] + df_val.shape[0], :]\n",
    "\n",
    "# Separating the test data\n",
    "df_test = df.iloc[df_train.shape[0] + df_val.shape[0]:, :]"
   ]
  },
  {
   "cell_type": "code",
   "execution_count": 36,
   "metadata": {
    "colab": {
     "base_uri": "https://localhost:8080/",
     "height": 80
    },
    "colab_type": "code",
    "executionInfo": {
     "elapsed": 23531,
     "status": "ok",
     "timestamp": 1598497345472,
     "user": {
      "displayName": "Huang Yuxiao",
      "photoUrl": "",
      "userId": "05167076769245149404"
     },
     "user_tz": 240
    },
    "id": "m3rLR944zlFp",
    "outputId": "e235bfca-762a-4ae1-cf4c-169c405290d1",
    "scrolled": true
   },
   "outputs": [
    {
     "data": {
      "text/html": [
       "<div>\n",
       "<style scoped>\n",
       "    .dataframe tbody tr th:only-of-type {\n",
       "        vertical-align: middle;\n",
       "    }\n",
       "\n",
       "    .dataframe tbody tr th {\n",
       "        vertical-align: top;\n",
       "    }\n",
       "\n",
       "    .dataframe thead th {\n",
       "        text-align: right;\n",
       "    }\n",
       "</style>\n",
       "<table border=\"1\" class=\"dataframe\">\n",
       "  <thead>\n",
       "    <tr style=\"text-align: right;\">\n",
       "      <th></th>\n",
       "      <th># rows</th>\n",
       "      <th># columns</th>\n",
       "    </tr>\n",
       "  </thead>\n",
       "  <tbody>\n",
       "    <tr>\n",
       "      <th>0</th>\n",
       "      <td>284</td>\n",
       "      <td>31</td>\n",
       "    </tr>\n",
       "  </tbody>\n",
       "</table>\n",
       "</div>"
      ],
      "text/plain": [
       "   # rows  # columns\n",
       "0     284         31"
      ]
     },
     "execution_count": 36,
     "metadata": {
      "tags": []
     },
     "output_type": "execute_result"
    }
   ],
   "source": [
    "# Print the dimension of df_train\n",
    "pd.DataFrame([[df_train.shape[0], df_train.shape[1]]], columns=['# rows', '# columns'])"
   ]
  },
  {
   "cell_type": "code",
   "execution_count": 37,
   "metadata": {
    "colab": {
     "base_uri": "https://localhost:8080/",
     "height": 80
    },
    "colab_type": "code",
    "executionInfo": {
     "elapsed": 23518,
     "status": "ok",
     "timestamp": 1598497345472,
     "user": {
      "displayName": "Huang Yuxiao",
      "photoUrl": "",
      "userId": "05167076769245149404"
     },
     "user_tz": 240
    },
    "id": "62r9PZ4xzlFr",
    "outputId": "cb39934b-738b-44d4-d19f-215ec281596d",
    "scrolled": true
   },
   "outputs": [
    {
     "data": {
      "text/html": [
       "<div>\n",
       "<style scoped>\n",
       "    .dataframe tbody tr th:only-of-type {\n",
       "        vertical-align: middle;\n",
       "    }\n",
       "\n",
       "    .dataframe tbody tr th {\n",
       "        vertical-align: top;\n",
       "    }\n",
       "\n",
       "    .dataframe thead th {\n",
       "        text-align: right;\n",
       "    }\n",
       "</style>\n",
       "<table border=\"1\" class=\"dataframe\">\n",
       "  <thead>\n",
       "    <tr style=\"text-align: right;\">\n",
       "      <th></th>\n",
       "      <th># rows</th>\n",
       "      <th># columns</th>\n",
       "    </tr>\n",
       "  </thead>\n",
       "  <tbody>\n",
       "    <tr>\n",
       "      <th>0</th>\n",
       "      <td>114</td>\n",
       "      <td>31</td>\n",
       "    </tr>\n",
       "  </tbody>\n",
       "</table>\n",
       "</div>"
      ],
      "text/plain": [
       "   # rows  # columns\n",
       "0     114         31"
      ]
     },
     "execution_count": 37,
     "metadata": {
      "tags": []
     },
     "output_type": "execute_result"
    }
   ],
   "source": [
    "# Print the dimension of df_val\n",
    "pd.DataFrame([[df_val.shape[0], df_val.shape[1]]], columns=['# rows', '# columns'])"
   ]
  },
  {
   "cell_type": "code",
   "execution_count": 38,
   "metadata": {
    "colab": {
     "base_uri": "https://localhost:8080/",
     "height": 80
    },
    "colab_type": "code",
    "executionInfo": {
     "elapsed": 23506,
     "status": "ok",
     "timestamp": 1598497345473,
     "user": {
      "displayName": "Huang Yuxiao",
      "photoUrl": "",
      "userId": "05167076769245149404"
     },
     "user_tz": 240
    },
    "id": "mBrwWXxGzlFs",
    "outputId": "39fb09e7-40d3-444f-d52b-88d11f084df3",
    "scrolled": false
   },
   "outputs": [
    {
     "data": {
      "text/html": [
       "<div>\n",
       "<style scoped>\n",
       "    .dataframe tbody tr th:only-of-type {\n",
       "        vertical-align: middle;\n",
       "    }\n",
       "\n",
       "    .dataframe tbody tr th {\n",
       "        vertical-align: top;\n",
       "    }\n",
       "\n",
       "    .dataframe thead th {\n",
       "        text-align: right;\n",
       "    }\n",
       "</style>\n",
       "<table border=\"1\" class=\"dataframe\">\n",
       "  <thead>\n",
       "    <tr style=\"text-align: right;\">\n",
       "      <th></th>\n",
       "      <th># rows</th>\n",
       "      <th># columns</th>\n",
       "    </tr>\n",
       "  </thead>\n",
       "  <tbody>\n",
       "    <tr>\n",
       "      <th>0</th>\n",
       "      <td>171</td>\n",
       "      <td>31</td>\n",
       "    </tr>\n",
       "  </tbody>\n",
       "</table>\n",
       "</div>"
      ],
      "text/plain": [
       "   # rows  # columns\n",
       "0     171         31"
      ]
     },
     "execution_count": 38,
     "metadata": {
      "tags": []
     },
     "output_type": "execute_result"
    }
   ],
   "source": [
    "# Print the dimension of df_test\n",
    "pd.DataFrame([[df_test.shape[0], df_test.shape[1]]], columns=['# rows', '# columns'])"
   ]
  },
  {
   "cell_type": "markdown",
   "metadata": {
    "colab_type": "text",
    "id": "04GC98SDNDpD"
   },
   "source": [
    "### Removing missing values\n",
    "The code below shows how to remove rows with missing values ."
   ]
  },
  {
   "cell_type": "code",
   "execution_count": 39,
   "metadata": {
    "colab": {},
    "colab_type": "code",
    "executionInfo": {
     "elapsed": 23493,
     "status": "ok",
     "timestamp": 1598497345473,
     "user": {
      "displayName": "Huang Yuxiao",
      "photoUrl": "",
      "userId": "05167076769245149404"
     },
     "user_tz": 240
    },
    "id": "8uvlh7_5NDpD"
   },
   "outputs": [],
   "source": [
    "# If there are missing values\n",
    "if len(df_miss['var']) > 0:\n",
    "    # Remove rows with missing values from df_train\n",
    "    df_remove_train = df_train.dropna(subset=np.intersect1d(df_miss['var'], df_train.columns),\n",
    "                                    inplace=False)\n",
    "\n",
    "    # Remove rows with missing values from df_val\n",
    "    df_remove_val = df_val.dropna(subset=np.intersect1d(df_miss['var'], df_val.columns),\n",
    "                                    inplace=False)\n",
    "\n",
    "    # Remove rows with missing values from df_test\n",
    "    df_remove_test = df_test.dropna(subset=np.intersect1d(df_miss['var'], df_test.columns),\n",
    "                                inplace=False)"
   ]
  },
  {
   "cell_type": "markdown",
   "metadata": {
    "colab_type": "text",
    "id": "GXgfnUoczlFt"
   },
   "source": [
    "### Imputing missing values\n",
    "The code below shows how to use the mean of a numerical feature to impute its missing values."
   ]
  },
  {
   "cell_type": "code",
   "execution_count": 40,
   "metadata": {
    "colab": {},
    "colab_type": "code",
    "executionInfo": {
     "elapsed": 23490,
     "status": "ok",
     "timestamp": 1598497345473,
     "user": {
      "displayName": "Huang Yuxiao",
      "photoUrl": "",
      "userId": "05167076769245149404"
     },
     "user_tz": 240
    },
    "id": "tcS8mYR0zlFu"
   },
   "outputs": [],
   "source": [
    "from sklearn.impute import SimpleImputer\n",
    "\n",
    "# If there are missing values\n",
    "if len(df_miss['var']) > 0:\n",
    "    # The SimpleImputer\n",
    "    si = SimpleImputer(missing_values=np.nan, strategy='mean')\n",
    "\n",
    "    # Impute the variables with missing values in df_train, df_val and df_test \n",
    "    df_train[df_miss['var']] = si.fit_transform(df_train[df_miss['var']])\n",
    "    df_val[df_miss['var']] = si.transform(df_val[df_miss['var']])\n",
    "    df_test[df_miss['var']] = si.transform(df_test[df_miss['var']])"
   ]
  },
  {
   "cell_type": "markdown",
   "metadata": {
    "colab_type": "text",
    "id": "HWcUkrUCzlFv"
   },
   "source": [
    "## Encoding the data"
   ]
  },
  {
   "cell_type": "markdown",
   "metadata": {
    "colab_type": "text",
    "id": "ezQ07Z9dzlFv"
   },
   "source": [
    "### Combining the training, validation and test data\n",
    "The code below shows how to combine the training, validation and test data."
   ]
  },
  {
   "cell_type": "code",
   "execution_count": 41,
   "metadata": {
    "colab": {
     "base_uri": "https://localhost:8080/",
     "height": 111
    },
    "colab_type": "code",
    "executionInfo": {
     "elapsed": 23488,
     "status": "ok",
     "timestamp": 1598497345474,
     "user": {
      "displayName": "Huang Yuxiao",
      "photoUrl": "",
      "userId": "05167076769245149404"
     },
     "user_tz": 240
    },
    "id": "fYrsGD60zlFv",
    "outputId": "89aafb59-a113-4d1b-a22f-08597cf28f98",
    "scrolled": true
   },
   "outputs": [
    {
     "data": {
      "text/html": [
       "<div>\n",
       "<style scoped>\n",
       "    .dataframe tbody tr th:only-of-type {\n",
       "        vertical-align: middle;\n",
       "    }\n",
       "\n",
       "    .dataframe tbody tr th {\n",
       "        vertical-align: top;\n",
       "    }\n",
       "\n",
       "    .dataframe thead th {\n",
       "        text-align: right;\n",
       "    }\n",
       "</style>\n",
       "<table border=\"1\" class=\"dataframe\">\n",
       "  <thead>\n",
       "    <tr style=\"text-align: right;\">\n",
       "      <th></th>\n",
       "      <th>dtype</th>\n",
       "    </tr>\n",
       "  </thead>\n",
       "  <tbody>\n",
       "    <tr>\n",
       "      <th>0</th>\n",
       "      <td>object</td>\n",
       "    </tr>\n",
       "    <tr>\n",
       "      <th>1</th>\n",
       "      <td>float64</td>\n",
       "    </tr>\n",
       "  </tbody>\n",
       "</table>\n",
       "</div>"
      ],
      "text/plain": [
       "     dtype\n",
       "0   object\n",
       "1  float64"
      ]
     },
     "execution_count": 41,
     "metadata": {
      "tags": []
     },
     "output_type": "execute_result"
    }
   ],
   "source": [
    "# Combine df_train, df_val and df_test\n",
    "df = pd.concat([df_train, df_val, df_test], sort=False)\n",
    "\n",
    "# Print the unique data type of variables in df\n",
    "pd.DataFrame(df.dtypes.unique(), columns=['dtype'])"
   ]
  },
  {
   "cell_type": "markdown",
   "metadata": {
    "colab_type": "text",
    "id": "4qr55-jtzlFw"
   },
   "source": [
    "### Identifying categorical variables"
   ]
  },
  {
   "cell_type": "markdown",
   "metadata": {
    "colab_type": "text",
    "id": "1rNrzzadzlFx"
   },
   "source": [
    "The code below shows how to find categorical variables (whose data type is dtype) and their number of unique value."
   ]
  },
  {
   "cell_type": "code",
   "execution_count": 42,
   "metadata": {
    "colab": {
     "base_uri": "https://localhost:8080/",
     "height": 80
    },
    "colab_type": "code",
    "executionInfo": {
     "elapsed": 23810,
     "status": "ok",
     "timestamp": 1598497345810,
     "user": {
      "displayName": "Huang Yuxiao",
      "photoUrl": "",
      "userId": "05167076769245149404"
     },
     "user_tz": 240
    },
    "id": "bguGxquQzlFx",
    "outputId": "742dc9c1-2bf5-4a90-a02b-9c7b01d8439f",
    "scrolled": true
   },
   "outputs": [
    {
     "data": {
      "text/html": [
       "<div>\n",
       "<style scoped>\n",
       "    .dataframe tbody tr th:only-of-type {\n",
       "        vertical-align: middle;\n",
       "    }\n",
       "\n",
       "    .dataframe tbody tr th {\n",
       "        vertical-align: top;\n",
       "    }\n",
       "\n",
       "    .dataframe thead th {\n",
       "        text-align: right;\n",
       "    }\n",
       "</style>\n",
       "<table border=\"1\" class=\"dataframe\">\n",
       "  <thead>\n",
       "    <tr style=\"text-align: right;\">\n",
       "      <th></th>\n",
       "      <th>var</th>\n",
       "      <th>nunique</th>\n",
       "    </tr>\n",
       "  </thead>\n",
       "  <tbody>\n",
       "    <tr>\n",
       "      <th>0</th>\n",
       "      <td>diagnosis</td>\n",
       "      <td>2</td>\n",
       "    </tr>\n",
       "  </tbody>\n",
       "</table>\n",
       "</div>"
      ],
      "text/plain": [
       "         var  nunique\n",
       "0  diagnosis        2"
      ]
     },
     "execution_count": 42,
     "metadata": {
      "tags": []
     },
     "output_type": "execute_result"
    }
   ],
   "source": [
    "# Call cat_var_checker on df\n",
    "# See the implementation in pmlm_utilities.ipynb\n",
    "df_cat = cat_var_checker(df)\n",
    "\n",
    "# Print the dataframe\n",
    "df_cat"
   ]
  },
  {
   "cell_type": "markdown",
   "metadata": {
    "colab_type": "text",
    "id": "hFantdOvzlFy"
   },
   "source": [
    "### Encoding categorical features\n",
    "The code below shows how to encode categorical features in the combined data."
   ]
  },
  {
   "cell_type": "code",
   "execution_count": 43,
   "metadata": {
    "colab": {
     "base_uri": "https://localhost:8080/",
     "height": 241
    },
    "colab_type": "code",
    "executionInfo": {
     "elapsed": 23796,
     "status": "ok",
     "timestamp": 1598497345810,
     "user": {
      "displayName": "Huang Yuxiao",
      "photoUrl": "",
      "userId": "05167076769245149404"
     },
     "user_tz": 240
    },
    "id": "VHiPUWGqzlFy",
    "outputId": "71c19184-1bdf-4bf9-b66c-3a3a6719e79a",
    "scrolled": false
   },
   "outputs": [
    {
     "data": {
      "text/html": [
       "<div>\n",
       "<style scoped>\n",
       "    .dataframe tbody tr th:only-of-type {\n",
       "        vertical-align: middle;\n",
       "    }\n",
       "\n",
       "    .dataframe tbody tr th {\n",
       "        vertical-align: top;\n",
       "    }\n",
       "\n",
       "    .dataframe thead th {\n",
       "        text-align: right;\n",
       "    }\n",
       "</style>\n",
       "<table border=\"1\" class=\"dataframe\">\n",
       "  <thead>\n",
       "    <tr style=\"text-align: right;\">\n",
       "      <th></th>\n",
       "      <th>diagnosis</th>\n",
       "      <th>radius_mean</th>\n",
       "      <th>texture_mean</th>\n",
       "      <th>perimeter_mean</th>\n",
       "      <th>area_mean</th>\n",
       "      <th>smoothness_mean</th>\n",
       "      <th>compactness_mean</th>\n",
       "      <th>concavity_mean</th>\n",
       "      <th>concave points_mean</th>\n",
       "      <th>symmetry_mean</th>\n",
       "      <th>fractal_dimension_mean</th>\n",
       "      <th>radius_se</th>\n",
       "      <th>texture_se</th>\n",
       "      <th>perimeter_se</th>\n",
       "      <th>area_se</th>\n",
       "      <th>smoothness_se</th>\n",
       "      <th>compactness_se</th>\n",
       "      <th>concavity_se</th>\n",
       "      <th>concave points_se</th>\n",
       "      <th>symmetry_se</th>\n",
       "      <th>fractal_dimension_se</th>\n",
       "      <th>radius_worst</th>\n",
       "      <th>texture_worst</th>\n",
       "      <th>perimeter_worst</th>\n",
       "      <th>area_worst</th>\n",
       "      <th>smoothness_worst</th>\n",
       "      <th>compactness_worst</th>\n",
       "      <th>concavity_worst</th>\n",
       "      <th>concave points_worst</th>\n",
       "      <th>symmetry_worst</th>\n",
       "      <th>fractal_dimension_worst</th>\n",
       "    </tr>\n",
       "  </thead>\n",
       "  <tbody>\n",
       "    <tr>\n",
       "      <th>0</th>\n",
       "      <td>M</td>\n",
       "      <td>20.260</td>\n",
       "      <td>23.03</td>\n",
       "      <td>132.40</td>\n",
       "      <td>1264.0</td>\n",
       "      <td>0.09078</td>\n",
       "      <td>0.13130</td>\n",
       "      <td>0.14650</td>\n",
       "      <td>0.086830</td>\n",
       "      <td>0.2095</td>\n",
       "      <td>0.05649</td>\n",
       "      <td>0.7576</td>\n",
       "      <td>1.5090</td>\n",
       "      <td>4.554</td>\n",
       "      <td>87.870</td>\n",
       "      <td>0.006016</td>\n",
       "      <td>0.034820</td>\n",
       "      <td>0.04232</td>\n",
       "      <td>0.012690</td>\n",
       "      <td>0.026570</td>\n",
       "      <td>0.004411</td>\n",
       "      <td>24.22</td>\n",
       "      <td>31.59</td>\n",
       "      <td>156.10</td>\n",
       "      <td>1750.0</td>\n",
       "      <td>0.11900</td>\n",
       "      <td>0.35390</td>\n",
       "      <td>0.40980</td>\n",
       "      <td>0.15730</td>\n",
       "      <td>0.3689</td>\n",
       "      <td>0.08368</td>\n",
       "    </tr>\n",
       "    <tr>\n",
       "      <th>1</th>\n",
       "      <td>M</td>\n",
       "      <td>14.990</td>\n",
       "      <td>25.20</td>\n",
       "      <td>95.54</td>\n",
       "      <td>698.8</td>\n",
       "      <td>0.09387</td>\n",
       "      <td>0.05131</td>\n",
       "      <td>0.02398</td>\n",
       "      <td>0.028990</td>\n",
       "      <td>0.1565</td>\n",
       "      <td>0.05504</td>\n",
       "      <td>1.2140</td>\n",
       "      <td>2.1880</td>\n",
       "      <td>8.077</td>\n",
       "      <td>106.000</td>\n",
       "      <td>0.006883</td>\n",
       "      <td>0.010940</td>\n",
       "      <td>0.01818</td>\n",
       "      <td>0.019170</td>\n",
       "      <td>0.007882</td>\n",
       "      <td>0.001754</td>\n",
       "      <td>14.99</td>\n",
       "      <td>25.20</td>\n",
       "      <td>95.54</td>\n",
       "      <td>698.8</td>\n",
       "      <td>0.09387</td>\n",
       "      <td>0.05131</td>\n",
       "      <td>0.02398</td>\n",
       "      <td>0.02899</td>\n",
       "      <td>0.1565</td>\n",
       "      <td>0.05504</td>\n",
       "    </tr>\n",
       "    <tr>\n",
       "      <th>2</th>\n",
       "      <td>B</td>\n",
       "      <td>11.540</td>\n",
       "      <td>10.72</td>\n",
       "      <td>73.73</td>\n",
       "      <td>409.1</td>\n",
       "      <td>0.08597</td>\n",
       "      <td>0.05969</td>\n",
       "      <td>0.01367</td>\n",
       "      <td>0.008907</td>\n",
       "      <td>0.1833</td>\n",
       "      <td>0.06100</td>\n",
       "      <td>0.1312</td>\n",
       "      <td>0.3602</td>\n",
       "      <td>1.107</td>\n",
       "      <td>9.438</td>\n",
       "      <td>0.004124</td>\n",
       "      <td>0.013400</td>\n",
       "      <td>0.01003</td>\n",
       "      <td>0.004667</td>\n",
       "      <td>0.020320</td>\n",
       "      <td>0.001952</td>\n",
       "      <td>12.34</td>\n",
       "      <td>12.87</td>\n",
       "      <td>81.23</td>\n",
       "      <td>467.8</td>\n",
       "      <td>0.10920</td>\n",
       "      <td>0.16260</td>\n",
       "      <td>0.08324</td>\n",
       "      <td>0.04715</td>\n",
       "      <td>0.3390</td>\n",
       "      <td>0.07434</td>\n",
       "    </tr>\n",
       "    <tr>\n",
       "      <th>3</th>\n",
       "      <td>B</td>\n",
       "      <td>8.734</td>\n",
       "      <td>16.84</td>\n",
       "      <td>55.27</td>\n",
       "      <td>234.3</td>\n",
       "      <td>0.10390</td>\n",
       "      <td>0.07428</td>\n",
       "      <td>0.00000</td>\n",
       "      <td>0.000000</td>\n",
       "      <td>0.1985</td>\n",
       "      <td>0.07098</td>\n",
       "      <td>0.5169</td>\n",
       "      <td>2.0790</td>\n",
       "      <td>3.167</td>\n",
       "      <td>28.850</td>\n",
       "      <td>0.015820</td>\n",
       "      <td>0.019660</td>\n",
       "      <td>0.00000</td>\n",
       "      <td>0.000000</td>\n",
       "      <td>0.018650</td>\n",
       "      <td>0.006736</td>\n",
       "      <td>10.17</td>\n",
       "      <td>22.80</td>\n",
       "      <td>64.01</td>\n",
       "      <td>317.0</td>\n",
       "      <td>0.14600</td>\n",
       "      <td>0.13100</td>\n",
       "      <td>0.00000</td>\n",
       "      <td>0.00000</td>\n",
       "      <td>0.2445</td>\n",
       "      <td>0.08865</td>\n",
       "    </tr>\n",
       "    <tr>\n",
       "      <th>4</th>\n",
       "      <td>B</td>\n",
       "      <td>11.710</td>\n",
       "      <td>17.19</td>\n",
       "      <td>74.68</td>\n",
       "      <td>420.3</td>\n",
       "      <td>0.09774</td>\n",
       "      <td>0.06141</td>\n",
       "      <td>0.03809</td>\n",
       "      <td>0.032390</td>\n",
       "      <td>0.1516</td>\n",
       "      <td>0.06095</td>\n",
       "      <td>0.2451</td>\n",
       "      <td>0.7655</td>\n",
       "      <td>1.742</td>\n",
       "      <td>17.860</td>\n",
       "      <td>0.006905</td>\n",
       "      <td>0.008704</td>\n",
       "      <td>0.01978</td>\n",
       "      <td>0.011850</td>\n",
       "      <td>0.018970</td>\n",
       "      <td>0.001671</td>\n",
       "      <td>13.01</td>\n",
       "      <td>21.39</td>\n",
       "      <td>84.42</td>\n",
       "      <td>521.5</td>\n",
       "      <td>0.13230</td>\n",
       "      <td>0.10400</td>\n",
       "      <td>0.15210</td>\n",
       "      <td>0.10990</td>\n",
       "      <td>0.2572</td>\n",
       "      <td>0.07097</td>\n",
       "    </tr>\n",
       "  </tbody>\n",
       "</table>\n",
       "</div>"
      ],
      "text/plain": [
       "  diagnosis  radius_mean  ...  symmetry_worst  fractal_dimension_worst\n",
       "0         M       20.260  ...          0.3689                  0.08368\n",
       "1         M       14.990  ...          0.1565                  0.05504\n",
       "2         B       11.540  ...          0.3390                  0.07434\n",
       "3         B        8.734  ...          0.2445                  0.08865\n",
       "4         B       11.710  ...          0.2572                  0.07097\n",
       "\n",
       "[5 rows x 31 columns]"
      ]
     },
     "execution_count": 43,
     "metadata": {
      "tags": []
     },
     "output_type": "execute_result"
    }
   ],
   "source": [
    "# One-hot-encode the categorical features in the combined data\n",
    "df = pd.get_dummies(df, columns=np.setdiff1d(df_cat['var'], [target]))\n",
    "\n",
    "# Print the first 5 rows of df\n",
    "df.head()"
   ]
  },
  {
   "cell_type": "markdown",
   "metadata": {
    "colab_type": "text",
    "id": "0eSAn1mjyJLS"
   },
   "source": [
    "### Encoding categorical target\n",
    "The code below shows how to encode categorical target in the combined data."
   ]
  },
  {
   "cell_type": "code",
   "execution_count": 44,
   "metadata": {
    "colab": {
     "base_uri": "https://localhost:8080/",
     "height": 241
    },
    "colab_type": "code",
    "executionInfo": {
     "elapsed": 23783,
     "status": "ok",
     "timestamp": 1598497345811,
     "user": {
      "displayName": "Huang Yuxiao",
      "photoUrl": "",
      "userId": "05167076769245149404"
     },
     "user_tz": 240
    },
    "id": "ivjkBW9FyJLT",
    "outputId": "a814a0ec-1762-4eb6-c06f-dc12de880ef4",
    "scrolled": false
   },
   "outputs": [
    {
     "data": {
      "text/html": [
       "<div>\n",
       "<style scoped>\n",
       "    .dataframe tbody tr th:only-of-type {\n",
       "        vertical-align: middle;\n",
       "    }\n",
       "\n",
       "    .dataframe tbody tr th {\n",
       "        vertical-align: top;\n",
       "    }\n",
       "\n",
       "    .dataframe thead th {\n",
       "        text-align: right;\n",
       "    }\n",
       "</style>\n",
       "<table border=\"1\" class=\"dataframe\">\n",
       "  <thead>\n",
       "    <tr style=\"text-align: right;\">\n",
       "      <th></th>\n",
       "      <th>diagnosis</th>\n",
       "      <th>radius_mean</th>\n",
       "      <th>texture_mean</th>\n",
       "      <th>perimeter_mean</th>\n",
       "      <th>area_mean</th>\n",
       "      <th>smoothness_mean</th>\n",
       "      <th>compactness_mean</th>\n",
       "      <th>concavity_mean</th>\n",
       "      <th>concave points_mean</th>\n",
       "      <th>symmetry_mean</th>\n",
       "      <th>fractal_dimension_mean</th>\n",
       "      <th>radius_se</th>\n",
       "      <th>texture_se</th>\n",
       "      <th>perimeter_se</th>\n",
       "      <th>area_se</th>\n",
       "      <th>smoothness_se</th>\n",
       "      <th>compactness_se</th>\n",
       "      <th>concavity_se</th>\n",
       "      <th>concave points_se</th>\n",
       "      <th>symmetry_se</th>\n",
       "      <th>fractal_dimension_se</th>\n",
       "      <th>radius_worst</th>\n",
       "      <th>texture_worst</th>\n",
       "      <th>perimeter_worst</th>\n",
       "      <th>area_worst</th>\n",
       "      <th>smoothness_worst</th>\n",
       "      <th>compactness_worst</th>\n",
       "      <th>concavity_worst</th>\n",
       "      <th>concave points_worst</th>\n",
       "      <th>symmetry_worst</th>\n",
       "      <th>fractal_dimension_worst</th>\n",
       "    </tr>\n",
       "  </thead>\n",
       "  <tbody>\n",
       "    <tr>\n",
       "      <th>0</th>\n",
       "      <td>1</td>\n",
       "      <td>20.260</td>\n",
       "      <td>23.03</td>\n",
       "      <td>132.40</td>\n",
       "      <td>1264.0</td>\n",
       "      <td>0.09078</td>\n",
       "      <td>0.13130</td>\n",
       "      <td>0.14650</td>\n",
       "      <td>0.086830</td>\n",
       "      <td>0.2095</td>\n",
       "      <td>0.05649</td>\n",
       "      <td>0.7576</td>\n",
       "      <td>1.5090</td>\n",
       "      <td>4.554</td>\n",
       "      <td>87.870</td>\n",
       "      <td>0.006016</td>\n",
       "      <td>0.034820</td>\n",
       "      <td>0.04232</td>\n",
       "      <td>0.012690</td>\n",
       "      <td>0.026570</td>\n",
       "      <td>0.004411</td>\n",
       "      <td>24.22</td>\n",
       "      <td>31.59</td>\n",
       "      <td>156.10</td>\n",
       "      <td>1750.0</td>\n",
       "      <td>0.11900</td>\n",
       "      <td>0.35390</td>\n",
       "      <td>0.40980</td>\n",
       "      <td>0.15730</td>\n",
       "      <td>0.3689</td>\n",
       "      <td>0.08368</td>\n",
       "    </tr>\n",
       "    <tr>\n",
       "      <th>1</th>\n",
       "      <td>1</td>\n",
       "      <td>14.990</td>\n",
       "      <td>25.20</td>\n",
       "      <td>95.54</td>\n",
       "      <td>698.8</td>\n",
       "      <td>0.09387</td>\n",
       "      <td>0.05131</td>\n",
       "      <td>0.02398</td>\n",
       "      <td>0.028990</td>\n",
       "      <td>0.1565</td>\n",
       "      <td>0.05504</td>\n",
       "      <td>1.2140</td>\n",
       "      <td>2.1880</td>\n",
       "      <td>8.077</td>\n",
       "      <td>106.000</td>\n",
       "      <td>0.006883</td>\n",
       "      <td>0.010940</td>\n",
       "      <td>0.01818</td>\n",
       "      <td>0.019170</td>\n",
       "      <td>0.007882</td>\n",
       "      <td>0.001754</td>\n",
       "      <td>14.99</td>\n",
       "      <td>25.20</td>\n",
       "      <td>95.54</td>\n",
       "      <td>698.8</td>\n",
       "      <td>0.09387</td>\n",
       "      <td>0.05131</td>\n",
       "      <td>0.02398</td>\n",
       "      <td>0.02899</td>\n",
       "      <td>0.1565</td>\n",
       "      <td>0.05504</td>\n",
       "    </tr>\n",
       "    <tr>\n",
       "      <th>2</th>\n",
       "      <td>0</td>\n",
       "      <td>11.540</td>\n",
       "      <td>10.72</td>\n",
       "      <td>73.73</td>\n",
       "      <td>409.1</td>\n",
       "      <td>0.08597</td>\n",
       "      <td>0.05969</td>\n",
       "      <td>0.01367</td>\n",
       "      <td>0.008907</td>\n",
       "      <td>0.1833</td>\n",
       "      <td>0.06100</td>\n",
       "      <td>0.1312</td>\n",
       "      <td>0.3602</td>\n",
       "      <td>1.107</td>\n",
       "      <td>9.438</td>\n",
       "      <td>0.004124</td>\n",
       "      <td>0.013400</td>\n",
       "      <td>0.01003</td>\n",
       "      <td>0.004667</td>\n",
       "      <td>0.020320</td>\n",
       "      <td>0.001952</td>\n",
       "      <td>12.34</td>\n",
       "      <td>12.87</td>\n",
       "      <td>81.23</td>\n",
       "      <td>467.8</td>\n",
       "      <td>0.10920</td>\n",
       "      <td>0.16260</td>\n",
       "      <td>0.08324</td>\n",
       "      <td>0.04715</td>\n",
       "      <td>0.3390</td>\n",
       "      <td>0.07434</td>\n",
       "    </tr>\n",
       "    <tr>\n",
       "      <th>3</th>\n",
       "      <td>0</td>\n",
       "      <td>8.734</td>\n",
       "      <td>16.84</td>\n",
       "      <td>55.27</td>\n",
       "      <td>234.3</td>\n",
       "      <td>0.10390</td>\n",
       "      <td>0.07428</td>\n",
       "      <td>0.00000</td>\n",
       "      <td>0.000000</td>\n",
       "      <td>0.1985</td>\n",
       "      <td>0.07098</td>\n",
       "      <td>0.5169</td>\n",
       "      <td>2.0790</td>\n",
       "      <td>3.167</td>\n",
       "      <td>28.850</td>\n",
       "      <td>0.015820</td>\n",
       "      <td>0.019660</td>\n",
       "      <td>0.00000</td>\n",
       "      <td>0.000000</td>\n",
       "      <td>0.018650</td>\n",
       "      <td>0.006736</td>\n",
       "      <td>10.17</td>\n",
       "      <td>22.80</td>\n",
       "      <td>64.01</td>\n",
       "      <td>317.0</td>\n",
       "      <td>0.14600</td>\n",
       "      <td>0.13100</td>\n",
       "      <td>0.00000</td>\n",
       "      <td>0.00000</td>\n",
       "      <td>0.2445</td>\n",
       "      <td>0.08865</td>\n",
       "    </tr>\n",
       "    <tr>\n",
       "      <th>4</th>\n",
       "      <td>0</td>\n",
       "      <td>11.710</td>\n",
       "      <td>17.19</td>\n",
       "      <td>74.68</td>\n",
       "      <td>420.3</td>\n",
       "      <td>0.09774</td>\n",
       "      <td>0.06141</td>\n",
       "      <td>0.03809</td>\n",
       "      <td>0.032390</td>\n",
       "      <td>0.1516</td>\n",
       "      <td>0.06095</td>\n",
       "      <td>0.2451</td>\n",
       "      <td>0.7655</td>\n",
       "      <td>1.742</td>\n",
       "      <td>17.860</td>\n",
       "      <td>0.006905</td>\n",
       "      <td>0.008704</td>\n",
       "      <td>0.01978</td>\n",
       "      <td>0.011850</td>\n",
       "      <td>0.018970</td>\n",
       "      <td>0.001671</td>\n",
       "      <td>13.01</td>\n",
       "      <td>21.39</td>\n",
       "      <td>84.42</td>\n",
       "      <td>521.5</td>\n",
       "      <td>0.13230</td>\n",
       "      <td>0.10400</td>\n",
       "      <td>0.15210</td>\n",
       "      <td>0.10990</td>\n",
       "      <td>0.2572</td>\n",
       "      <td>0.07097</td>\n",
       "    </tr>\n",
       "  </tbody>\n",
       "</table>\n",
       "</div>"
      ],
      "text/plain": [
       "   diagnosis  radius_mean  ...  symmetry_worst  fractal_dimension_worst\n",
       "0          1       20.260  ...          0.3689                  0.08368\n",
       "1          1       14.990  ...          0.1565                  0.05504\n",
       "2          0       11.540  ...          0.3390                  0.07434\n",
       "3          0        8.734  ...          0.2445                  0.08865\n",
       "4          0       11.710  ...          0.2572                  0.07097\n",
       "\n",
       "[5 rows x 31 columns]"
      ]
     },
     "execution_count": 44,
     "metadata": {
      "tags": []
     },
     "output_type": "execute_result"
    }
   ],
   "source": [
    "from sklearn.preprocessing import LabelEncoder\n",
    "\n",
    "# The LabelEncoder\n",
    "le = LabelEncoder()\n",
    "\n",
    "# Encode categorical target in the combined data\n",
    "df[target] = le.fit_transform(df[target].astype(str))\n",
    "\n",
    "# Print the first 5 rows of df\n",
    "df.head()"
   ]
  },
  {
   "cell_type": "markdown",
   "metadata": {
    "colab_type": "text",
    "id": "M4nnAv_YzlFz"
   },
   "source": [
    "### Separating the training, validation and test data\n",
    "The code below shows how to separate the training, validation and test data."
   ]
  },
  {
   "cell_type": "code",
   "execution_count": 45,
   "metadata": {
    "colab": {},
    "colab_type": "code",
    "executionInfo": {
     "elapsed": 23913,
     "status": "ok",
     "timestamp": 1598497345954,
     "user": {
      "displayName": "Huang Yuxiao",
      "photoUrl": "",
      "userId": "05167076769245149404"
     },
     "user_tz": 240
    },
    "id": "53RGy5NRzlF0"
   },
   "outputs": [],
   "source": [
    "# Separating the training data\n",
    "df_train = df.iloc[:df_train.shape[0], :]\n",
    "\n",
    "# Separating the validation data\n",
    "df_val = df.iloc[df_train.shape[0]:df_train.shape[0] + df_val.shape[0], :]\n",
    "\n",
    "# Separating the test data\n",
    "df_test = df.iloc[df_train.shape[0] + df_val.shape[0]:, :]"
   ]
  },
  {
   "cell_type": "code",
   "execution_count": 46,
   "metadata": {
    "colab": {
     "base_uri": "https://localhost:8080/",
     "height": 80
    },
    "colab_type": "code",
    "executionInfo": {
     "elapsed": 23910,
     "status": "ok",
     "timestamp": 1598497345955,
     "user": {
      "displayName": "Huang Yuxiao",
      "photoUrl": "",
      "userId": "05167076769245149404"
     },
     "user_tz": 240
    },
    "id": "kz0qdOrlzlF1",
    "outputId": "c3aee3b8-093b-49a3-fdb3-1140dea430b8",
    "scrolled": true
   },
   "outputs": [
    {
     "data": {
      "text/html": [
       "<div>\n",
       "<style scoped>\n",
       "    .dataframe tbody tr th:only-of-type {\n",
       "        vertical-align: middle;\n",
       "    }\n",
       "\n",
       "    .dataframe tbody tr th {\n",
       "        vertical-align: top;\n",
       "    }\n",
       "\n",
       "    .dataframe thead th {\n",
       "        text-align: right;\n",
       "    }\n",
       "</style>\n",
       "<table border=\"1\" class=\"dataframe\">\n",
       "  <thead>\n",
       "    <tr style=\"text-align: right;\">\n",
       "      <th></th>\n",
       "      <th># rows</th>\n",
       "      <th># columns</th>\n",
       "    </tr>\n",
       "  </thead>\n",
       "  <tbody>\n",
       "    <tr>\n",
       "      <th>0</th>\n",
       "      <td>284</td>\n",
       "      <td>31</td>\n",
       "    </tr>\n",
       "  </tbody>\n",
       "</table>\n",
       "</div>"
      ],
      "text/plain": [
       "   # rows  # columns\n",
       "0     284         31"
      ]
     },
     "execution_count": 46,
     "metadata": {
      "tags": []
     },
     "output_type": "execute_result"
    }
   ],
   "source": [
    "# Print the dimension of df_train\n",
    "pd.DataFrame([[df_train.shape[0], df_train.shape[1]]], columns=['# rows', '# columns'])"
   ]
  },
  {
   "cell_type": "code",
   "execution_count": 47,
   "metadata": {
    "colab": {
     "base_uri": "https://localhost:8080/",
     "height": 80
    },
    "colab_type": "code",
    "executionInfo": {
     "elapsed": 23897,
     "status": "ok",
     "timestamp": 1598497345955,
     "user": {
      "displayName": "Huang Yuxiao",
      "photoUrl": "",
      "userId": "05167076769245149404"
     },
     "user_tz": 240
    },
    "id": "AOhCPkt3zlF2",
    "outputId": "f20d3a80-7376-43f9-bf56-8815bdf20c7b",
    "scrolled": true
   },
   "outputs": [
    {
     "data": {
      "text/html": [
       "<div>\n",
       "<style scoped>\n",
       "    .dataframe tbody tr th:only-of-type {\n",
       "        vertical-align: middle;\n",
       "    }\n",
       "\n",
       "    .dataframe tbody tr th {\n",
       "        vertical-align: top;\n",
       "    }\n",
       "\n",
       "    .dataframe thead th {\n",
       "        text-align: right;\n",
       "    }\n",
       "</style>\n",
       "<table border=\"1\" class=\"dataframe\">\n",
       "  <thead>\n",
       "    <tr style=\"text-align: right;\">\n",
       "      <th></th>\n",
       "      <th># rows</th>\n",
       "      <th># columns</th>\n",
       "    </tr>\n",
       "  </thead>\n",
       "  <tbody>\n",
       "    <tr>\n",
       "      <th>0</th>\n",
       "      <td>114</td>\n",
       "      <td>31</td>\n",
       "    </tr>\n",
       "  </tbody>\n",
       "</table>\n",
       "</div>"
      ],
      "text/plain": [
       "   # rows  # columns\n",
       "0     114         31"
      ]
     },
     "execution_count": 47,
     "metadata": {
      "tags": []
     },
     "output_type": "execute_result"
    }
   ],
   "source": [
    "# Print the dimension of df_val\n",
    "pd.DataFrame([[df_val.shape[0], df_val.shape[1]]], columns=['# rows', '# columns'])"
   ]
  },
  {
   "cell_type": "code",
   "execution_count": 48,
   "metadata": {
    "colab": {
     "base_uri": "https://localhost:8080/",
     "height": 80
    },
    "colab_type": "code",
    "executionInfo": {
     "elapsed": 23884,
     "status": "ok",
     "timestamp": 1598497345956,
     "user": {
      "displayName": "Huang Yuxiao",
      "photoUrl": "",
      "userId": "05167076769245149404"
     },
     "user_tz": 240
    },
    "id": "Z1unjEYDzlF4",
    "outputId": "e85d2af2-5de3-4b3f-b7a6-55a8b5873de4",
    "scrolled": false
   },
   "outputs": [
    {
     "data": {
      "text/html": [
       "<div>\n",
       "<style scoped>\n",
       "    .dataframe tbody tr th:only-of-type {\n",
       "        vertical-align: middle;\n",
       "    }\n",
       "\n",
       "    .dataframe tbody tr th {\n",
       "        vertical-align: top;\n",
       "    }\n",
       "\n",
       "    .dataframe thead th {\n",
       "        text-align: right;\n",
       "    }\n",
       "</style>\n",
       "<table border=\"1\" class=\"dataframe\">\n",
       "  <thead>\n",
       "    <tr style=\"text-align: right;\">\n",
       "      <th></th>\n",
       "      <th># rows</th>\n",
       "      <th># columns</th>\n",
       "    </tr>\n",
       "  </thead>\n",
       "  <tbody>\n",
       "    <tr>\n",
       "      <th>0</th>\n",
       "      <td>171</td>\n",
       "      <td>31</td>\n",
       "    </tr>\n",
       "  </tbody>\n",
       "</table>\n",
       "</div>"
      ],
      "text/plain": [
       "   # rows  # columns\n",
       "0     171         31"
      ]
     },
     "execution_count": 48,
     "metadata": {
      "tags": []
     },
     "output_type": "execute_result"
    }
   ],
   "source": [
    "# Print the dimension of df_test\n",
    "pd.DataFrame([[df_test.shape[0], df_test.shape[1]]], columns=['# rows', '# columns'])"
   ]
  },
  {
   "cell_type": "markdown",
   "metadata": {
    "colab_type": "text",
    "id": "Edju_Ur9zlF8"
   },
   "source": [
    "## Splitting the feature and target\n",
    "The code below shows how to split the feature and target."
   ]
  },
  {
   "cell_type": "code",
   "execution_count": 49,
   "metadata": {
    "colab": {},
    "colab_type": "code",
    "executionInfo": {
     "elapsed": 23871,
     "status": "ok",
     "timestamp": 1598497345956,
     "user": {
      "displayName": "Huang Yuxiao",
      "photoUrl": "",
      "userId": "05167076769245149404"
     },
     "user_tz": 240
    },
    "id": "GM7JSraLzlF8"
   },
   "outputs": [],
   "source": [
    "# Get the feature matrix\n",
    "X_train = df_train[np.setdiff1d(df_train.columns, [target])]\n",
    "X_val = df_val[np.setdiff1d(df_val.columns, [target])]\n",
    "X_test = df_test[np.setdiff1d(df_test.columns, [target])]\n",
    "\n",
    "# Get the target vector\n",
    "y_train = df_train[target]\n",
    "y_val = df_val[target]"
   ]
  },
  {
   "cell_type": "markdown",
   "metadata": {
    "colab_type": "text",
    "id": "S7-Kc1AyzlF7"
   },
   "source": [
    "## Scaling the data"
   ]
  },
  {
   "cell_type": "markdown",
   "metadata": {
    "colab_type": "text",
    "id": "ManLGU01NDpN"
   },
   "source": [
    "### Min-Max Normalization\n",
    "The code below shows how to normalize the data. "
   ]
  },
  {
   "cell_type": "code",
   "execution_count": 50,
   "metadata": {
    "colab": {},
    "colab_type": "code",
    "executionInfo": {
     "elapsed": 23866,
     "status": "ok",
     "timestamp": 1598497345956,
     "user": {
      "displayName": "Huang Yuxiao",
      "photoUrl": "",
      "userId": "05167076769245149404"
     },
     "user_tz": 240
    },
    "id": "CfCJmpaeXY2l"
   },
   "outputs": [],
   "source": [
    "from sklearn.preprocessing import MinMaxScaler\n",
    "\n",
    "# The MinMaxScaler\n",
    "mms = MinMaxScaler()"
   ]
  },
  {
   "cell_type": "markdown",
   "metadata": {
    "colab_type": "text",
    "id": "NTSB5KZNXY2m"
   },
   "source": [
    "#### Normalizing the features\n",
    "The code below shows how to normalize the features."
   ]
  },
  {
   "cell_type": "code",
   "execution_count": 51,
   "metadata": {
    "colab": {},
    "colab_type": "code",
    "executionInfo": {
     "elapsed": 23862,
     "status": "ok",
     "timestamp": 1598497345956,
     "user": {
      "displayName": "Huang Yuxiao",
      "photoUrl": "",
      "userId": "05167076769245149404"
     },
     "user_tz": 240
    },
    "id": "uOEGs_fiXY2m"
   },
   "outputs": [],
   "source": [
    "# Normalize the training data\n",
    "X_mms_train = pd.DataFrame(mms.fit_transform(X_train), columns=X_train.columns)\n",
    "\n",
    "# Normalize the validation data\n",
    "X_mms_val = pd.DataFrame(mms.transform(X_val), columns=X_val.columns)\n",
    "\n",
    "# Normalize the test data\n",
    "X_mms_test = pd.DataFrame(mms.transform(X_test), columns=X_test.columns)"
   ]
  },
  {
   "cell_type": "markdown",
   "metadata": {
    "colab_type": "text",
    "id": "r57KWJ8iNDpM"
   },
   "source": [
    "### Standardization\n",
    "The code below shows how to standardize the data."
   ]
  },
  {
   "cell_type": "code",
   "execution_count": 52,
   "metadata": {
    "colab": {},
    "colab_type": "code",
    "executionInfo": {
     "elapsed": 23859,
     "status": "ok",
     "timestamp": 1598497345957,
     "user": {
      "displayName": "Huang Yuxiao",
      "photoUrl": "",
      "userId": "05167076769245149404"
     },
     "user_tz": 240
    },
    "id": "giUXjP5SzlF7"
   },
   "outputs": [],
   "source": [
    "from sklearn.preprocessing import StandardScaler\n",
    "\n",
    "# The StandardScaler\n",
    "ss = StandardScaler()"
   ]
  },
  {
   "cell_type": "markdown",
   "metadata": {
    "colab_type": "text",
    "id": "_nEHtF6hyJLc"
   },
   "source": [
    "#### Standardizing the features\n",
    "The code below shows how to standardize the features."
   ]
  },
  {
   "cell_type": "code",
   "execution_count": 53,
   "metadata": {
    "colab": {},
    "colab_type": "code",
    "executionInfo": {
     "elapsed": 23855,
     "status": "ok",
     "timestamp": 1598497345957,
     "user": {
      "displayName": "Huang Yuxiao",
      "photoUrl": "",
      "userId": "05167076769245149404"
     },
     "user_tz": 240
    },
    "id": "vcCDFHDYyJLc"
   },
   "outputs": [],
   "source": [
    "# Standardize the training data\n",
    "X_train = pd.DataFrame(ss.fit_transform(X_train), columns=X_train.columns)\n",
    "\n",
    "# Standardize the validation data\n",
    "X_val = pd.DataFrame(ss.transform(X_val), columns=X_val.columns)\n",
    "\n",
    "# Standardize the test data\n",
    "X_test = pd.DataFrame(ss.transform(X_test), columns=X_test.columns)"
   ]
  },
  {
   "cell_type": "markdown",
   "metadata": {
    "colab_type": "text",
    "id": "szS5qt33fLHq"
   },
   "source": [
    "## Handling class imbalance"
   ]
  },
  {
   "cell_type": "markdown",
   "metadata": {
    "colab_type": "text",
    "id": "USBwi0D0kn6I"
   },
   "source": [
    "### Get the class distribution\n"
   ]
  },
  {
   "cell_type": "code",
   "execution_count": 54,
   "metadata": {
    "colab": {
     "base_uri": "https://localhost:8080/",
     "height": 68
    },
    "colab_type": "code",
    "executionInfo": {
     "elapsed": 23852,
     "status": "ok",
     "timestamp": 1598497345957,
     "user": {
      "displayName": "Huang Yuxiao",
      "photoUrl": "",
      "userId": "05167076769245149404"
     },
     "user_tz": 240
    },
    "id": "YyRT3GZYfLHq",
    "outputId": "05f88110-c8bf-42ba-fe52-ac398c2a36f9",
    "scrolled": true
   },
   "outputs": [
    {
     "data": {
      "text/plain": [
       "0    178\n",
       "1    106\n",
       "Name: diagnosis, dtype: int64"
      ]
     },
     "execution_count": 54,
     "metadata": {
      "tags": []
     },
     "output_type": "execute_result"
    }
   ],
   "source": [
    "y_train.value_counts()"
   ]
  },
  {
   "cell_type": "markdown",
   "metadata": {
    "colab_type": "text",
    "id": "KYuBLw6kq222"
   },
   "source": [
    "### Plot the scatter plot"
   ]
  },
  {
   "cell_type": "code",
   "execution_count": 55,
   "metadata": {
    "colab": {
     "base_uri": "https://localhost:8080/",
     "height": 420
    },
    "colab_type": "code",
    "executionInfo": {
     "elapsed": 26455,
     "status": "ok",
     "timestamp": 1598497348575,
     "user": {
      "displayName": "Huang Yuxiao",
      "photoUrl": "",
      "userId": "05167076769245149404"
     },
     "user_tz": 240
    },
    "id": "3EnkPqodq223",
    "outputId": "d868fb07-351f-43ff-e6cf-860ae7de79da"
   },
   "outputs": [
    {
     "data": {
      "image/png": "[encoded data removed]",
      "text/plain": [
       "<Figure size 576x432 with 1 Axes>"
      ]
     },
     "metadata": {
      "needs_background": "light",
      "tags": []
     },
     "output_type": "display_data"
    }
   ],
   "source": [
    "plot_scatter_tsne(X_train,\n",
    "                  y_train, \n",
    "                  [0, 1],\n",
    "                  ['0', '1'],\n",
    "                  ['blue', 'green'],\n",
    "                  ['o', '^'],\n",
    "                  'bottom-left',\n",
    "                  abspath_curr + 'result/breast_cancer_wisconsin/figure/',\n",
    "                  'scatter_plot_baseline.pdf',\n",
    "                  random_seed)"
   ]
  },
  {
   "cell_type": "markdown",
   "metadata": {
    "colab_type": "text",
    "id": "gTJKO4YI_Fb3"
   },
   "source": [
    "### RandomOverSampler"
   ]
  },
  {
   "cell_type": "code",
   "execution_count": 56,
   "metadata": {
    "colab": {},
    "colab_type": "code",
    "executionInfo": {
     "elapsed": 26443,
     "status": "ok",
     "timestamp": 1598497348576,
     "user": {
      "displayName": "Huang Yuxiao",
      "photoUrl": "",
      "userId": "05167076769245149404"
     },
     "user_tz": 240
    },
    "id": "eolzxm9v-2nX"
   },
   "outputs": [],
   "source": [
    "from imblearn.over_sampling import RandomOverSampler\n",
    "\n",
    "# The RandomOverSampler\n",
    "ros = RandomOverSampler(random_state=random_seed)\n",
    "\n",
    "# Augment the training data\n",
    "X_ros_train, y_ros_train = ros.fit_resample(X_train, y_train)\n",
    "\n",
    "# Transform X_ros_train and y_ros_train back to dataframe\n",
    "X_ros_train, y_ros_train = pd.DataFrame(X_ros_train, columns=X_train.columns), pd.DataFrame(y_ros_train, columns=pd.DataFrame(y_train).columns)[target],"
   ]
  },
  {
   "cell_type": "markdown",
   "metadata": {
    "colab_type": "text",
    "id": "hxBWJlkFq224"
   },
   "source": [
    "#### Get the class distribution"
   ]
  },
  {
   "cell_type": "code",
   "execution_count": 57,
   "metadata": {
    "colab": {
     "base_uri": "https://localhost:8080/",
     "height": 68
    },
    "colab_type": "code",
    "executionInfo": {
     "elapsed": 26440,
     "status": "ok",
     "timestamp": 1598497348576,
     "user": {
      "displayName": "Huang Yuxiao",
      "photoUrl": "",
      "userId": "05167076769245149404"
     },
     "user_tz": 240
    },
    "id": "Uxcu6bzHq225",
    "outputId": "b68cfde4-2526-4815-e339-c903e2792532"
   },
   "outputs": [
    {
     "data": {
      "text/plain": [
       "1    178\n",
       "0    178\n",
       "Name: diagnosis, dtype: int64"
      ]
     },
     "execution_count": 57,
     "metadata": {
      "tags": []
     },
     "output_type": "execute_result"
    }
   ],
   "source": [
    "y_ros_train.value_counts()"
   ]
  },
  {
   "cell_type": "markdown",
   "metadata": {
    "colab_type": "text",
    "id": "xUxCeAeaq228"
   },
   "source": [
    "#### Separate the duplicated class from the original class"
   ]
  },
  {
   "cell_type": "code",
   "execution_count": 58,
   "metadata": {
    "colab": {},
    "colab_type": "code",
    "executionInfo": {
     "elapsed": 26946,
     "status": "ok",
     "timestamp": 1598497349095,
     "user": {
      "displayName": "Huang Yuxiao",
      "photoUrl": "",
      "userId": "05167076769245149404"
     },
     "user_tz": 240
    },
    "id": "CzhVkj0Bz5Nq"
   },
   "outputs": [],
   "source": [
    "y_ros_dup_ori_train = separate_duplicate_original(X_ros_train.to_numpy(), y_ros_train.to_numpy(), 1)"
   ]
  },
  {
   "cell_type": "markdown",
   "metadata": {
    "colab_type": "text",
    "id": "BiSa9Wv5q225"
   },
   "source": [
    "#### Plot the scatter plot"
   ]
  },
  {
   "cell_type": "code",
   "execution_count": 59,
   "metadata": {
    "colab": {
     "base_uri": "https://localhost:8080/",
     "height": 420
    },
    "colab_type": "code",
    "executionInfo": {
     "elapsed": 29802,
     "status": "ok",
     "timestamp": 1598497351955,
     "user": {
      "displayName": "Huang Yuxiao",
      "photoUrl": "",
      "userId": "05167076769245149404"
     },
     "user_tz": 240
    },
    "id": "iLWujzS6q225",
    "outputId": "9e819d2a-9279-4d2f-ae5e-fd8367564753"
   },
   "outputs": [
    {
     "data": {
      "image/png": "[encoded data removed]",
      "text/plain": [
       "<Figure size 576x432 with 1 Axes>"
      ]
     },
     "metadata": {
      "needs_background": "light",
      "tags": []
     },
     "output_type": "display_data"
    }
   ],
   "source": [
    "plot_scatter_tsne(X_ros_train,\n",
    "                  y_ros_dup_ori_train, \n",
    "                  [0, 1, 2],\n",
    "                  ['0', '1', '+1 / 1'],\n",
    "                  ['blue', 'green', 'red'],\n",
    "                  ['o', '^', 's'],\n",
    "                  'bottom-right',\n",
    "                  abspath_curr + 'result/breast_cancer_wisconsin/figure/',\n",
    "                  'scatter_plot_ros.pdf',\n",
    "                  random_seed)"
   ]
  },
  {
   "cell_type": "markdown",
   "metadata": {
    "colab_type": "text",
    "id": "_QfXeKAy_Jfd"
   },
   "source": [
    "### SMOTE"
   ]
  },
  {
   "cell_type": "code",
   "execution_count": 60,
   "metadata": {
    "colab": {},
    "colab_type": "code",
    "executionInfo": {
     "elapsed": 29791,
     "status": "ok",
     "timestamp": 1598497351956,
     "user": {
      "displayName": "Huang Yuxiao",
      "photoUrl": "",
      "userId": "05167076769245149404"
     },
     "user_tz": 240
    },
    "id": "oV2f1pAY_C5b"
   },
   "outputs": [],
   "source": [
    "from imblearn.over_sampling import SMOTE\n",
    "\n",
    "# The SMOTE\n",
    "smote = SMOTE(random_state=random_seed)\n",
    "\n",
    "# Augment the training data\n",
    "X_smote_train, y_smote_train = smote.fit_resample(X_train, y_train)\n",
    "\n",
    "# Transform X_smote_train and y_smote_train back to dataframe\n",
    "X_smote_train, y_smote_train = pd.DataFrame(X_smote_train, columns=X_train.columns), pd.DataFrame(y_smote_train, columns=pd.DataFrame(y_train).columns)[target],"
   ]
  },
  {
   "cell_type": "markdown",
   "metadata": {
    "colab_type": "text",
    "id": "GDFLWQ5yq227"
   },
   "source": [
    "#### Get the class distribution"
   ]
  },
  {
   "cell_type": "code",
   "execution_count": 61,
   "metadata": {
    "colab": {
     "base_uri": "https://localhost:8080/",
     "height": 68
    },
    "colab_type": "code",
    "executionInfo": {
     "elapsed": 29787,
     "status": "ok",
     "timestamp": 1598497351956,
     "user": {
      "displayName": "Huang Yuxiao",
      "photoUrl": "",
      "userId": "05167076769245149404"
     },
     "user_tz": 240
    },
    "id": "G5s5So-Bq227",
    "outputId": "fc70f532-0b0d-4aa3-acef-d7b87a51c9c0"
   },
   "outputs": [
    {
     "data": {
      "text/plain": [
       "1    178\n",
       "0    178\n",
       "Name: diagnosis, dtype: int64"
      ]
     },
     "execution_count": 61,
     "metadata": {
      "tags": []
     },
     "output_type": "execute_result"
    }
   ],
   "source": [
    "y_smote_train.value_counts()"
   ]
  },
  {
   "cell_type": "markdown",
   "metadata": {
    "colab_type": "text",
    "id": "HIxckPhvz5Nu"
   },
   "source": [
    "#### Separate the generated class from the original class"
   ]
  },
  {
   "cell_type": "code",
   "execution_count": 62,
   "metadata": {
    "colab": {},
    "colab_type": "code",
    "executionInfo": {
     "elapsed": 30237,
     "status": "ok",
     "timestamp": 1598497352418,
     "user": {
      "displayName": "Huang Yuxiao",
      "photoUrl": "",
      "userId": "05167076769245149404"
     },
     "user_tz": 240
    },
    "id": "3Yz_RR09z5Nv"
   },
   "outputs": [],
   "source": [
    "y_smote_gan_ori_train = separate_generate_original(X_smote_train.to_numpy(), y_smote_train.to_numpy(), X_train.to_numpy(), y_train.to_numpy(), 1)"
   ]
  },
  {
   "cell_type": "markdown",
   "metadata": {
    "colab_type": "text",
    "id": "MP3INDC5z5Nw"
   },
   "source": [
    "#### Plot the scatter plot"
   ]
  },
  {
   "cell_type": "code",
   "execution_count": 63,
   "metadata": {
    "colab": {
     "base_uri": "https://localhost:8080/",
     "height": 420
    },
    "colab_type": "code",
    "executionInfo": {
     "elapsed": 32780,
     "status": "ok",
     "timestamp": 1598497354964,
     "user": {
      "displayName": "Huang Yuxiao",
      "photoUrl": "",
      "userId": "05167076769245149404"
     },
     "user_tz": 240
    },
    "id": "9AeQMZp6q228",
    "outputId": "5c7d1386-2cd5-4fc1-f229-141a500fe3ae"
   },
   "outputs": [
    {
     "data": {
      "image/png": "[encoded data removed]",
      "text/plain": [
       "<Figure size 576x432 with 1 Axes>"
      ]
     },
     "metadata": {
      "needs_background": "light",
      "tags": []
     },
     "output_type": "display_data"
    }
   ],
   "source": [
    "plot_scatter_tsne(X_smote_train,\n",
    "                  y_smote_gan_ori_train, \n",
    "                  [0, 1, 2],\n",
    "                  ['0', '1', '+1'],\n",
    "                  ['blue', 'green', 'red'],\n",
    "                  ['o', '^', 's'],\n",
    "                  'bottom-right',\n",
    "                  abspath_curr + 'result/breast_cancer_wisconsin/figure/',\n",
    "                  'scatter_plot_smote.pdf',\n",
    "                  random_seed)"
   ]
  },
  {
   "cell_type": "code",
   "execution_count": 63,
   "metadata": {
    "colab": {},
    "colab_type": "code",
    "executionInfo": {
     "elapsed": 32769,
     "status": "ok",
     "timestamp": 1598497354965,
     "user": {
      "displayName": "Huang Yuxiao",
      "photoUrl": "",
      "userId": "05167076769245149404"
     },
     "user_tz": 240
    },
    "id": "LOHPEin3fLHv"
   },
   "outputs": [],
   "source": []
  }
 ],
 "metadata": {
  "colab": {
   "collapsed_sections": [],
   "name": "classification.ipynb",
   "provenance": []
  },
  "kernelspec": {
   "display_name": "Python 3",
   "language": "python",
   "name": "python3"
  },
  "language_info": {
   "codemirror_mode": {
    "name": "ipython",
    "version": 3
   },
   "file_extension": ".py",
   "mimetype": "text/x-python",
   "name": "python",
   "nbconvert_exporter": "python",
   "pygments_lexer": "ipython3",
   "version": "3.7.6"
  },
  "toc": {
   "base_numbering": 1,
   "nav_menu": {},
   "number_sections": true,
   "sideBar": true,
   "skip_h1_title": false,
   "title_cell": "Table of Contents",
   "title_sidebar": "Contents",
   "toc_cell": true,
   "toc_position": {},
   "toc_section_display": true,
   "toc_window_display": false
  }
 },
 "nbformat": 4,
 "nbformat_minor": 1
}
