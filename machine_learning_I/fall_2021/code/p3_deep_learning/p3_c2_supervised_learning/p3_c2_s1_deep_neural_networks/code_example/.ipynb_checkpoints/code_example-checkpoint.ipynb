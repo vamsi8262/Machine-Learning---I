{
 "cells": [
  {
   "cell_type": "markdown",
   "metadata": {
    "id": "cMSn67px4ANI",
    "toc": true
   },
   "source": [
    "<h1>Table of Contents<span class=\"tocSkip\"></span></h1>\n",
    "<div class=\"toc\"><ul class=\"toc-item\"><li><span><a href=\"#Overview\" data-toc-modified-id=\"Overview-1\"><span class=\"toc-item-num\">1&nbsp;&nbsp;</span>Overview</a></span></li><li><span><a href=\"#Notebook-Configuration\" data-toc-modified-id=\"Notebook-Configuration-2\"><span class=\"toc-item-num\">2&nbsp;&nbsp;</span>Notebook Configuration</a></span><ul class=\"toc-item\"><li><span><a href=\"#Google-drive\" data-toc-modified-id=\"Google-drive-2.1\"><span class=\"toc-item-num\">2.1&nbsp;&nbsp;</span>Google drive</a></span></li><li><span><a href=\"#Warning\" data-toc-modified-id=\"Warning-2.2\"><span class=\"toc-item-num\">2.2&nbsp;&nbsp;</span>Warning</a></span></li><li><span><a href=\"#Matplotlib\" data-toc-modified-id=\"Matplotlib-2.3\"><span class=\"toc-item-num\">2.3&nbsp;&nbsp;</span>Matplotlib</a></span></li><li><span><a href=\"#TensorFlow\" data-toc-modified-id=\"TensorFlow-2.4\"><span class=\"toc-item-num\">2.4&nbsp;&nbsp;</span>TensorFlow</a></span></li><li><span><a href=\"#Random-seed\" data-toc-modified-id=\"Random-seed-2.5\"><span class=\"toc-item-num\">2.5&nbsp;&nbsp;</span>Random seed</a></span></li></ul></li><li><span><a href=\"#Data-Preprocessing\" data-toc-modified-id=\"Data-Preprocessing-3\"><span class=\"toc-item-num\">3&nbsp;&nbsp;</span>Data Preprocessing</a></span><ul class=\"toc-item\"><li><span><a href=\"#Loading-the-data\" data-toc-modified-id=\"Loading-the-data-3.1\"><span class=\"toc-item-num\">3.1&nbsp;&nbsp;</span>Loading the data</a></span><ul class=\"toc-item\"><li><span><a href=\"#Creating-the-directory-for-the-data\" data-toc-modified-id=\"Creating-the-directory-for-the-data-3.1.1\"><span class=\"toc-item-num\">3.1.1&nbsp;&nbsp;</span>Creating the directory for the data</a></span></li><li><span><a href=\"#Downloading-the-data-to-the-directory\" data-toc-modified-id=\"Downloading-the-data-to-the-directory-3.1.2\"><span class=\"toc-item-num\">3.1.2&nbsp;&nbsp;</span>Downloading the data to the directory</a></span></li></ul></li><li><span><a href=\"#Getting-the-name-of-the-target\" data-toc-modified-id=\"Getting-the-name-of-the-target-3.2\"><span class=\"toc-item-num\">3.2&nbsp;&nbsp;</span>Getting the name of the target</a></span></li><li><span><a href=\"#Getting-the-info\" data-toc-modified-id=\"Getting-the-info-3.3\"><span class=\"toc-item-num\">3.3&nbsp;&nbsp;</span>Getting the info</a></span></li><li><span><a href=\"#Getting-the-training,-validation-and-test-data\" data-toc-modified-id=\"Getting-the-training,-validation-and-test-data-3.4\"><span class=\"toc-item-num\">3.4&nbsp;&nbsp;</span>Getting the training, validation and test data</a></span></li><li><span><a href=\"#Preprocessing-the-data\" data-toc-modified-id=\"Preprocessing-the-data-3.5\"><span class=\"toc-item-num\">3.5&nbsp;&nbsp;</span>Preprocessing the data</a></span></li><li><span><a href=\"#Shuffling,-batching-and-prefetching-the-data\" data-toc-modified-id=\"Shuffling,-batching-and-prefetching-the-data-3.6\"><span class=\"toc-item-num\">3.6&nbsp;&nbsp;</span>Shuffling, batching and prefetching the data</a></span></li></ul></li><li><span><a href=\"#Training-(Without-Callback)\" data-toc-modified-id=\"Training-(Without-Callback)-4\"><span class=\"toc-item-num\">4&nbsp;&nbsp;</span>Training (Without Callback)</a></span><ul class=\"toc-item\"><li><span><a href=\"#Building-the-model\" data-toc-modified-id=\"Building-the-model-4.1\"><span class=\"toc-item-num\">4.1&nbsp;&nbsp;</span>Building the model</a></span><ul class=\"toc-item\"><li><span><a href=\"#A-step-by-step-approach\" data-toc-modified-id=\"A-step-by-step-approach-4.1.1\"><span class=\"toc-item-num\">4.1.1&nbsp;&nbsp;</span>A step by step approach</a></span></li><li><span><a href=\"#A-one-step-approach\" data-toc-modified-id=\"A-one-step-approach-4.1.2\"><span class=\"toc-item-num\">4.1.2&nbsp;&nbsp;</span>A one step approach</a></span></li><li><span><a href=\"#The-model-summary\" data-toc-modified-id=\"The-model-summary-4.1.3\"><span class=\"toc-item-num\">4.1.3&nbsp;&nbsp;</span>The model summary</a></span></li></ul></li><li><span><a href=\"#Compiling-the-model\" data-toc-modified-id=\"Compiling-the-model-4.2\"><span class=\"toc-item-num\">4.2&nbsp;&nbsp;</span>Compiling the model</a></span></li><li><span><a href=\"#Training-the-model\" data-toc-modified-id=\"Training-the-model-4.3\"><span class=\"toc-item-num\">4.3&nbsp;&nbsp;</span>Training the model</a></span></li><li><span><a href=\"#Plotting-the-learning-curve\" data-toc-modified-id=\"Plotting-the-learning-curve-4.4\"><span class=\"toc-item-num\">4.4&nbsp;&nbsp;</span>Plotting the learning curve</a></span><ul class=\"toc-item\"><li><span><a href=\"#Creating-the-directory-for-the-figure\" data-toc-modified-id=\"Creating-the-directory-for-the-figure-4.4.1\"><span class=\"toc-item-num\">4.4.1&nbsp;&nbsp;</span>Creating the directory for the figure</a></span></li><li><span><a href=\"#Plotting-the-figure\" data-toc-modified-id=\"Plotting-the-figure-4.4.2\"><span class=\"toc-item-num\">4.4.2&nbsp;&nbsp;</span>Plotting the figure</a></span></li></ul></li><li><span><a href=\"#Continuing-training-the-model\" data-toc-modified-id=\"Continuing-training-the-model-4.5\"><span class=\"toc-item-num\">4.5&nbsp;&nbsp;</span>Continuing training the model</a></span></li><li><span><a href=\"#Plotting-the-learning-curve\" data-toc-modified-id=\"Plotting-the-learning-curve-4.6\"><span class=\"toc-item-num\">4.6&nbsp;&nbsp;</span>Plotting the learning curve</a></span></li></ul></li><li><span><a href=\"#Training-(With-ModelCheckpoint-callback-to-Save-the-Model)\" data-toc-modified-id=\"Training-(With-ModelCheckpoint-callback-to-Save-the-Model)-5\"><span class=\"toc-item-num\">5&nbsp;&nbsp;</span>Training (With ModelCheckpoint callback to Save the Model)</a></span><ul class=\"toc-item\"><li><span><a href=\"#Creating-the-directory-for-the-saved-model\" data-toc-modified-id=\"Creating-the-directory-for-the-saved-model-5.1\"><span class=\"toc-item-num\">5.1&nbsp;&nbsp;</span>Creating the directory for the saved model</a></span></li><li><span><a href=\"#Building-the-model\" data-toc-modified-id=\"Building-the-model-5.2\"><span class=\"toc-item-num\">5.2&nbsp;&nbsp;</span>Building the model</a></span></li><li><span><a href=\"#Compiling-the-model\" data-toc-modified-id=\"Compiling-the-model-5.3\"><span class=\"toc-item-num\">5.3&nbsp;&nbsp;</span>Compiling the model</a></span></li><li><span><a href=\"#Training-the-model\" data-toc-modified-id=\"Training-the-model-5.4\"><span class=\"toc-item-num\">5.4&nbsp;&nbsp;</span>Training the model</a></span><ul class=\"toc-item\"><li><span><a href=\"#Setting-callbacks\" data-toc-modified-id=\"Setting-callbacks-5.4.1\"><span class=\"toc-item-num\">5.4.1&nbsp;&nbsp;</span>Setting callbacks</a></span></li><li><span><a href=\"#Training,-evaluating-and-saving-the-model\" data-toc-modified-id=\"Training,-evaluating-and-saving-the-model-5.4.2\"><span class=\"toc-item-num\">5.4.2&nbsp;&nbsp;</span>Training, evaluating and saving the model</a></span></li></ul></li><li><span><a href=\"#Plotting-the-learning-curve\" data-toc-modified-id=\"Plotting-the-learning-curve-5.5\"><span class=\"toc-item-num\">5.5&nbsp;&nbsp;</span>Plotting the learning curve</a></span></li><li><span><a href=\"#Loading-the-saved-model\" data-toc-modified-id=\"Loading-the-saved-model-5.6\"><span class=\"toc-item-num\">5.6&nbsp;&nbsp;</span>Loading the saved model</a></span></li><li><span><a href=\"#Continuing-training-the-model\" data-toc-modified-id=\"Continuing-training-the-model-5.7\"><span class=\"toc-item-num\">5.7&nbsp;&nbsp;</span>Continuing training the model</a></span></li><li><span><a href=\"#Plotting-the-learning-curve\" data-toc-modified-id=\"Plotting-the-learning-curve-5.8\"><span class=\"toc-item-num\">5.8&nbsp;&nbsp;</span>Plotting the learning curve</a></span></li></ul></li><li><span><a href=\"#Training-(With-ModelCheckpoint-callback-to-Save-the-Best-Model)\" data-toc-modified-id=\"Training-(With-ModelCheckpoint-callback-to-Save-the-Best-Model)-6\"><span class=\"toc-item-num\">6&nbsp;&nbsp;</span>Training (With ModelCheckpoint callback to Save the Best Model)</a></span><ul class=\"toc-item\"><li><span><a href=\"#Building-the-model\" data-toc-modified-id=\"Building-the-model-6.1\"><span class=\"toc-item-num\">6.1&nbsp;&nbsp;</span>Building the model</a></span></li><li><span><a href=\"#Compiling-the-model\" data-toc-modified-id=\"Compiling-the-model-6.2\"><span class=\"toc-item-num\">6.2&nbsp;&nbsp;</span>Compiling the model</a></span></li><li><span><a href=\"#Setting-Callbacks\" data-toc-modified-id=\"Setting-Callbacks-6.3\"><span class=\"toc-item-num\">6.3&nbsp;&nbsp;</span>Setting Callbacks</a></span></li><li><span><a href=\"#Training-the-model\" data-toc-modified-id=\"Training-the-model-6.4\"><span class=\"toc-item-num\">6.4&nbsp;&nbsp;</span>Training the model</a></span><ul class=\"toc-item\"><li><span><a href=\"#Setting-callbacks\" data-toc-modified-id=\"Setting-callbacks-6.4.1\"><span class=\"toc-item-num\">6.4.1&nbsp;&nbsp;</span>Setting callbacks</a></span></li><li><span><a href=\"#Training,-evaluating-and-saving-the-best-model\" data-toc-modified-id=\"Training,-evaluating-and-saving-the-best-model-6.4.2\"><span class=\"toc-item-num\">6.4.2&nbsp;&nbsp;</span>Training, evaluating and saving the best model</a></span></li></ul></li><li><span><a href=\"#Plotting-the-learning-curve\" data-toc-modified-id=\"Plotting-the-learning-curve-6.5\"><span class=\"toc-item-num\">6.5&nbsp;&nbsp;</span>Plotting the learning curve</a></span></li></ul></li><li><span><a href=\"#Training-(With-ModelCheckpoint-and-EarlyStopping)\" data-toc-modified-id=\"Training-(With-ModelCheckpoint-and-EarlyStopping)-7\"><span class=\"toc-item-num\">7&nbsp;&nbsp;</span>Training (With ModelCheckpoint and EarlyStopping)</a></span><ul class=\"toc-item\"><li><span><a href=\"#Building-the-model\" data-toc-modified-id=\"Building-the-model-7.1\"><span class=\"toc-item-num\">7.1&nbsp;&nbsp;</span>Building the model</a></span></li><li><span><a href=\"#Compiling-the-model\" data-toc-modified-id=\"Compiling-the-model-7.2\"><span class=\"toc-item-num\">7.2&nbsp;&nbsp;</span>Compiling the model</a></span></li><li><span><a href=\"#Training-the-model\" data-toc-modified-id=\"Training-the-model-7.3\"><span class=\"toc-item-num\">7.3&nbsp;&nbsp;</span>Training the model</a></span><ul class=\"toc-item\"><li><span><a href=\"#Setting-callbacks\" data-toc-modified-id=\"Setting-callbacks-7.3.1\"><span class=\"toc-item-num\">7.3.1&nbsp;&nbsp;</span>Setting callbacks</a></span></li><li><span><a href=\"#Training,-evaluating-and-saving-the-best-model\" data-toc-modified-id=\"Training,-evaluating-and-saving-the-best-model-7.3.2\"><span class=\"toc-item-num\">7.3.2&nbsp;&nbsp;</span>Training, evaluating and saving the best model</a></span></li></ul></li><li><span><a href=\"#Plotting-the-learning-curve\" data-toc-modified-id=\"Plotting-the-learning-curve-7.4\"><span class=\"toc-item-num\">7.4&nbsp;&nbsp;</span>Plotting the learning curve</a></span></li></ul></li><li><span><a href=\"#Testing-the-Best-Model\" data-toc-modified-id=\"Testing-the-Best-Model-8\"><span class=\"toc-item-num\">8&nbsp;&nbsp;</span>Testing the Best Model</a></span><ul class=\"toc-item\"><li><span><a href=\"#Loading-the-saved-model\" data-toc-modified-id=\"Loading-the-saved-model-8.1\"><span class=\"toc-item-num\">8.1&nbsp;&nbsp;</span>Loading the saved model</a></span></li><li><span><a href=\"#Evaluating-the-model\" data-toc-modified-id=\"Evaluating-the-model-8.2\"><span class=\"toc-item-num\">8.2&nbsp;&nbsp;</span>Evaluating the model</a></span></li></ul></li></ul></div>"
   ]
  },
  {
   "cell_type": "markdown",
   "metadata": {
    "id": "42yc1zUrzlEh"
   },
   "source": [
    "<b>\n",
    "<p>\n",
    "<center>\n",
    "<font size=\"5\">\n",
    "Popular Machine Learning Methods: Idea, Practice and Math\n",
    "</font>\n",
    "</center>\n",
    "</p>\n",
    "\n",
    "<p>\n",
    "<center>\n",
    "<font size=\"4\">\n",
    "Part 3, Chapter 2, Section 1: Deep Neural Networks\n",
    "</font>\n",
    "</center>\n",
    "</p>\n",
    "    \n",
    "<p>\n",
    "<center>\n",
    "<font size=\"4\">\n",
    "Code Example: Fashion-MNIST Dataset\n",
    "</font>\n",
    "</center>\n",
    "</p>\n",
    "\n",
    "<p>\n",
    "<center>\n",
    "<font size=\"3\">\n",
    "Data Science, Columbian College of Arts & Sciences, George Washington University\n",
    "</font>\n",
    "</center>\n",
    "</p>\n",
    "\n",
    "<p>\n",
    "<center>\n",
    "<font size=\"3\">\n",
    "Yuxiao Huang\n",
    "</font>\n",
    "</center>\n",
    "</p>\n",
    "</b>"
   ]
  },
  {
   "cell_type": "markdown",
   "metadata": {
    "id": "rT2SKHw2zlEi"
   },
   "source": [
    "# Overview"
   ]
  },
  {
   "cell_type": "markdown",
   "metadata": {
    "id": "asZWLrJKzlEj"
   },
   "source": [
    "- This notebook includes the code example for Deep Neural Networks (Part 3, Chapter 2, Section 1).\n",
    "- See the accompanied slides in our [github repository](https://github.com/yuxiaohuang/teaching/tree/master/gwu/machine_learning_I/fall_2020/slides/p3_deep_learning/p3_c2_supervised_learning/p3_c2_s1_deep_neural_networks)."
   ]
  },
  {
   "cell_type": "markdown",
   "metadata": {
    "id": "WJ-IbZqAgILJ"
   },
   "source": [
    "# Notebook Configuration"
   ]
  },
  {
   "cell_type": "markdown",
   "metadata": {
    "id": "H3yB94KtgMHu"
   },
   "source": [
    "## Google drive"
   ]
  },
  {
   "cell_type": "code",
   "execution_count": 1,
   "metadata": {
    "colab": {
     "base_uri": "https://localhost:8080/",
     "height": 34
    },
    "executionInfo": {
     "elapsed": 25548,
     "status": "ok",
     "timestamp": 1603590422789,
     "user": {
      "displayName": "Huang Yuxiao",
      "photoUrl": "",
      "userId": "05167076769245149404"
     },
     "user_tz": 240
    },
    "id": "jWmYBTOwgNs-",
    "outputId": "b1170845-f525-4435-9328-336d9b6e9d16",
    "scrolled": true
   },
   "outputs": [
    {
     "name": "stdout",
     "output_type": "stream",
     "text": [
      "Mounted at /content/drive\n"
     ]
    }
   ],
   "source": [
    "from google.colab import drive\n",
    "import sys\n",
    "\n",
    "# Mount Google Drive\n",
    "drive.mount('/content/drive')\n",
    "\n",
    "# Get the absolute path of the current folder\n",
    "abspath_curr = '/content/drive/My Drive/Colab Notebooks/teaching/gwu/machine_learning_I/code/p3_deep_learning/p3_c2_supervised_learning/p3_c2_s1_deep_neural_networks/code_example/'\n",
    "\n",
    "# Get the absolute path of the deep utilities folder\n",
    "abspath_util_deep = '/content/drive/My Drive/Colab Notebooks/teaching/gwu/machine_learning_I/code/utilities/p2_deep_learning/'"
   ]
  },
  {
   "cell_type": "markdown",
   "metadata": {
    "id": "bYZhU1Wqgmqx"
   },
   "source": [
    "## Warning"
   ]
  },
  {
   "cell_type": "code",
   "execution_count": 2,
   "metadata": {
    "executionInfo": {
     "elapsed": 25556,
     "status": "ok",
     "timestamp": 1603590422800,
     "user": {
      "displayName": "Huang Yuxiao",
      "photoUrl": "",
      "userId": "05167076769245149404"
     },
     "user_tz": 240
    },
    "id": "MUl4k83e4ANR"
   },
   "outputs": [],
   "source": [
    "import warnings\n",
    "\n",
    "# Ignore warnings\n",
    "warnings.filterwarnings('ignore')"
   ]
  },
  {
   "cell_type": "markdown",
   "metadata": {
    "id": "6WMODpPfgn2U"
   },
   "source": [
    "## Matplotlib"
   ]
  },
  {
   "cell_type": "code",
   "execution_count": 3,
   "metadata": {
    "executionInfo": {
     "elapsed": 25555,
     "status": "ok",
     "timestamp": 1603590422801,
     "user": {
      "displayName": "Huang Yuxiao",
      "photoUrl": "",
      "userId": "05167076769245149404"
     },
     "user_tz": 240
    },
    "id": "DBRVH9SB4ANb"
   },
   "outputs": [],
   "source": [
    "import matplotlib.pyplot as plt\n",
    "%matplotlib inline \n",
    "\n",
    "# Set matplotlib sizes\n",
    "plt.rc('font', size=20)\n",
    "plt.rc('axes', titlesize=20)\n",
    "plt.rc('axes', labelsize=20)\n",
    "plt.rc('xtick', labelsize=20)\n",
    "plt.rc('ytick', labelsize=20)\n",
    "plt.rc('legend', fontsize=20)\n",
    "plt.rc('figure', titlesize=20)"
   ]
  },
  {
   "cell_type": "markdown",
   "metadata": {
    "id": "n-wNDk5nZhhO"
   },
   "source": [
    "## TensorFlow"
   ]
  },
  {
   "cell_type": "code",
   "execution_count": 4,
   "metadata": {
    "executionInfo": {
     "elapsed": 27082,
     "status": "ok",
     "timestamp": 1603590424330,
     "user": {
      "displayName": "Huang Yuxiao",
      "photoUrl": "",
      "userId": "05167076769245149404"
     },
     "user_tz": 240
    },
    "id": "LjG43tEnZkfE"
   },
   "outputs": [],
   "source": [
    "# The magic below allows us to use tensorflow version 2.x\n",
    "%tensorflow_version 2.x \n",
    "import tensorflow as tf\n",
    "from tensorflow import keras"
   ]
  },
  {
   "cell_type": "markdown",
   "metadata": {
    "id": "40FN3UNfO2Z7"
   },
   "source": [
    "## Random seed"
   ]
  },
  {
   "cell_type": "code",
   "execution_count": 5,
   "metadata": {
    "executionInfo": {
     "elapsed": 27081,
     "status": "ok",
     "timestamp": 1603590424331,
     "user": {
      "displayName": "Huang Yuxiao",
      "photoUrl": "",
      "userId": "05167076769245149404"
     },
     "user_tz": 240
    },
    "id": "uSADk0hJP71d"
   },
   "outputs": [],
   "source": [
    "# The random seed\n",
    "random_seed = 42\n",
    "\n",
    "# Set random seed in tensorflow\n",
    "tf.random.set_seed(random_seed)\n",
    "\n",
    "# Set random seed in numpy\n",
    "import numpy as np\n",
    "np.random.seed(random_seed)"
   ]
  },
  {
   "cell_type": "markdown",
   "metadata": {
    "id": "1eOpQpPu4ANk"
   },
   "source": [
    "# Data Preprocessing"
   ]
  },
  {
   "cell_type": "code",
   "execution_count": null,
   "metadata": {
    "colab": {
     "base_uri": "https://localhost:8080/",
     "height": 34
    },
    "executionInfo": {
     "elapsed": 22728,
     "status": "ok",
     "timestamp": 1603074710149,
     "user": {
      "displayName": "Huang Yuxiao",
      "photoUrl": "",
      "userId": "05167076769245149404"
     },
     "user_tz": 240
    },
    "id": "D-Mwc6MczlFD",
    "outputId": "4376c7e0-ef9b-4e1d-a5b2-2a5e8c42afcb"
   },
   "outputs": [
    {
     "name": "stdout",
     "output_type": "stream",
     "text": [
      "/content/drive/My Drive/Colab Notebooks/teaching/gwu/machine_learning_I/code/utilities/p2_shallow_learning\n"
     ]
    }
   ],
   "source": [
    "# Change working directory to the absolute path of the deep utilities folder\n",
    "%cd $abspath_util_deep\n",
    "\n",
    "# Import the deep utitilities\n",
    "%run pmlm_utilities_deep.ipynb"
   ]
  },
  {
   "cell_type": "markdown",
   "metadata": {
    "id": "xnJAfR784ANl"
   },
   "source": [
    "## Loading the data"
   ]
  },
  {
   "cell_type": "markdown",
   "metadata": {
    "id": "LM_WKAmO4ANm"
   },
   "source": [
    "In this code example, we will work on the [Fashion-MNIST dataset](https://www.tensorflow.org/datasets/catalog/fashion_mnist)."
   ]
  },
  {
   "cell_type": "markdown",
   "metadata": {
    "id": "IEjvHlLB8X0z"
   },
   "source": [
    "### Creating the directory for the data"
   ]
  },
  {
   "cell_type": "code",
   "execution_count": 6,
   "metadata": {
    "executionInfo": {
     "elapsed": 28004,
     "status": "ok",
     "timestamp": 1603590425255,
     "user": {
      "displayName": "Huang Yuxiao",
      "photoUrl": "",
      "userId": "05167076769245149404"
     },
     "user_tz": 240
    },
    "id": "reijpcaf8UgO"
   },
   "outputs": [],
   "source": [
    "import os\n",
    "\n",
    "# Make directory\n",
    "directory = os.path.dirname(abspath_curr + '/data/')\n",
    "if not os.path.exists(directory):\n",
    "    os.makedirs(directory)"
   ]
  },
  {
   "cell_type": "markdown",
   "metadata": {
    "id": "-sDdbhok2i7C"
   },
   "source": [
    "### Downloading the data to the directory"
   ]
  },
  {
   "cell_type": "code",
   "execution_count": 7,
   "metadata": {
    "executionInfo": {
     "elapsed": 35056,
     "status": "ok",
     "timestamp": 1603590432309,
     "user": {
      "displayName": "Huang Yuxiao",
      "photoUrl": "",
      "userId": "05167076769245149404"
     },
     "user_tz": 240
    },
    "id": "6onKpDeL4ANn",
    "scrolled": true
   },
   "outputs": [],
   "source": [
    "import tensorflow_datasets as tfds\n",
    "\n",
    "# Get the name of the data\n",
    "data_name = \"fashion_mnist\"\n",
    "\n",
    "# Load data\n",
    "data, info = tfds.load(name=data_name,\n",
    "                       data_dir=abspath_curr + 'data/',\n",
    "                       as_supervised=True,\n",
    "                       with_info=True)"
   ]
  },
  {
   "cell_type": "markdown",
   "metadata": {
    "id": "yvIqSuZUVBb8"
   },
   "source": [
    "## Getting the name of the target"
   ]
  },
  {
   "cell_type": "code",
   "execution_count": 8,
   "metadata": {
    "executionInfo": {
     "elapsed": 35056,
     "status": "ok",
     "timestamp": 1603590432311,
     "user": {
      "displayName": "Huang Yuxiao",
      "photoUrl": "",
      "userId": "05167076769245149404"
     },
     "user_tz": 240
    },
    "id": "AF5gbpOWVElL"
   },
   "outputs": [],
   "source": [
    "target = 'label'"
   ]
  },
  {
   "cell_type": "markdown",
   "metadata": {
    "id": "ugddFhUgVGWq"
   },
   "source": [
    "## Getting the info"
   ]
  },
  {
   "cell_type": "code",
   "execution_count": 9,
   "metadata": {
    "colab": {
     "base_uri": "https://localhost:8080/",
     "height": 51
    },
    "executionInfo": {
     "elapsed": 35038,
     "status": "ok",
     "timestamp": 1603590432312,
     "user": {
      "displayName": "Huang Yuxiao",
      "photoUrl": "",
      "userId": "05167076769245149404"
     },
     "user_tz": 240
    },
    "id": "A85zWEqMjP5E",
    "outputId": "a133fab4-405c-4def-b690-c5e5cbd32ffd"
   },
   "outputs": [
    {
     "data": {
      "text/plain": [
       "{'test': <tfds.core.SplitInfo num_examples=10000>,\n",
       " 'train': <tfds.core.SplitInfo num_examples=60000>}"
      ]
     },
     "execution_count": 9,
     "metadata": {
      "tags": []
     },
     "output_type": "execute_result"
    }
   ],
   "source": [
    "# Print the splits\n",
    "info.splits"
   ]
  },
  {
   "cell_type": "code",
   "execution_count": 10,
   "metadata": {
    "colab": {
     "base_uri": "https://localhost:8080/",
     "height": 187
    },
    "executionInfo": {
     "elapsed": 35009,
     "status": "ok",
     "timestamp": 1603590432313,
     "user": {
      "displayName": "Huang Yuxiao",
      "photoUrl": "",
      "userId": "05167076769245149404"
     },
     "user_tz": 240
    },
    "id": "vsSHR38vjL1G",
    "outputId": "e6cd0d92-4d7d-4ad8-b4a3-b8895fa6aa13"
   },
   "outputs": [
    {
     "data": {
      "text/plain": [
       "['T-shirt/top',\n",
       " 'Trouser',\n",
       " 'Pullover',\n",
       " 'Dress',\n",
       " 'Coat',\n",
       " 'Sandal',\n",
       " 'Shirt',\n",
       " 'Sneaker',\n",
       " 'Bag',\n",
       " 'Ankle boot']"
      ]
     },
     "execution_count": 10,
     "metadata": {
      "tags": []
     },
     "output_type": "execute_result"
    }
   ],
   "source": [
    "# Get the classes\n",
    "classes = info.features['label'].names\n",
    "\n",
    "# Print the classes\n",
    "classes"
   ]
  },
  {
   "cell_type": "code",
   "execution_count": 11,
   "metadata": {
    "colab": {
     "base_uri": "https://localhost:8080/",
     "height": 34
    },
    "executionInfo": {
     "elapsed": 34991,
     "status": "ok",
     "timestamp": 1603590432313,
     "user": {
      "displayName": "Huang Yuxiao",
      "photoUrl": "",
      "userId": "05167076769245149404"
     },
     "user_tz": 240
    },
    "id": "hD0wa74kS_53",
    "outputId": "080c2663-4f33-463f-ac78-30f37abfff85"
   },
   "outputs": [
    {
     "data": {
      "text/plain": [
       "10"
      ]
     },
     "execution_count": 11,
     "metadata": {
      "tags": []
     },
     "output_type": "execute_result"
    }
   ],
   "source": [
    "# Get the number of classes\n",
    "n_classes = info.features['label'].num_classes\n",
    "\n",
    "# Print the number of classes\n",
    "info.features['label'].num_classes"
   ]
  },
  {
   "cell_type": "markdown",
   "metadata": {
    "id": "jGLoCbmO4AN9"
   },
   "source": [
    "## Getting the training, validation and test data"
   ]
  },
  {
   "cell_type": "code",
   "execution_count": 12,
   "metadata": {
    "executionInfo": {
     "elapsed": 35301,
     "status": "ok",
     "timestamp": 1603590432624,
     "user": {
      "displayName": "Huang Yuxiao",
      "photoUrl": "",
      "userId": "05167076769245149404"
     },
     "user_tz": 240
    },
    "id": "a2P4L1vS4AN_"
   },
   "outputs": [],
   "source": [
    "# Set the training, validation and test split\n",
    "split_train, split_valid, split_test = 'train[:70%]', 'train[70%:]', 'test'\n",
    "\n",
    "# Get the training data\n",
    "data_train = tfds.load(name=data_name,\n",
    "                       split=split_train,\n",
    "                       data_dir=abspath_curr + 'data/',\n",
    "                       as_supervised=True)\n",
    "\n",
    "# Get the validation data\n",
    "data_valid = tfds.load(name=data_name,\n",
    "                       split=split_valid,\n",
    "                       data_dir=abspath_curr + 'data/',\n",
    "                       as_supervised=True)\n",
    "\n",
    "# Get the test data\n",
    "data_test = tfds.load(name=data_name,\n",
    "                      split=split_test,\n",
    "                      data_dir=abspath_curr + 'data/',\n",
    "                      as_supervised=True)"
   ]
  },
  {
   "cell_type": "markdown",
   "metadata": {
    "id": "sZUSCJjyXxYE"
   },
   "source": [
    "## Preprocessing the data"
   ]
  },
  {
   "cell_type": "code",
   "execution_count": 15,
   "metadata": {
    "executionInfo": {
     "elapsed": 35277,
     "status": "ok",
     "timestamp": 1603590432625,
     "user": {
      "displayName": "Huang Yuxiao",
      "photoUrl": "",
      "userId": "05167076769245149404"
     },
     "user_tz": 240
    },
    "id": "CfV6k87Ihz_u"
   },
   "outputs": [],
   "source": [
    "# Call preprocess\n",
    "# See the implementation in pmlm_utilities_deep.ipynb\n",
    "\n",
    "# Preprocess the training data\n",
    "data_train = data_train.map(preprocess)\n",
    "\n",
    "# Preprocess the validation data\n",
    "data_valid = data_valid.map(preprocess)\n",
    "\n",
    "# Preprocess the test data\n",
    "data_test = data_test.map(preprocess)"
   ]
  },
  {
   "cell_type": "markdown",
   "metadata": {
    "id": "e9oPQZ7limeD"
   },
   "source": [
    "## Shuffling, batching and prefetching the data"
   ]
  },
  {
   "cell_type": "code",
   "execution_count": 16,
   "metadata": {
    "executionInfo": {
     "elapsed": 35276,
     "status": "ok",
     "timestamp": 1603590432626,
     "user": {
      "displayName": "Huang Yuxiao",
      "photoUrl": "",
      "userId": "05167076769245149404"
     },
     "user_tz": 240
    },
    "id": "p95Fq3PFbaAL"
   },
   "outputs": [],
   "source": [
    "# Shuffling the training data\n",
    "data_train = data_train.shuffle(buffer_size=1000, seed=42)\n",
    "\n",
    "# Set the batch size\n",
    "batch_size = 16\n",
    "\n",
    "# Batch and prefetch the training data\n",
    "data_train = data_train.batch(batch_size).prefetch(1)\n",
    "\n",
    "# Batch and prefetch the validation data\n",
    "data_valid = data_valid.batch(batch_size).prefetch(1)\n",
    "\n",
    "# Batch and prefetch the test data\n",
    "data_test = data_test.batch(batch_size).prefetch(1)"
   ]
  },
  {
   "cell_type": "markdown",
   "metadata": {
    "id": "rMLlv9xK4AO9"
   },
   "source": [
    "# Training (Without Callback)"
   ]
  },
  {
   "cell_type": "markdown",
   "metadata": {
    "id": "tadOFNHsaCCj"
   },
   "source": [
    "## Building the model"
   ]
  },
  {
   "cell_type": "markdown",
   "metadata": {
    "id": "MrmKev8JaBXc"
   },
   "source": [
    " ### A step by step approach"
   ]
  },
  {
   "cell_type": "code",
   "execution_count": 17,
   "metadata": {
    "executionInfo": {
     "elapsed": 35275,
     "status": "ok",
     "timestamp": 1603590432626,
     "user": {
      "displayName": "Huang Yuxiao",
      "photoUrl": "",
      "userId": "05167076769245149404"
     },
     "user_tz": 240
    },
    "id": "lYq-8ZYia_dL"
   },
   "outputs": [],
   "source": [
    "# A sequential dnn\n",
    "model = keras.models.Sequential()\n",
    "\n",
    "# Add the input layer\n",
    "model.add(keras.layers.Flatten(input_shape=[28, 28]))\n",
    "\n",
    "# Add two hidden layers\n",
    "model.add(keras.layers.Dense(50, activation=\"relu\"))\n",
    "model.add(keras.layers.Dense(50, activation=\"relu\"))\n",
    "\n",
    "# Add the output layer\n",
    "model.add(keras.layers.Dense(10, activation=\"softmax\"))"
   ]
  },
  {
   "cell_type": "markdown",
   "metadata": {
    "id": "wZ88p-q4bC_5"
   },
   "source": [
    "### A one step approach"
   ]
  },
  {
   "cell_type": "code",
   "execution_count": 18,
   "metadata": {
    "executionInfo": {
     "elapsed": 35273,
     "status": "ok",
     "timestamp": 1603590432626,
     "user": {
      "displayName": "Huang Yuxiao",
      "photoUrl": "",
      "userId": "05167076769245149404"
     },
     "user_tz": 240
    },
    "id": "aA-szs5vbE1o"
   },
   "outputs": [],
   "source": [
    "# A sequential dnn with two hidden layers\n",
    "model = keras.models.Sequential([\n",
    "        keras.layers.Flatten(input_shape=[28, 28]),\n",
    "        keras.layers.Dense(50, activation=\"relu\"),\n",
    "        keras.layers.Dense(50, activation=\"relu\"),\n",
    "        keras.layers.Dense(10, activation=\"softmax\")])"
   ]
  },
  {
   "cell_type": "markdown",
   "metadata": {
    "id": "WH5LCcCvbNsM"
   },
   "source": [
    "### The model summary"
   ]
  },
  {
   "cell_type": "code",
   "execution_count": 19,
   "metadata": {
    "colab": {
     "base_uri": "https://localhost:8080/",
     "height": 289
    },
    "executionInfo": {
     "elapsed": 35256,
     "status": "ok",
     "timestamp": 1603590432627,
     "user": {
      "displayName": "Huang Yuxiao",
      "photoUrl": "",
      "userId": "05167076769245149404"
     },
     "user_tz": 240
    },
    "id": "Nd37DOGLaAa6",
    "outputId": "1c1c34b0-1ada-45a3-d8e5-a72212bb72f3"
   },
   "outputs": [
    {
     "name": "stdout",
     "output_type": "stream",
     "text": [
      "Model: \"sequential_1\"\n",
      "_________________________________________________________________\n",
      "Layer (type)                 Output Shape              Param #   \n",
      "=================================================================\n",
      "flatten_1 (Flatten)          (None, 784)               0         \n",
      "_________________________________________________________________\n",
      "dense_3 (Dense)              (None, 50)                39250     \n",
      "_________________________________________________________________\n",
      "dense_4 (Dense)              (None, 50)                2550      \n",
      "_________________________________________________________________\n",
      "dense_5 (Dense)              (None, 10)                510       \n",
      "=================================================================\n",
      "Total params: 42,310\n",
      "Trainable params: 42,310\n",
      "Non-trainable params: 0\n",
      "_________________________________________________________________\n"
     ]
    }
   ],
   "source": [
    "model.summary()"
   ]
  },
  {
   "cell_type": "markdown",
   "metadata": {
    "id": "iGISytqvZ_C0"
   },
   "source": [
    "## Compiling the model"
   ]
  },
  {
   "cell_type": "code",
   "execution_count": 20,
   "metadata": {
    "executionInfo": {
     "elapsed": 35562,
     "status": "ok",
     "timestamp": 1603590432935,
     "user": {
      "displayName": "Huang Yuxiao",
      "photoUrl": "",
      "userId": "05167076769245149404"
     },
     "user_tz": 240
    },
    "id": "aaMjBK2kZ-WX"
   },
   "outputs": [],
   "source": [
    "# Compile the model\n",
    "model.compile(optimizer=keras.optimizers.SGD(),\n",
    "              loss='sparse_categorical_crossentropy',\n",
    "              metrics=['accuracy'])"
   ]
  },
  {
   "cell_type": "markdown",
   "metadata": {
    "id": "ba6nZQcO7Wjv"
   },
   "source": [
    "## Training the model"
   ]
  },
  {
   "cell_type": "code",
   "execution_count": 21,
   "metadata": {
    "colab": {
     "base_uri": "https://localhost:8080/",
     "height": 357
    },
    "executionInfo": {
     "elapsed": 185081,
     "status": "ok",
     "timestamp": 1603590582472,
     "user": {
      "displayName": "Huang Yuxiao",
      "photoUrl": "",
      "userId": "05167076769245149404"
     },
     "user_tz": 240
    },
    "id": "WPC7Obrq7ZDy",
    "outputId": "d452f13c-ae0e-41b8-f75a-f9c6d9cfd047"
   },
   "outputs": [
    {
     "name": "stdout",
     "output_type": "stream",
     "text": [
      "Epoch 1/10\n",
      "2625/2625 [==============================] - 13s 5ms/step - loss: 0.7334 - accuracy: 0.7470 - val_loss: 0.5248 - val_accuracy: 0.8157\n",
      "Epoch 2/10\n",
      "2625/2625 [==============================] - 15s 6ms/step - loss: 0.5012 - accuracy: 0.8227 - val_loss: 0.4748 - val_accuracy: 0.8344\n",
      "Epoch 3/10\n",
      "2625/2625 [==============================] - 14s 5ms/step - loss: 0.4515 - accuracy: 0.8407 - val_loss: 0.4361 - val_accuracy: 0.8469\n",
      "Epoch 4/10\n",
      "2625/2625 [==============================] - 15s 6ms/step - loss: 0.4231 - accuracy: 0.8514 - val_loss: 0.4149 - val_accuracy: 0.8533\n",
      "Epoch 5/10\n",
      "2625/2625 [==============================] - 15s 6ms/step - loss: 0.4001 - accuracy: 0.8588 - val_loss: 0.3933 - val_accuracy: 0.8574\n",
      "Epoch 6/10\n",
      "2625/2625 [==============================] - 15s 6ms/step - loss: 0.3846 - accuracy: 0.8644 - val_loss: 0.3818 - val_accuracy: 0.8634\n",
      "Epoch 7/10\n",
      "2625/2625 [==============================] - 15s 6ms/step - loss: 0.3710 - accuracy: 0.8680 - val_loss: 0.3808 - val_accuracy: 0.8601\n",
      "Epoch 8/10\n",
      "2625/2625 [==============================] - 15s 6ms/step - loss: 0.3606 - accuracy: 0.8707 - val_loss: 0.3742 - val_accuracy: 0.8660\n",
      "Epoch 9/10\n",
      "2625/2625 [==============================] - 15s 6ms/step - loss: 0.3489 - accuracy: 0.8751 - val_loss: 0.3663 - val_accuracy: 0.8663\n",
      "Epoch 10/10\n",
      "2625/2625 [==============================] - 15s 6ms/step - loss: 0.3409 - accuracy: 0.8773 - val_loss: 0.3558 - val_accuracy: 0.8724\n"
     ]
    }
   ],
   "source": [
    "# Train and evaluate the model\n",
    "history = model.fit(data_train,\n",
    "                    epochs=10,\n",
    "                    validation_data=data_valid)"
   ]
  },
  {
   "cell_type": "markdown",
   "metadata": {
    "id": "kNN6M5wH7vis"
   },
   "source": [
    "## Plotting the learning curve"
   ]
  },
  {
   "cell_type": "markdown",
   "metadata": {
    "id": "YXGVkBFl78Cr"
   },
   "source": [
    "### Creating the directory for the figure"
   ]
  },
  {
   "cell_type": "code",
   "execution_count": 22,
   "metadata": {
    "executionInfo": {
     "elapsed": 185069,
     "status": "ok",
     "timestamp": 1603590582472,
     "user": {
      "displayName": "Huang Yuxiao",
      "photoUrl": "",
      "userId": "05167076769245149404"
     },
     "user_tz": 240
    },
    "id": "96NjNOfw7xK3"
   },
   "outputs": [],
   "source": [
    "# Make directory\n",
    "directory = os.path.dirname(abspath_curr + 'figure/')\n",
    "if not os.path.exists(directory):\n",
    "    os.makedirs(directory)"
   ]
  },
  {
   "cell_type": "markdown",
   "metadata": {
    "id": "MAg4LlUjb1Uz"
   },
   "source": [
    "### Plotting the figure"
   ]
  },
  {
   "cell_type": "code",
   "execution_count": 23,
   "metadata": {
    "colab": {
     "base_uri": "https://localhost:8080/",
     "height": 348
    },
    "executionInfo": {
     "elapsed": 185467,
     "status": "ok",
     "timestamp": 1603590582898,
     "user": {
      "displayName": "Huang Yuxiao",
      "photoUrl": "",
      "userId": "05167076769245149404"
     },
     "user_tz": 240
    },
    "id": "-1AWpDxk8fqM",
    "outputId": "ab79d57c-4e5e-4e85-f5e7-664d6a160992"
   },
   "outputs": [
    {
     "data": {
      "image/png": "[encoded data removed]",
      "text/plain": [
       "<Figure size 576x360 with 1 Axes>"
      ]
     },
     "metadata": {
      "needs_background": "light",
      "tags": []
     },
     "output_type": "display_data"
    }
   ],
   "source": [
    "import pandas as pd\n",
    "\n",
    "# Create a figure\n",
    "pd.DataFrame(history.history).plot(figsize=(8, 5))\n",
    "\n",
    "# Save and show the figure\n",
    "plt.tight_layout()\n",
    "plt.savefig(abspath_curr + 'figure/learning_curve_without_callback_10.pdf')\n",
    "plt.show()"
   ]
  },
  {
   "cell_type": "markdown",
   "metadata": {
    "id": "M-1Zj2vO9DyX"
   },
   "source": [
    "## Continuing training the model"
   ]
  },
  {
   "cell_type": "code",
   "execution_count": 24,
   "metadata": {
    "colab": {
     "base_uri": "https://localhost:8080/",
     "height": 357
    },
    "executionInfo": {
     "elapsed": 335307,
     "status": "ok",
     "timestamp": 1603590732756,
     "user": {
      "displayName": "Huang Yuxiao",
      "photoUrl": "",
      "userId": "05167076769245149404"
     },
     "user_tz": 240
    },
    "id": "snUBjSrq9RhL",
    "outputId": "329ea9ea-c35d-44e7-9e48-e1078aa1bca1"
   },
   "outputs": [
    {
     "name": "stdout",
     "output_type": "stream",
     "text": [
      "Epoch 1/10\n",
      "2625/2625 [==============================] - 15s 6ms/step - loss: 0.3320 - accuracy: 0.8818 - val_loss: 0.3567 - val_accuracy: 0.8681\n",
      "Epoch 2/10\n",
      "2625/2625 [==============================] - 15s 6ms/step - loss: 0.3247 - accuracy: 0.8839 - val_loss: 0.3599 - val_accuracy: 0.8707\n",
      "Epoch 3/10\n",
      "2625/2625 [==============================] - 15s 6ms/step - loss: 0.3173 - accuracy: 0.8847 - val_loss: 0.3427 - val_accuracy: 0.8768\n",
      "Epoch 4/10\n",
      "2625/2625 [==============================] - 15s 6ms/step - loss: 0.3111 - accuracy: 0.8874 - val_loss: 0.3483 - val_accuracy: 0.8726\n",
      "Epoch 5/10\n",
      "2625/2625 [==============================] - 15s 6ms/step - loss: 0.3055 - accuracy: 0.8908 - val_loss: 0.3458 - val_accuracy: 0.8731\n",
      "Epoch 6/10\n",
      "2625/2625 [==============================] - 15s 6ms/step - loss: 0.3005 - accuracy: 0.8915 - val_loss: 0.3377 - val_accuracy: 0.8768\n",
      "Epoch 7/10\n",
      "2625/2625 [==============================] - 15s 6ms/step - loss: 0.2936 - accuracy: 0.8933 - val_loss: 0.3504 - val_accuracy: 0.8736\n",
      "Epoch 8/10\n",
      "2625/2625 [==============================] - 15s 6ms/step - loss: 0.2903 - accuracy: 0.8948 - val_loss: 0.3498 - val_accuracy: 0.8728\n",
      "Epoch 9/10\n",
      "2625/2625 [==============================] - 15s 6ms/step - loss: 0.2851 - accuracy: 0.8965 - val_loss: 0.3393 - val_accuracy: 0.8737\n",
      "Epoch 10/10\n",
      "2625/2625 [==============================] - 15s 6ms/step - loss: 0.2794 - accuracy: 0.8995 - val_loss: 0.3485 - val_accuracy: 0.8744\n"
     ]
    }
   ],
   "source": [
    "# Train and evaluate the model\n",
    "history = model.fit(data_train,\n",
    "                    epochs=10,\n",
    "                    validation_data=data_valid)"
   ]
  },
  {
   "cell_type": "markdown",
   "metadata": {
    "id": "FVHoHUQX9X6C"
   },
   "source": [
    "## Plotting the learning curve"
   ]
  },
  {
   "cell_type": "code",
   "execution_count": 25,
   "metadata": {
    "colab": {
     "base_uri": "https://localhost:8080/",
     "height": 348
    },
    "executionInfo": {
     "elapsed": 335291,
     "status": "ok",
     "timestamp": 1603590732757,
     "user": {
      "displayName": "Huang Yuxiao",
      "photoUrl": "",
      "userId": "05167076769245149404"
     },
     "user_tz": 240
    },
    "id": "RpO4aqUU9gZ2",
    "outputId": "231032e4-febc-4bb1-f6f0-21ce37286677"
   },
   "outputs": [
    {
     "data": {
      "image/png": "[encoded data removed]",
      "text/plain": [
       "<Figure size 576x360 with 1 Axes>"
      ]
     },
     "metadata": {
      "needs_background": "light",
      "tags": []
     },
     "output_type": "display_data"
    }
   ],
   "source": [
    "# Create a figure\n",
    "pd.DataFrame(history.history).plot(figsize=(8, 5))\n",
    "\n",
    "# Save and show the figure\n",
    "plt.tight_layout()\n",
    "plt.savefig(abspath_curr + 'figure/learning_curve_without_callback_10_20.pdf')\n",
    "plt.show()"
   ]
  },
  {
   "cell_type": "markdown",
   "metadata": {
    "id": "YddKUU4Y9j7w"
   },
   "source": [
    "# Training (With ModelCheckpoint callback to Save the Model)"
   ]
  },
  {
   "cell_type": "markdown",
   "metadata": {
    "id": "Bgnj4lj3cUCt"
   },
   "source": [
    "## Creating the directory for the saved model"
   ]
  },
  {
   "cell_type": "code",
   "execution_count": 26,
   "metadata": {
    "executionInfo": {
     "elapsed": 335290,
     "status": "ok",
     "timestamp": 1603590732758,
     "user": {
      "displayName": "Huang Yuxiao",
      "photoUrl": "",
      "userId": "05167076769245149404"
     },
     "user_tz": 240
    },
    "id": "mL8IheVrcVWh"
   },
   "outputs": [],
   "source": [
    "# Make directory\n",
    "directory = os.path.dirname(abspath_curr + 'model/')\n",
    "if not os.path.exists(directory):\n",
    "    os.makedirs(directory)"
   ]
  },
  {
   "cell_type": "markdown",
   "metadata": {
    "id": "MZXkv8srb1IS"
   },
   "source": [
    "## Building the model"
   ]
  },
  {
   "cell_type": "code",
   "execution_count": 27,
   "metadata": {
    "colab": {
     "base_uri": "https://localhost:8080/",
     "height": 289
    },
    "executionInfo": {
     "elapsed": 335424,
     "status": "ok",
     "timestamp": 1603590732920,
     "user": {
      "displayName": "Huang Yuxiao",
      "photoUrl": "",
      "userId": "05167076769245149404"
     },
     "user_tz": 240
    },
    "id": "aIR5sQVsb5Yh",
    "outputId": "62f5daea-210e-4e05-d841-5e0957479b00"
   },
   "outputs": [
    {
     "name": "stdout",
     "output_type": "stream",
     "text": [
      "Model: \"sequential_2\"\n",
      "_________________________________________________________________\n",
      "Layer (type)                 Output Shape              Param #   \n",
      "=================================================================\n",
      "flatten_2 (Flatten)          (None, 784)               0         \n",
      "_________________________________________________________________\n",
      "dense_6 (Dense)              (None, 50)                39250     \n",
      "_________________________________________________________________\n",
      "dense_7 (Dense)              (None, 50)                2550      \n",
      "_________________________________________________________________\n",
      "dense_8 (Dense)              (None, 10)                510       \n",
      "=================================================================\n",
      "Total params: 42,310\n",
      "Trainable params: 42,310\n",
      "Non-trainable params: 0\n",
      "_________________________________________________________________\n"
     ]
    }
   ],
   "source": [
    "# A sequential dnn\n",
    "model = keras.models.Sequential()\n",
    "\n",
    "# Add the input layer\n",
    "model.add(keras.layers.Flatten(input_shape=[28, 28]))\n",
    "\n",
    "# Add two hidden layers\n",
    "model.add(keras.layers.Dense(50, activation=\"relu\"))\n",
    "model.add(keras.layers.Dense(50, activation=\"relu\"))\n",
    "\n",
    "# Add the output layer\n",
    "model.add(keras.layers.Dense(10, activation=\"softmax\"))\n",
    "\n",
    "# The model summary\n",
    "model.summary()"
   ]
  },
  {
   "cell_type": "markdown",
   "metadata": {
    "id": "9u4FMgAsMcgN"
   },
   "source": [
    "## Compiling the model"
   ]
  },
  {
   "cell_type": "code",
   "execution_count": 28,
   "metadata": {
    "executionInfo": {
     "elapsed": 335424,
     "status": "ok",
     "timestamp": 1603590732921,
     "user": {
      "displayName": "Huang Yuxiao",
      "photoUrl": "",
      "userId": "05167076769245149404"
     },
     "user_tz": 240
    },
    "id": "R4oQfnVpMdo-"
   },
   "outputs": [],
   "source": [
    "# Compile the model\n",
    "model.compile(optimizer=keras.optimizers.SGD(),\n",
    "              loss='sparse_categorical_crossentropy',\n",
    "              metrics=['accuracy'])"
   ]
  },
  {
   "cell_type": "markdown",
   "metadata": {
    "id": "gLdyw9n_VzUb"
   },
   "source": [
    "## Training the model"
   ]
  },
  {
   "cell_type": "markdown",
   "metadata": {
    "id": "u9KTlbBT8EXs"
   },
   "source": [
    "### Setting callbacks"
   ]
  },
  {
   "cell_type": "code",
   "execution_count": 29,
   "metadata": {
    "executionInfo": {
     "elapsed": 335422,
     "status": "ok",
     "timestamp": 1603590732921,
     "user": {
      "displayName": "Huang Yuxiao",
      "photoUrl": "",
      "userId": "05167076769245149404"
     },
     "user_tz": 240
    },
    "id": "5_iUDJLP8K44"
   },
   "outputs": [],
   "source": [
    "# ModelCheckpoint callback\n",
    "model_checkpoint_cb = keras.callbacks.ModelCheckpoint(\n",
    "    filepath=abspath_curr + \"/model/model.h5\")"
   ]
  },
  {
   "cell_type": "markdown",
   "metadata": {
    "id": "3ylOeFwqb1U8"
   },
   "source": [
    "### Training, evaluating and saving the model"
   ]
  },
  {
   "cell_type": "code",
   "execution_count": 30,
   "metadata": {
    "colab": {
     "base_uri": "https://localhost:8080/",
     "height": 357
    },
    "executionInfo": {
     "elapsed": 487502,
     "status": "ok",
     "timestamp": 1603590885021,
     "user": {
      "displayName": "Huang Yuxiao",
      "photoUrl": "",
      "userId": "05167076769245149404"
     },
     "user_tz": 240
    },
    "id": "0lES5CBZV176",
    "outputId": "51ca7ad7-b808-4c8e-bb45-6153084ecb2a"
   },
   "outputs": [
    {
     "name": "stdout",
     "output_type": "stream",
     "text": [
      "Epoch 1/10\n",
      "2625/2625 [==============================] - 15s 6ms/step - loss: 0.7363 - accuracy: 0.7445 - val_loss: 0.5123 - val_accuracy: 0.8208\n",
      "Epoch 2/10\n",
      "2625/2625 [==============================] - 15s 6ms/step - loss: 0.4954 - accuracy: 0.8257 - val_loss: 0.4899 - val_accuracy: 0.8208\n",
      "Epoch 3/10\n",
      "2625/2625 [==============================] - 15s 6ms/step - loss: 0.4513 - accuracy: 0.8405 - val_loss: 0.4665 - val_accuracy: 0.8346\n",
      "Epoch 4/10\n",
      "2625/2625 [==============================] - 15s 6ms/step - loss: 0.4239 - accuracy: 0.8490 - val_loss: 0.4308 - val_accuracy: 0.8481\n",
      "Epoch 5/10\n",
      "2625/2625 [==============================] - 15s 6ms/step - loss: 0.4054 - accuracy: 0.8561 - val_loss: 0.4057 - val_accuracy: 0.8545\n",
      "Epoch 6/10\n",
      "2625/2625 [==============================] - 16s 6ms/step - loss: 0.3875 - accuracy: 0.8617 - val_loss: 0.4157 - val_accuracy: 0.8540\n",
      "Epoch 7/10\n",
      "2625/2625 [==============================] - 15s 6ms/step - loss: 0.3756 - accuracy: 0.8660 - val_loss: 0.3902 - val_accuracy: 0.8609\n",
      "Epoch 8/10\n",
      "2625/2625 [==============================] - 15s 6ms/step - loss: 0.3633 - accuracy: 0.8685 - val_loss: 0.3691 - val_accuracy: 0.8673\n",
      "Epoch 9/10\n",
      "2625/2625 [==============================] - 15s 6ms/step - loss: 0.3533 - accuracy: 0.8744 - val_loss: 0.3682 - val_accuracy: 0.8679\n",
      "Epoch 10/10\n",
      "2625/2625 [==============================] - 15s 6ms/step - loss: 0.3444 - accuracy: 0.8764 - val_loss: 0.3666 - val_accuracy: 0.8698\n"
     ]
    }
   ],
   "source": [
    "## Setting Callbacks\n",
    "\n",
    "# ModelCheckpoint callback\n",
    "model_checkpoint_cb = keras.callbacks.ModelCheckpoint(\n",
    "    filepath=abspath_curr + \"/model/model.h5\")# Train, evaluate and save the model\n",
    "history = model.fit(data_train,\n",
    "                    epochs=10,\n",
    "                    validation_data=data_valid,\n",
    "                    callbacks=[model_checkpoint_cb])"
   ]
  },
  {
   "cell_type": "markdown",
   "metadata": {
    "id": "naOELFqc6pSB"
   },
   "source": [
    "## Plotting the learning curve"
   ]
  },
  {
   "cell_type": "code",
   "execution_count": 31,
   "metadata": {
    "colab": {
     "base_uri": "https://localhost:8080/",
     "height": 348
    },
    "executionInfo": {
     "elapsed": 487469,
     "status": "ok",
     "timestamp": 1603590885022,
     "user": {
      "displayName": "Huang Yuxiao",
      "photoUrl": "",
      "userId": "05167076769245149404"
     },
     "user_tz": 240
    },
    "id": "ZucB_4TQ4APW",
    "outputId": "7ea009f2-08a6-4557-8116-4caeaf4b2915"
   },
   "outputs": [
    {
     "data": {
      "image/png": "[encoded data removed]",
      "text/plain": [
       "<Figure size 576x360 with 1 Axes>"
      ]
     },
     "metadata": {
      "needs_background": "light",
      "tags": []
     },
     "output_type": "display_data"
    }
   ],
   "source": [
    "# Create a figure\n",
    "pd.DataFrame(history.history).plot(figsize=(8, 5))\n",
    "\n",
    "# Save and show the figure\n",
    "plt.tight_layout()\n",
    "plt.savefig(abspath_curr + 'figure/learning_curve_with_modelcheckpoint_save_10.pdf')\n",
    "plt.show()"
   ]
  },
  {
   "cell_type": "markdown",
   "metadata": {
    "id": "IzuVOyb4MDsO"
   },
   "source": [
    "## Loading the saved model"
   ]
  },
  {
   "cell_type": "code",
   "execution_count": 32,
   "metadata": {
    "executionInfo": {
     "elapsed": 487563,
     "status": "ok",
     "timestamp": 1603590885144,
     "user": {
      "displayName": "Huang Yuxiao",
      "photoUrl": "",
      "userId": "05167076769245149404"
     },
     "user_tz": 240
    },
    "id": "gG-RcICvMHSC"
   },
   "outputs": [],
   "source": [
    "# Load the saved model\n",
    "model = keras.models.load_model(abspath_curr + \"/model/model.h5\")"
   ]
  },
  {
   "cell_type": "markdown",
   "metadata": {
    "id": "9hZ_aQOvHoOd"
   },
   "source": [
    "## Continuing training the model"
   ]
  },
  {
   "cell_type": "code",
   "execution_count": 33,
   "metadata": {
    "colab": {
     "base_uri": "https://localhost:8080/",
     "height": 357
    },
    "executionInfo": {
     "elapsed": 640426,
     "status": "ok",
     "timestamp": 1603591038025,
     "user": {
      "displayName": "Huang Yuxiao",
      "photoUrl": "",
      "userId": "05167076769245149404"
     },
     "user_tz": 240
    },
    "id": "cfwdufi_Hq9K",
    "outputId": "d1dae1a0-d7d9-4490-c66d-6da7d1fb74a1"
   },
   "outputs": [
    {
     "name": "stdout",
     "output_type": "stream",
     "text": [
      "Epoch 1/10\n",
      "2625/2625 [==============================] - 15s 6ms/step - loss: 0.3373 - accuracy: 0.1014 - val_loss: 0.3620 - val_accuracy: 0.1153\n",
      "Epoch 2/10\n",
      "2625/2625 [==============================] - 15s 6ms/step - loss: 0.3289 - accuracy: 0.1031 - val_loss: 0.3696 - val_accuracy: 0.0894\n",
      "Epoch 3/10\n",
      "2625/2625 [==============================] - 15s 6ms/step - loss: 0.3221 - accuracy: 0.1025 - val_loss: 0.3435 - val_accuracy: 0.1082\n",
      "Epoch 4/10\n",
      "2625/2625 [==============================] - 15s 6ms/step - loss: 0.3159 - accuracy: 0.1023 - val_loss: 0.3516 - val_accuracy: 0.0988\n",
      "Epoch 5/10\n",
      "2625/2625 [==============================] - 15s 6ms/step - loss: 0.3114 - accuracy: 0.1015 - val_loss: 0.3659 - val_accuracy: 0.0980\n",
      "Epoch 6/10\n",
      "2625/2625 [==============================] - 15s 6ms/step - loss: 0.3037 - accuracy: 0.1015 - val_loss: 0.3420 - val_accuracy: 0.0994\n",
      "Epoch 7/10\n",
      "2625/2625 [==============================] - 15s 6ms/step - loss: 0.3002 - accuracy: 0.1020 - val_loss: 0.3507 - val_accuracy: 0.0852\n",
      "Epoch 8/10\n",
      "2625/2625 [==============================] - 15s 6ms/step - loss: 0.2946 - accuracy: 0.1006 - val_loss: 0.3416 - val_accuracy: 0.1068\n",
      "Epoch 9/10\n",
      "2625/2625 [==============================] - 15s 6ms/step - loss: 0.2900 - accuracy: 0.1014 - val_loss: 0.3474 - val_accuracy: 0.0888\n",
      "Epoch 10/10\n",
      "2625/2625 [==============================] - 15s 6ms/step - loss: 0.2859 - accuracy: 0.1007 - val_loss: 0.3398 - val_accuracy: 0.1017\n"
     ]
    }
   ],
   "source": [
    "# Train, evaluate and save the model\n",
    "history = model.fit(data_train,\n",
    "                    epochs=10,\n",
    "                    validation_data=data_valid,\n",
    "                    callbacks=[model_checkpoint_cb])"
   ]
  },
  {
   "cell_type": "markdown",
   "metadata": {
    "id": "jooIV3Tr38rw"
   },
   "source": [
    "## Plotting the learning curve\n",
    "\n"
   ]
  },
  {
   "cell_type": "code",
   "execution_count": 34,
   "metadata": {
    "colab": {
     "base_uri": "https://localhost:8080/",
     "height": 348
    },
    "executionInfo": {
     "elapsed": 640409,
     "status": "ok",
     "timestamp": 1603591038026,
     "user": {
      "displayName": "Huang Yuxiao",
      "photoUrl": "",
      "userId": "05167076769245149404"
     },
     "user_tz": 240
    },
    "id": "ZdftIsbI3_nV",
    "outputId": "cff02635-62a7-4f06-84c1-1298290c930b"
   },
   "outputs": [
    {
     "data": {
      "image/png": "[encoded data removed]",
      "text/plain": [
       "<Figure size 576x360 with 1 Axes>"
      ]
     },
     "metadata": {
      "needs_background": "light",
      "tags": []
     },
     "output_type": "display_data"
    }
   ],
   "source": [
    "# Create a figure\n",
    "pd.DataFrame(history.history).plot(figsize=(8, 5))\n",
    "\n",
    "# Save and show the figure\n",
    "plt.tight_layout()\n",
    "plt.savefig(abspath_curr + 'figure/learning_curve_with_modelcheckpoint_save_10_20.pdf')\n",
    "plt.show()"
   ]
  },
  {
   "cell_type": "markdown",
   "metadata": {
    "id": "IWVJ3KwUub-j"
   },
   "source": [
    "# Training (With ModelCheckpoint callback to Save the Best Model)\n",
    "\n",
    "\n"
   ]
  },
  {
   "cell_type": "markdown",
   "metadata": {
    "id": "Cmzcn8FqcgmU"
   },
   "source": [
    "## Building the model"
   ]
  },
  {
   "cell_type": "code",
   "execution_count": 35,
   "metadata": {
    "colab": {
     "base_uri": "https://localhost:8080/",
     "height": 289
    },
    "executionInfo": {
     "elapsed": 640381,
     "status": "ok",
     "timestamp": 1603591038027,
     "user": {
      "displayName": "Huang Yuxiao",
      "photoUrl": "",
      "userId": "05167076769245149404"
     },
     "user_tz": 240
    },
    "id": "Ff-n6bJBcfwq",
    "outputId": "973cf5ad-f370-4ecb-a10d-f771a51dd98d"
   },
   "outputs": [
    {
     "name": "stdout",
     "output_type": "stream",
     "text": [
      "Model: \"sequential_3\"\n",
      "_________________________________________________________________\n",
      "Layer (type)                 Output Shape              Param #   \n",
      "=================================================================\n",
      "flatten_3 (Flatten)          (None, 784)               0         \n",
      "_________________________________________________________________\n",
      "dense_9 (Dense)              (None, 50)                39250     \n",
      "_________________________________________________________________\n",
      "dense_10 (Dense)             (None, 50)                2550      \n",
      "_________________________________________________________________\n",
      "dense_11 (Dense)             (None, 10)                510       \n",
      "=================================================================\n",
      "Total params: 42,310\n",
      "Trainable params: 42,310\n",
      "Non-trainable params: 0\n",
      "_________________________________________________________________\n"
     ]
    }
   ],
   "source": [
    "# A sequential dnn\n",
    "model = keras.models.Sequential()\n",
    "\n",
    "# Add the input layer\n",
    "model.add(keras.layers.Flatten(input_shape=[28, 28]))\n",
    "\n",
    "# Add two hidden layers\n",
    "model.add(keras.layers.Dense(50, activation=\"relu\"))\n",
    "model.add(keras.layers.Dense(50, activation=\"relu\"))\n",
    "\n",
    "# Add the output layer\n",
    "model.add(keras.layers.Dense(10, activation=\"softmax\"))\n",
    "\n",
    "# The model summary\n",
    "model.summary()"
   ]
  },
  {
   "cell_type": "markdown",
   "metadata": {
    "id": "6sbntreiMnnE"
   },
   "source": [
    "## Compiling the model"
   ]
  },
  {
   "cell_type": "code",
   "execution_count": 36,
   "metadata": {
    "executionInfo": {
     "elapsed": 640373,
     "status": "ok",
     "timestamp": 1603591038027,
     "user": {
      "displayName": "Huang Yuxiao",
      "photoUrl": "",
      "userId": "05167076769245149404"
     },
     "user_tz": 240
    },
    "id": "pIQ7PZl9Mr-Y"
   },
   "outputs": [],
   "source": [
    "# Compile the model\n",
    "model.compile(optimizer=keras.optimizers.SGD(),\n",
    "              loss='sparse_categorical_crossentropy',\n",
    "              metrics=['accuracy'])"
   ]
  },
  {
   "cell_type": "markdown",
   "metadata": {
    "id": "vbsr_YQ_IE0T"
   },
   "source": [
    "## Setting Callbacks"
   ]
  },
  {
   "cell_type": "code",
   "execution_count": 37,
   "metadata": {
    "executionInfo": {
     "elapsed": 640373,
     "status": "ok",
     "timestamp": 1603591038028,
     "user": {
      "displayName": "Huang Yuxiao",
      "photoUrl": "",
      "userId": "05167076769245149404"
     },
     "user_tz": 240
    },
    "id": "YbZSbKRQIJJC"
   },
   "outputs": [],
   "source": [
    "# ModelCheckpoint callback\n",
    "model_checkpoint_cb = keras.callbacks.ModelCheckpoint(\n",
    "    filepath=abspath_curr + \"/model/model.h5\",\n",
    "    save_best_only=True)"
   ]
  },
  {
   "cell_type": "markdown",
   "metadata": {
    "id": "Z8dQknUOIWID"
   },
   "source": [
    "## Training the model"
   ]
  },
  {
   "cell_type": "markdown",
   "metadata": {
    "id": "KcPj1Q3xb1VZ"
   },
   "source": [
    "### Setting callbacks"
   ]
  },
  {
   "cell_type": "code",
   "execution_count": 38,
   "metadata": {
    "executionInfo": {
     "elapsed": 640372,
     "status": "ok",
     "timestamp": 1603591038028,
     "user": {
      "displayName": "Huang Yuxiao",
      "photoUrl": "",
      "userId": "05167076769245149404"
     },
     "user_tz": 240
    },
    "id": "vMkIIsexb1VZ"
   },
   "outputs": [],
   "source": [
    "# ModelCheckpoint callback\n",
    "model_checkpoint_cb = keras.callbacks.ModelCheckpoint(\n",
    "    filepath=abspath_curr + \"/model/model.h5\",\n",
    "    save_best_only=True)"
   ]
  },
  {
   "cell_type": "markdown",
   "metadata": {
    "id": "hFpjkd99b1Va"
   },
   "source": [
    "### Training, evaluating and saving the best model"
   ]
  },
  {
   "cell_type": "code",
   "execution_count": 39,
   "metadata": {
    "colab": {
     "base_uri": "https://localhost:8080/",
     "height": 697
    },
    "executionInfo": {
     "elapsed": 942085,
     "status": "ok",
     "timestamp": 1603591339769,
     "user": {
      "displayName": "Huang Yuxiao",
      "photoUrl": "",
      "userId": "05167076769245149404"
     },
     "user_tz": 240
    },
    "id": "a5vhwhdAIZyH",
    "outputId": "661f2700-748f-458d-f4e9-068518b2b0d2"
   },
   "outputs": [
    {
     "name": "stdout",
     "output_type": "stream",
     "text": [
      "Epoch 1/20\n",
      "2625/2625 [==============================] - 15s 6ms/step - loss: 0.7480 - accuracy: 0.7429 - val_loss: 0.5262 - val_accuracy: 0.8183\n",
      "Epoch 2/20\n",
      "2625/2625 [==============================] - 15s 6ms/step - loss: 0.5020 - accuracy: 0.8232 - val_loss: 0.5015 - val_accuracy: 0.8172\n",
      "Epoch 3/20\n",
      "2625/2625 [==============================] - 15s 6ms/step - loss: 0.4535 - accuracy: 0.8390 - val_loss: 0.4335 - val_accuracy: 0.8482\n",
      "Epoch 4/20\n",
      "2625/2625 [==============================] - 15s 6ms/step - loss: 0.4243 - accuracy: 0.8489 - val_loss: 0.4270 - val_accuracy: 0.8510\n",
      "Epoch 5/20\n",
      "2625/2625 [==============================] - 15s 6ms/step - loss: 0.4030 - accuracy: 0.8566 - val_loss: 0.4096 - val_accuracy: 0.8550\n",
      "Epoch 6/20\n",
      "2625/2625 [==============================] - 15s 6ms/step - loss: 0.3864 - accuracy: 0.8631 - val_loss: 0.4347 - val_accuracy: 0.8464\n",
      "Epoch 7/20\n",
      "2625/2625 [==============================] - 15s 6ms/step - loss: 0.3723 - accuracy: 0.8674 - val_loss: 0.3675 - val_accuracy: 0.8690\n",
      "Epoch 8/20\n",
      "2625/2625 [==============================] - 15s 6ms/step - loss: 0.3612 - accuracy: 0.8699 - val_loss: 0.3636 - val_accuracy: 0.8678\n",
      "Epoch 9/20\n",
      "2625/2625 [==============================] - 15s 6ms/step - loss: 0.3510 - accuracy: 0.8740 - val_loss: 0.3817 - val_accuracy: 0.8609\n",
      "Epoch 10/20\n",
      "2625/2625 [==============================] - 15s 6ms/step - loss: 0.3410 - accuracy: 0.8767 - val_loss: 0.3939 - val_accuracy: 0.8528\n",
      "Epoch 11/20\n",
      "2625/2625 [==============================] - 15s 6ms/step - loss: 0.3342 - accuracy: 0.8793 - val_loss: 0.3532 - val_accuracy: 0.8713\n",
      "Epoch 12/20\n",
      "2625/2625 [==============================] - 15s 6ms/step - loss: 0.3268 - accuracy: 0.8814 - val_loss: 0.3496 - val_accuracy: 0.8741\n",
      "Epoch 13/20\n",
      "2625/2625 [==============================] - 15s 6ms/step - loss: 0.3205 - accuracy: 0.8847 - val_loss: 0.3447 - val_accuracy: 0.8760\n",
      "Epoch 14/20\n",
      "2625/2625 [==============================] - 15s 6ms/step - loss: 0.3131 - accuracy: 0.8867 - val_loss: 0.3401 - val_accuracy: 0.8761\n",
      "Epoch 15/20\n",
      "2625/2625 [==============================] - 15s 6ms/step - loss: 0.3076 - accuracy: 0.8894 - val_loss: 0.3554 - val_accuracy: 0.8733\n",
      "Epoch 16/20\n",
      "2625/2625 [==============================] - 15s 6ms/step - loss: 0.3026 - accuracy: 0.8904 - val_loss: 0.3513 - val_accuracy: 0.8740\n",
      "Epoch 17/20\n",
      "2625/2625 [==============================] - 15s 6ms/step - loss: 0.2982 - accuracy: 0.8915 - val_loss: 0.3396 - val_accuracy: 0.8763\n",
      "Epoch 18/20\n",
      "2625/2625 [==============================] - 15s 6ms/step - loss: 0.2918 - accuracy: 0.8950 - val_loss: 0.3323 - val_accuracy: 0.8795\n",
      "Epoch 19/20\n",
      "2625/2625 [==============================] - 14s 5ms/step - loss: 0.2890 - accuracy: 0.8943 - val_loss: 0.3430 - val_accuracy: 0.8761\n",
      "Epoch 20/20\n",
      "2625/2625 [==============================] - 14s 6ms/step - loss: 0.2833 - accuracy: 0.8970 - val_loss: 0.3259 - val_accuracy: 0.8820\n"
     ]
    }
   ],
   "source": [
    "# Train, evaluate and save the best model\n",
    "history = model.fit(data_train,\n",
    "                    epochs=20,\n",
    "                    validation_data=data_valid,\n",
    "                    callbacks=[model_checkpoint_cb])"
   ]
  },
  {
   "cell_type": "markdown",
   "metadata": {
    "id": "F_NuGQw-Idt6"
   },
   "source": [
    "## Plotting the learning curve"
   ]
  },
  {
   "cell_type": "code",
   "execution_count": 40,
   "metadata": {
    "colab": {
     "base_uri": "https://localhost:8080/",
     "height": 348
    },
    "executionInfo": {
     "elapsed": 942067,
     "status": "ok",
     "timestamp": 1603591339770,
     "user": {
      "displayName": "Huang Yuxiao",
      "photoUrl": "",
      "userId": "05167076769245149404"
     },
     "user_tz": 240
    },
    "id": "Z2fsZ8jOIgqD",
    "outputId": "ad305000-43b3-4327-b973-dde92dddf583"
   },
   "outputs": [
    {
     "data": {
      "image/png": "[encoded data removed]",
      "text/plain": [
       "<Figure size 576x360 with 1 Axes>"
      ]
     },
     "metadata": {
      "needs_background": "light",
      "tags": []
     },
     "output_type": "display_data"
    }
   ],
   "source": [
    "# Create a figure\n",
    "pd.DataFrame(history.history).plot(figsize=(8, 5))\n",
    "\n",
    "# Save and show the figure\n",
    "plt.tight_layout()\n",
    "plt.savefig(abspath_curr + 'figure/learning_curve_with_modelcheckpoint_save_best.pdf')\n",
    "plt.show()"
   ]
  },
  {
   "cell_type": "markdown",
   "metadata": {
    "id": "wUW8TGCUNAn0"
   },
   "source": [
    "# Training (With ModelCheckpoint and EarlyStopping)"
   ]
  },
  {
   "cell_type": "markdown",
   "metadata": {
    "id": "X4gb9xducnlO"
   },
   "source": [
    "## Building the model"
   ]
  },
  {
   "cell_type": "code",
   "execution_count": 41,
   "metadata": {
    "colab": {
     "base_uri": "https://localhost:8080/",
     "height": 289
    },
    "executionInfo": {
     "elapsed": 942050,
     "status": "ok",
     "timestamp": 1603591339771,
     "user": {
      "displayName": "Huang Yuxiao",
      "photoUrl": "",
      "userId": "05167076769245149404"
     },
     "user_tz": 240
    },
    "id": "X1DlY50Wcm0B",
    "outputId": "0c5b5898-d71b-4484-d738-c28c563835ca"
   },
   "outputs": [
    {
     "name": "stdout",
     "output_type": "stream",
     "text": [
      "Model: \"sequential_4\"\n",
      "_________________________________________________________________\n",
      "Layer (type)                 Output Shape              Param #   \n",
      "=================================================================\n",
      "flatten_4 (Flatten)          (None, 784)               0         \n",
      "_________________________________________________________________\n",
      "dense_12 (Dense)             (None, 50)                39250     \n",
      "_________________________________________________________________\n",
      "dense_13 (Dense)             (None, 50)                2550      \n",
      "_________________________________________________________________\n",
      "dense_14 (Dense)             (None, 10)                510       \n",
      "=================================================================\n",
      "Total params: 42,310\n",
      "Trainable params: 42,310\n",
      "Non-trainable params: 0\n",
      "_________________________________________________________________\n"
     ]
    }
   ],
   "source": [
    "# A sequential dnn\n",
    "model = keras.models.Sequential()\n",
    "\n",
    "# Add the input layer\n",
    "model.add(keras.layers.Flatten(input_shape=[28, 28]))\n",
    "\n",
    "# Add two hidden layers\n",
    "model.add(keras.layers.Dense(50, activation=\"relu\"))\n",
    "model.add(keras.layers.Dense(50, activation=\"relu\"))\n",
    "\n",
    "# Add the output layer\n",
    "model.add(keras.layers.Dense(10, activation=\"softmax\"))\n",
    "\n",
    "# The model summary\n",
    "model.summary()"
   ]
  },
  {
   "cell_type": "markdown",
   "metadata": {
    "id": "5l9DbmVzNQR7"
   },
   "source": [
    "## Compiling the model"
   ]
  },
  {
   "cell_type": "code",
   "execution_count": 42,
   "metadata": {
    "executionInfo": {
     "elapsed": 942049,
     "status": "ok",
     "timestamp": 1603591339772,
     "user": {
      "displayName": "Huang Yuxiao",
      "photoUrl": "",
      "userId": "05167076769245149404"
     },
     "user_tz": 240
    },
    "id": "_e7LoJ-KNRo4"
   },
   "outputs": [],
   "source": [
    "# Compile the model\n",
    "model.compile(optimizer=keras.optimizers.SGD(),\n",
    "              loss='sparse_categorical_crossentropy',\n",
    "              metrics=['accuracy'])"
   ]
  },
  {
   "cell_type": "markdown",
   "metadata": {
    "id": "p5GGitWVNj0m"
   },
   "source": [
    "## Training the model"
   ]
  },
  {
   "cell_type": "markdown",
   "metadata": {
    "id": "8b69RD7fNVDx"
   },
   "source": [
    "### Setting callbacks"
   ]
  },
  {
   "cell_type": "code",
   "execution_count": 43,
   "metadata": {
    "executionInfo": {
     "elapsed": 942047,
     "status": "ok",
     "timestamp": 1603591339772,
     "user": {
      "displayName": "Huang Yuxiao",
      "photoUrl": "",
      "userId": "05167076769245149404"
     },
     "user_tz": 240
    },
    "id": "hZEE71ajNWGb"
   },
   "outputs": [],
   "source": [
    "# ModelCheckpoint callback\n",
    "model_checkpoint_cb = keras.callbacks.ModelCheckpoint(\n",
    "    filepath=abspath_curr + \"/model/model.h5\",\n",
    "    save_best_only=True)\n",
    "\n",
    "# EarlyStopping callback\n",
    "early_stopping_cb = keras.callbacks.EarlyStopping(\n",
    "    patience=5,\n",
    "    restore_best_weights=True)"
   ]
  },
  {
   "cell_type": "markdown",
   "metadata": {
    "id": "5LFhN5y-b1Vh"
   },
   "source": [
    "### Training, evaluating and saving the best model"
   ]
  },
  {
   "cell_type": "code",
   "execution_count": null,
   "metadata": {
    "colab": {
     "base_uri": "https://localhost:8080/",
     "height": 391
    },
    "id": "4ZS7h4WENqLt",
    "outputId": "39a443d0-f422-4185-c598-ef79b343917f"
   },
   "outputs": [
    {
     "name": "stdout",
     "output_type": "stream",
     "text": [
      "Epoch 1/20\n",
      "2625/2625 [==============================] - 15s 6ms/step - loss: 0.7136 - accuracy: 0.7580 - val_loss: 0.5236 - val_accuracy: 0.8225\n",
      "Epoch 2/20\n",
      "2625/2625 [==============================] - 15s 6ms/step - loss: 0.4922 - accuracy: 0.8299 - val_loss: 0.4656 - val_accuracy: 0.8373\n",
      "Epoch 3/20\n",
      "2625/2625 [==============================] - 15s 6ms/step - loss: 0.4508 - accuracy: 0.8406 - val_loss: 0.4290 - val_accuracy: 0.8499\n",
      "Epoch 4/20\n",
      "2625/2625 [==============================] - 15s 6ms/step - loss: 0.4220 - accuracy: 0.8517 - val_loss: 0.4143 - val_accuracy: 0.8523\n",
      "Epoch 5/20\n",
      "2625/2625 [==============================] - 15s 6ms/step - loss: 0.4036 - accuracy: 0.8573 - val_loss: 0.4161 - val_accuracy: 0.8529\n",
      "Epoch 6/20\n",
      "2625/2625 [==============================] - 15s 6ms/step - loss: 0.3860 - accuracy: 0.8636 - val_loss: 0.3938 - val_accuracy: 0.8617\n",
      "Epoch 7/20\n",
      "2625/2625 [==============================] - 15s 6ms/step - loss: 0.3747 - accuracy: 0.8663 - val_loss: 0.3804 - val_accuracy: 0.8643\n",
      "Epoch 8/20\n",
      "2625/2625 [==============================] - 14s 6ms/step - loss: 0.3630 - accuracy: 0.8710 - val_loss: 0.3824 - val_accuracy: 0.8652\n",
      "Epoch 9/20\n",
      "2625/2625 [==============================] - 15s 6ms/step - loss: 0.3514 - accuracy: 0.8750 - val_loss: 0.3773 - val_accuracy: 0.8640\n",
      "Epoch 10/20\n",
      "2625/2625 [==============================] - 15s 6ms/step - loss: 0.3432 - accuracy: 0.8770 - val_loss: 0.3550 - val_accuracy: 0.8735\n",
      "Epoch 11/20\n",
      " 380/2625 [===>..........................] - ETA: 8s - loss: 0.3310 - accuracy: 0.8867"
     ]
    }
   ],
   "source": [
    "# Train, evaluate and save the best model\n",
    "history = model.fit(\n",
    "    data_train,\n",
    "    epochs=20,\n",
    "    validation_data=data_valid,\n",
    "    callbacks=[model_checkpoint_cb, early_stopping_cb])"
   ]
  },
  {
   "cell_type": "markdown",
   "metadata": {
    "id": "NJoCcgsIR-TE"
   },
   "source": [
    "## Plotting the learning curve"
   ]
  },
  {
   "cell_type": "code",
   "execution_count": null,
   "metadata": {
    "id": "Z9f7MA8xSA4f"
   },
   "outputs": [],
   "source": [
    "# Create a figure\n",
    "pd.DataFrame(history.history).plot(figsize=(8, 5))\n",
    "\n",
    "# Save and show the figure\n",
    "plt.tight_layout()\n",
    "plt.savefig(abspath_curr + 'figure/learning_curve_with_modelcheckpoint_earlystopping.pdf')\n",
    "plt.show()"
   ]
  },
  {
   "cell_type": "markdown",
   "metadata": {
    "id": "RkGivY_MA6m1"
   },
   "source": [
    "# Testing the Best Model"
   ]
  },
  {
   "cell_type": "markdown",
   "metadata": {
    "id": "pjg97rxBvTsD"
   },
   "source": [
    "## Loading the saved model"
   ]
  },
  {
   "cell_type": "code",
   "execution_count": null,
   "metadata": {
    "id": "vWOYFg8BvYI9"
   },
   "outputs": [],
   "source": [
    "# Load the model\n",
    "model = keras.models.load_model(abspath_curr + \"/model/model.h5\")"
   ]
  },
  {
   "cell_type": "markdown",
   "metadata": {
    "id": "YAfOtSI7wajL"
   },
   "source": [
    "## Evaluating the model"
   ]
  },
  {
   "cell_type": "code",
   "execution_count": null,
   "metadata": {
    "id": "aoJnAfYfYDjH"
   },
   "outputs": [],
   "source": [
    "loss, accuracy = model.evaluate(data_test)"
   ]
  }
 ],
 "metadata": {
  "accelerator": "GPU",
  "colab": {
   "collapsed_sections": [],
   "name": "code_example.ipynb",
   "provenance": []
  },
  "kernelspec": {
   "display_name": "Python 3",
   "language": "python",
   "name": "python3"
  },
  "language_info": {
   "codemirror_mode": {
    "name": "ipython",
    "version": 3
   },
   "file_extension": ".py",
   "mimetype": "text/x-python",
   "name": "python",
   "nbconvert_exporter": "python",
   "pygments_lexer": "ipython3",
   "version": "3.7.6"
  },
  "toc": {
   "base_numbering": 1,
   "nav_menu": {},
   "number_sections": true,
   "sideBar": true,
   "skip_h1_title": false,
   "title_cell": "Table of Contents",
   "title_sidebar": "Contents",
   "toc_cell": true,
   "toc_position": {},
   "toc_section_display": true,
   "toc_window_display": false
  }
 },
 "nbformat": 4,
 "nbformat_minor": 1
}
